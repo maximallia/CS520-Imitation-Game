{
  "nbformat": 4,
  "nbformat_minor": 0,
  "metadata": {
    "colab": {
      "name": "AI520_imitator1.ipynb",
      "provenance": [],
      "collapsed_sections": []
    },
    "kernelspec": {
      "name": "python3",
      "display_name": "Python 3"
    },
    "language_info": {
      "name": "python"
    },
    "accelerator": "GPU"
  },
  "cells": [
    {
      "cell_type": "code",
      "execution_count": null,
      "metadata": {
        "id": "l25QpfTRg4_5"
      },
      "outputs": [],
      "source": [
        "import numpy as np\n",
        "import tensorflow as tf\n",
        "import os"
      ]
    },
    {
      "cell_type": "code",
      "source": [
        "# Text file data converted to integer data type\n",
        "from google.colab import drive\n",
        "drive.mount('/content/gdrive')\n",
        "\n",
        "%cd /content/gdrive/My\\ Drive/Colab\\ Notebooks/AI_project\n"
      ],
      "metadata": {
        "colab": {
          "base_uri": "https://localhost:8080/"
        },
        "id": "JLP89mGOg_Fi",
        "outputId": "74d95d3c-53ed-46cc-bebe-c6cc7614935d"
      },
      "execution_count": null,
      "outputs": [
        {
          "output_type": "stream",
          "name": "stdout",
          "text": [
            "Mounted at /content/gdrive\n",
            "/content/gdrive/My Drive/Colab Notebooks/AI_project\n"
          ]
        }
      ]
    },
    {
      "cell_type": "code",
      "source": [
        "!pwd"
      ],
      "metadata": {
        "colab": {
          "base_uri": "https://localhost:8080/"
        },
        "id": "NaB36lIZA0BU",
        "outputId": "4501ec37-be12-43c5-e2df-6722ea738a58"
      },
      "execution_count": null,
      "outputs": [
        {
          "output_type": "stream",
          "name": "stdout",
          "text": [
            "/content/gdrive/My Drive/Colab Notebooks/AI_project\n"
          ]
        }
      ]
    },
    {
      "cell_type": "code",
      "source": [
        "#Load txt file\n",
        "def getRawData(string):\n",
        "  lines = []\n",
        "\n",
        "  f = open(string, \"r\")\n",
        "\n",
        "  lines = f.readlines()\n",
        "\n",
        "  return lines"
      ],
      "metadata": {
        "id": "NGIZKWmEhhlY"
      },
      "execution_count": null,
      "outputs": []
    },
    {
      "cell_type": "code",
      "source": [
        "#turns [0,0,0,1] into 4 for directions zero default \n",
        "def getDir(line):\n",
        "\tif(line[0] == '1'):\n",
        "\t\treturn 1\n",
        "\tif(line[1] == '1'):\n",
        "\t\treturn 2\n",
        "\tif(line[3] == '1'):\n",
        "\t\treturn 3\n",
        "\tif(line[4] == '1'):\n",
        "\t\treturn 4\n",
        "\treturn 0 "
      ],
      "metadata": {
        "id": "XiHHMG6hhvjD"
      },
      "execution_count": null,
      "outputs": []
    },
    {
      "cell_type": "code",
      "source": [
        "def genMatricies(lines):\n",
        "\tx_data = []\n",
        "\tx_row_list = []\n",
        "\ty_data = []\n",
        "\n",
        "\tfor x in range(0,len(lines)):\n",
        "\t\t# This is used to get rid of the \\n in the txt file\n",
        "\t\tif (x % 12 == 0):\n",
        "\t\t\tfirst = 0\n",
        "\t\t\tcontinue\n",
        "\t\t#/the 51th line is the direction vector\n",
        "\t\tif (x % 12 == 11):\n",
        "\t\t\ty_data.append(getDir(lines[x]))\n",
        "\t\t\t\n",
        "\t\t#everything else is the matrix\n",
        "\t\telse:\n",
        "\t\t\t#get each char we then convert it to string for tensorflow calcs\n",
        "\t\t\tfor sym in lines[x]:\n",
        "\t\t\t\ti = 0\n",
        "\t\t\t\tif first == 0:\n",
        "\t\t\t\t\ti = 1\n",
        "\t\t\t\t\tfirst = 1\n",
        "\n",
        "\t\t\t\tif(sym == 'X'):\n",
        "\t\t\t\t\ti = -1\n",
        "\t\t\t\telif(sym == '\\n'):\n",
        "\t\t\t\t\tcontinue\n",
        "\t\t\t\telif(sym == '2'):\n",
        "\t\t\t\t\ti = 2\n",
        "\t\t\t\telif(sym == '1'):\n",
        "\t\t\t\t\ti = 1\n",
        "\t\t\t\tx_row_list.append(i)\n",
        "\t\t\t#when we have 2500 chars we know we have a 50x50 make it an array and add it to list\n",
        "\t\t\tif(len(x_row_list) == 100):\n",
        "\t\t\t\tx_data.append(np.array(x_row_list).reshape(10,10))\n",
        "\t\t\t\tx_row_list = []\n",
        "\t\t\t# turn list into numpy array, turn numpy array into catagorical input\n",
        "\treturn (np.array(x_data),tf.keras.utils.to_categorical(np.array(y_data), 4))"
      ],
      "metadata": {
        "id": "XvOwsOg5hHuF"
      },
      "execution_count": null,
      "outputs": []
    },
    {
      "cell_type": "markdown",
      "source": [
        "DATA CREATION"
      ],
      "metadata": {
        "id": "wFrrHFj0nCos"
      }
    },
    {
      "cell_type": "code",
      "source": [
        "lines = getRawData(\"proto10_train.txt\")\n",
        "x1 ,y1 = genMatricies(lines)"
      ],
      "metadata": {
        "id": "3rH30bjFjXCw"
      },
      "execution_count": null,
      "outputs": []
    },
    {
      "cell_type": "code",
      "source": [
        "np.save('proto10_train_x1.npy', x1)\n"
      ],
      "metadata": {
        "id": "9KeVRMc9lBSb"
      },
      "execution_count": null,
      "outputs": []
    },
    {
      "cell_type": "code",
      "source": [
        "np.save('proto10_train_y1.npy', y1)"
      ],
      "metadata": {
        "id": "H1yF4xr9n2sq"
      },
      "execution_count": null,
      "outputs": []
    },
    {
      "cell_type": "code",
      "source": [
        "x1 = np.load(\"proto10_train_x1.npy\")\n",
        "y1 = np.load(\"proto10_train_y1.npy\")"
      ],
      "metadata": {
        "id": "xImbNIr-lBZT"
      },
      "execution_count": null,
      "outputs": []
    },
    {
      "cell_type": "code",
      "source": [
        "train_x1 = np.load('proto50_500_train_x1.npy') \n",
        "#train_y1 = np.load('proto50_train_y1.npy')"
      ],
      "metadata": {
        "id": "fg3fkeBEnU3i"
      },
      "execution_count": null,
      "outputs": []
    },
    {
      "cell_type": "code",
      "source": [
        "train_y1 = np.load('proto50_500_train_y1.npy')\n",
        "#train_y2 = np.load('proto50_train_y2.npy')\n",
        "#total_y = np.append(train_y1, train_y2)\n",
        "#np.save('proto50_train_total_y.npy', total_y)"
      ],
      "metadata": {
        "id": "his07Suipmny"
      },
      "execution_count": null,
      "outputs": []
    },
    {
      "cell_type": "markdown",
      "source": [
        "TRAINING AGENT"
      ],
      "metadata": {
        "id": "E2OngOqknFZW"
      }
    },
    {
      "cell_type": "code",
      "source": [
        "print(tf.config.list_physical_devices('GPU'))\n",
        "#checkpoint_path = \"/content/gdrive/My Drive/Colab Notebooks/AI_project/daniel_proto50_model/proto50_train\"\n",
        "checkpoint_path = \"/content/gdrive/My Drive/Colab Notebooks/AI_project/daniel_proto10_model/\"\n",
        "checkpoint_dir = os.path.dirname(checkpoint_path)\n",
        "EPOCHS_DEFAULT = 3"
      ],
      "metadata": {
        "colab": {
          "base_uri": "https://localhost:8080/"
        },
        "id": "KMb_Q0DWh1IO",
        "outputId": "81607f1f-64a8-44d9-a214-f8f2b88f3640"
      },
      "execution_count": null,
      "outputs": [
        {
          "output_type": "stream",
          "name": "stdout",
          "text": [
            "[PhysicalDevice(name='/physical_device:GPU:0', device_type='GPU')]\n"
          ]
        }
      ]
    },
    {
      "cell_type": "code",
      "source": [
        "\n",
        "def buildModel():\n",
        "  global EPOCHS_DEFAULT\n",
        "  # add more layers here as needed\n",
        "  gridInput = tf.keras.layers.Input(shape = (10,10))\n",
        "  flatten_image = tf.keras.layers.Flatten()( gridInput )\n",
        "\n",
        "  #dense_1 = tf.keras.layers.Dense( units = 1000, activation = tf.nn.relu )( flatten_image )\n",
        "  #dense_2 = tf.keras.layers.Dense( units = 400, activation = tf.nn.relu )( dense_1 )\n",
        "  #dense_3 = tf.keras.layers.Dense( units = 200, activation = tf.nn.relu )( dense_2 )\n",
        "  #dense_4 = tf.keras.layers.Dense( units = 100, activation = tf.nn.relu )( dense_3 )\n",
        "\n",
        "  #infDec = tf.keras.layers.Dense( units = 4, activation = None )( dense_4 )\n",
        "\n",
        "  dense_1 = tf.keras.layers.Dense( units = 16, activation = tf.nn.relu )( flatten_image )\n",
        "\n",
        "  infDec = tf.keras.layers.Dense( units = 4, activation = None )( dense_1 )\n",
        "\n",
        "  probabilities = tf.keras.layers.Softmax()( infDec )\n",
        "\n",
        "  model = tf.keras.Model( inputs = gridInput, outputs = probabilities)\n",
        "  model.compile( optimizer = 'adam', loss = 'categorical_crossentropy', metrics = ['accuracy'] )\n",
        "  latest = tf.train.latest_checkpoint(checkpoint_dir)\n",
        " \n",
        "  if(latest == None):\n",
        "    return model\n",
        "\n",
        "  model.load_weights(latest)\n",
        "  EPOCHS_DEFAULT = 3\n",
        "\n",
        "  return model"
      ],
      "metadata": {
        "id": "WLJkiNNzh4bd"
      },
      "execution_count": null,
      "outputs": []
    },
    {
      "cell_type": "code",
      "source": [
        "# this allows you to resume or expand upon training\n",
        "cp_callback = tf.keras.callbacks.ModelCheckpoint(filepath=checkpoint_path,\n",
        "                                                 save_weights_only=True,\n",
        "                                                 verbose=1)"
      ],
      "metadata": {
        "id": "kK3aA4R7h7I5"
      },
      "execution_count": null,
      "outputs": []
    },
    {
      "cell_type": "code",
      "source": [
        "tf.test.is_gpu_available()"
      ],
      "metadata": {
        "colab": {
          "base_uri": "https://localhost:8080/"
        },
        "id": "5TNEEJffaB-O",
        "outputId": "a5d18f8b-ea94-4ee5-a089-4162c4fc51aa"
      },
      "execution_count": null,
      "outputs": [
        {
          "output_type": "execute_result",
          "data": {
            "text/plain": [
              "True"
            ]
          },
          "metadata": {},
          "execution_count": 63
        }
      ]
    },
    {
      "cell_type": "code",
      "source": [
        "model = buildModel()"
      ],
      "metadata": {
        "id": "VUCM6MDyJ9Df"
      },
      "execution_count": null,
      "outputs": []
    },
    {
      "cell_type": "code",
      "source": [
        "#model = buildModel()\n",
        "\n",
        "#model = tf.keras.models.load_model(checkpoint_path)\n",
        "\n",
        "history = model.fit(x1 , y1, epochs = EPOCHS_DEFAULT,\n",
        "          callbacks=[cp_callback] )\n"
      ],
      "metadata": {
        "colab": {
          "base_uri": "https://localhost:8080/"
        },
        "id": "PoPsbjQAh84M",
        "outputId": "40c79763-7eb3-4452-a6be-cdfcfa7337b7"
      },
      "execution_count": null,
      "outputs": [
        {
          "output_type": "stream",
          "name": "stdout",
          "text": [
            "Epoch 1/3\n",
            "26976/26983 [============================>.] - ETA: 0s - loss: 0.6169 - accuracy: 0.7311\n",
            "Epoch 00001: saving model to /content/gdrive/My Drive/Colab Notebooks/AI_project/daniel_proto10_model/\n",
            "26983/26983 [==============================] - 62s 2ms/step - loss: 0.6168 - accuracy: 0.7311\n",
            "Epoch 2/3\n",
            "26965/26983 [============================>.] - ETA: 0s - loss: 0.4541 - accuracy: 0.8007\n",
            "Epoch 00002: saving model to /content/gdrive/My Drive/Colab Notebooks/AI_project/daniel_proto10_model/\n",
            "26983/26983 [==============================] - 62s 2ms/step - loss: 0.4540 - accuracy: 0.8007\n",
            "Epoch 3/3\n",
            "26975/26983 [============================>.] - ETA: 0s - loss: 0.4189 - accuracy: 0.8122\n",
            "Epoch 00003: saving model to /content/gdrive/My Drive/Colab Notebooks/AI_project/daniel_proto10_model/\n",
            "26983/26983 [==============================] - 62s 2ms/step - loss: 0.4189 - accuracy: 0.8122\n"
          ]
        }
      ]
    },
    {
      "cell_type": "markdown",
      "source": [
        "TESTING"
      ],
      "metadata": {
        "id": "fKHEhpABrIyn"
      }
    },
    {
      "cell_type": "code",
      "source": [
        "def getTestData(string):\n",
        "  lines = []\n",
        "\n",
        "  f = open(string, \"r\")\n",
        "\n",
        "  lines = f.readlines()\n",
        "\n",
        "  return lines"
      ],
      "metadata": {
        "id": "EVpXhJ7jFev1"
      },
      "execution_count": null,
      "outputs": []
    },
    {
      "cell_type": "code",
      "source": [
        "test_lines = getTestData(\"proto10_test.txt\")\n",
        "\n",
        "tx,ty = genMatricies(test_lines)"
      ],
      "metadata": {
        "id": "zNvWUtbfFobs",
        "colab": {
          "base_uri": "https://localhost:8080/",
          "height": 322
        },
        "outputId": "803a667c-cda2-4f18-bf0e-c539b5b336e7"
      },
      "execution_count": null,
      "outputs": [
        {
          "output_type": "error",
          "ename": "KeyboardInterrupt",
          "evalue": "ignored",
          "traceback": [
            "\u001b[0;31m---------------------------------------------------------------------------\u001b[0m",
            "\u001b[0;31mKeyboardInterrupt\u001b[0m                         Traceback (most recent call last)",
            "\u001b[0;32m<ipython-input-68-2b8f5f06d01c>\u001b[0m in \u001b[0;36m<module>\u001b[0;34m()\u001b[0m\n\u001b[1;32m      1\u001b[0m \u001b[0mtest_lines\u001b[0m \u001b[0;34m=\u001b[0m \u001b[0mgetTestData\u001b[0m\u001b[0;34m(\u001b[0m\u001b[0;34m\"proto10_test.txt\"\u001b[0m\u001b[0;34m)\u001b[0m\u001b[0;34m\u001b[0m\u001b[0;34m\u001b[0m\u001b[0m\n\u001b[1;32m      2\u001b[0m \u001b[0;34m\u001b[0m\u001b[0m\n\u001b[0;32m----> 3\u001b[0;31m \u001b[0mtx\u001b[0m\u001b[0;34m,\u001b[0m\u001b[0mty\u001b[0m \u001b[0;34m=\u001b[0m \u001b[0mgenMatricies\u001b[0m\u001b[0;34m(\u001b[0m\u001b[0mtest_lines\u001b[0m\u001b[0;34m)\u001b[0m\u001b[0;34m\u001b[0m\u001b[0;34m\u001b[0m\u001b[0m\n\u001b[0m",
            "\u001b[0;32m<ipython-input-32-daf9b796b928>\u001b[0m in \u001b[0;36mgenMatricies\u001b[0;34m(lines)\u001b[0m\n\u001b[1;32m     16\u001b[0m                 \u001b[0;32melse\u001b[0m\u001b[0;34m:\u001b[0m\u001b[0;34m\u001b[0m\u001b[0;34m\u001b[0m\u001b[0m\n\u001b[1;32m     17\u001b[0m                         \u001b[0;31m#get each char we then convert it to string for tensorflow calcs\u001b[0m\u001b[0;34m\u001b[0m\u001b[0;34m\u001b[0m\u001b[0;34m\u001b[0m\u001b[0m\n\u001b[0;32m---> 18\u001b[0;31m                         \u001b[0;32mfor\u001b[0m \u001b[0msym\u001b[0m \u001b[0;32min\u001b[0m \u001b[0mlines\u001b[0m\u001b[0;34m[\u001b[0m\u001b[0mx\u001b[0m\u001b[0;34m]\u001b[0m\u001b[0;34m:\u001b[0m\u001b[0;34m\u001b[0m\u001b[0;34m\u001b[0m\u001b[0m\n\u001b[0m\u001b[1;32m     19\u001b[0m                                 \u001b[0mi\u001b[0m \u001b[0;34m=\u001b[0m \u001b[0;36m0\u001b[0m\u001b[0;34m\u001b[0m\u001b[0;34m\u001b[0m\u001b[0m\n\u001b[1;32m     20\u001b[0m                                 \u001b[0;32mif\u001b[0m \u001b[0mfirst\u001b[0m \u001b[0;34m==\u001b[0m \u001b[0;36m0\u001b[0m\u001b[0;34m:\u001b[0m\u001b[0;34m\u001b[0m\u001b[0;34m\u001b[0m\u001b[0m\n",
            "\u001b[0;31mKeyboardInterrupt\u001b[0m: "
          ]
        }
      ]
    },
    {
      "cell_type": "code",
      "source": [
        "np.save('proto10_test_x1.npy', tx)\n",
        "np.save('proto10_test_y1.npy', ty)"
      ],
      "metadata": {
        "id": "nUPt3x6XFwwr"
      },
      "execution_count": null,
      "outputs": []
    },
    {
      "cell_type": "code",
      "source": [
        "tx = np.load('proto10_test_x1.npy')\n",
        "ty = np.load('proto10_test_y1.npy')"
      ],
      "metadata": {
        "id": "zA0idStunRfu"
      },
      "execution_count": null,
      "outputs": []
    },
    {
      "cell_type": "code",
      "source": [
        "#compile model using accuracy to measure model performance\n",
        "model.compile(optimizer='adam', loss='categorical_crossentropy', metrics=['accuracy'])"
      ],
      "metadata": {
        "id": "Ww2MBvpzh-Mz"
      },
      "execution_count": null,
      "outputs": []
    },
    {
      "cell_type": "code",
      "source": [
        "\n",
        "model.fit(x1, y1, validation_data=(tx, ty), epochs=3)"
      ],
      "metadata": {
        "colab": {
          "base_uri": "https://localhost:8080/"
        },
        "id": "i_0CsJechD5o",
        "outputId": "123337c1-7095-4919-d9d9-5f0a425d74f9"
      },
      "execution_count": null,
      "outputs": [
        {
          "output_type": "stream",
          "name": "stdout",
          "text": [
            "Epoch 1/3\n",
            "26983/26983 [==============================] - 83s 3ms/step - loss: 0.4014 - accuracy: 0.8171 - val_loss: 0.6506 - val_accuracy: 0.7217\n",
            "Epoch 2/3\n",
            "26983/26983 [==============================] - 72s 3ms/step - loss: 0.3893 - accuracy: 0.8222 - val_loss: 0.6814 - val_accuracy: 0.7179\n",
            "Epoch 3/3\n",
            "26983/26983 [==============================] - 82s 3ms/step - loss: 0.3816 - accuracy: 0.8241 - val_loss: 0.7004 - val_accuracy: 0.7294\n"
          ]
        },
        {
          "output_type": "execute_result",
          "data": {
            "text/plain": [
              "<keras.callbacks.History at 0x7f417c0683d0>"
            ]
          },
          "metadata": {},
          "execution_count": 71
        }
      ]
    },
    {
      "cell_type": "code",
      "source": [
        ""
      ],
      "metadata": {
        "id": "dsqR0S4FnA6l"
      },
      "execution_count": null,
      "outputs": []
    },
    {
      "cell_type": "markdown",
      "source": [
        "GEN MAZE"
      ],
      "metadata": {
        "id": "neIpYX5GztS6"
      }
    },
    {
      "cell_type": "code",
      "source": [
        "#map constructor\n",
        "from random import randint\n",
        "from matplotlib import pyplot as plot\n"
      ],
      "metadata": {
        "id": "l-fx458rzuJn"
      },
      "execution_count": null,
      "outputs": []
    },
    {
      "cell_type": "code",
      "source": [
        "#size of each grid\n",
        "grid_size = 10\n",
        "#dim x dim for maze\n",
        "size = int(10)\n",
        "#prob of wall appearance (0~1)\n",
        "p_wall = 30"
      ],
      "metadata": {
        "id": "sEIULhqAz1i5"
      },
      "execution_count": null,
      "outputs": []
    },
    {
      "cell_type": "code",
      "source": [
        "maze= [['w' for _ in range(size)]for _ in range(size)]"
      ],
      "metadata": {
        "id": "jR2Ff3taz1lR"
      },
      "execution_count": null,
      "outputs": []
    },
    {
      "cell_type": "code",
      "source": [
        "def createMaze():\n",
        "\n",
        "  x_data = []\n",
        "  x_row_list = []\n",
        "\n",
        "  for row in range(size):\n",
        "      for col in range(size):\n",
        "          s = randint(1,100)\n",
        "          p = p_wall\n",
        "          if s<=p:\n",
        "            maze[row][col] = 'X'\n",
        "          else:\n",
        "            maze[row][col] = '0'\n",
        "            \n",
        "  maze[0][0]= '0'\n",
        "  maze[size-1][size-1] = '2'"
      ],
      "metadata": {
        "id": "pOlFIRTSz1no"
      },
      "execution_count": null,
      "outputs": []
    },
    {
      "cell_type": "code",
      "source": [
        "createMaze()"
      ],
      "metadata": {
        "id": "Gda3XniD0Kr6"
      },
      "execution_count": null,
      "outputs": []
    },
    {
      "cell_type": "code",
      "source": [
        "print(maze)"
      ],
      "metadata": {
        "colab": {
          "base_uri": "https://localhost:8080/"
        },
        "id": "xFlFEMP4SG4Z",
        "outputId": "f0e8eb13-efe1-46b2-c8ab-94bd87c7e176"
      },
      "execution_count": null,
      "outputs": [
        {
          "output_type": "stream",
          "name": "stdout",
          "text": [
            "[['0', 'X', '0', 'X', 'X', '0', 'X', '0', '0', 'X'], ['0', 'X', '0', '0', 'X', '0', '0', '0', '0', '0'], ['X', '0', '0', '0', 'X', '0', '0', 'X', 'X', 'X'], ['X', '0', '0', '0', '0', '0', 'X', 'X', '0', 'X'], ['0', '0', 'X', '0', '0', '0', 'X', '0', '0', 'X'], ['0', '0', '0', '0', '0', 'X', '0', '0', 'X', 'X'], ['0', '0', 'X', 'X', '0', '0', 'X', '0', '0', 'X'], ['X', 'X', '0', '0', '0', '0', '0', 'X', '0', '0'], ['0', '0', '0', 'X', '0', '0', '0', '0', '0', '0'], ['0', '0', '0', 'X', '0', '0', 'X', '0', '0', '2']]\n"
          ]
        }
      ]
    },
    {
      "cell_type": "code",
      "source": [
        "def genMaze(size):\n",
        "  x_data = []\n",
        "  x_row_list = []\n",
        "\n",
        "  for row in range(size):\n",
        "  #get each char we then convert it to string for tensorflow calcs\n",
        "    for col in maze[row]:\n",
        "      i = 0\n",
        "      if(col == 'X'):\n",
        "        i = -1\n",
        "      elif(col == '\\n'):\n",
        "        continue\n",
        "      elif(col == '2'):\n",
        "        i = 2\n",
        "      elif(col == '1'):\n",
        "        i = 1\n",
        "      x_row_list.append(i)\n",
        "    #when we have 2500 chars we know we have a 50x50 make it an array and add it to list\n",
        "  if(len(x_row_list) == 100):\n",
        "    x_data.append(np.array(x_row_list).reshape(10,10))\n",
        "    x_row_list = []\n",
        "  # turn list into numpy array, turn numpy array into catagorical input\n",
        "  return np.array(x_data)"
      ],
      "metadata": {
        "id": "1GlvGuwB0Kun"
      },
      "execution_count": null,
      "outputs": []
    },
    {
      "cell_type": "code",
      "source": [
        "def getDir(y_arr):\n",
        "  max = -9\n",
        "  idx = 0\n",
        "  curr = 0\n",
        "  for i in range(len(y_arr)):\n",
        "    if y_arr[i] > max:\n",
        "      idx = i\n",
        "  \n",
        "  dir = [0,0,0,0]\n",
        "  dir[idx] = 1\n",
        "  \n",
        "  \n",
        "  return dir"
      ],
      "metadata": {
        "id": "sGj-6oSFWzh4"
      },
      "execution_count": null,
      "outputs": []
    },
    {
      "cell_type": "code",
      "source": [
        "new_maze = genMaze(size)"
      ],
      "metadata": {
        "id": "DG3rtwWk0KxE"
      },
      "execution_count": null,
      "outputs": []
    },
    {
      "cell_type": "code",
      "source": [
        "print(new_maze)"
      ],
      "metadata": {
        "colab": {
          "base_uri": "https://localhost:8080/"
        },
        "id": "wqEfTkWoR9qK",
        "outputId": "e7c5d175-c152-45e6-8308-940c2c5cdbff"
      },
      "execution_count": null,
      "outputs": [
        {
          "output_type": "stream",
          "name": "stdout",
          "text": [
            "[[[ 0  0  0  0  0  0  0 -1  0 -1]\n",
            "  [ 0  0  0  0  0  0  0  0  0 -1]\n",
            "  [ 0  0  0  0  0  0  0  0  0  0]\n",
            "  [-1  0  0 -1  0  0  0  0 -1 -1]\n",
            "  [-1  0 -1  0  0 -1  0  0  0 -1]\n",
            "  [ 0 -1 -1  0 -1  0 -1 -1 -1  0]\n",
            "  [ 0  0  0  0  0  0 -1  0 -1  0]\n",
            "  [-1  0  0  0  0  0  0  0  0  0]\n",
            "  [-1  0  0 -1  0  0  0  0  0  0]\n",
            "  [ 0  0  0  0  0  0  0  0  0  2]]]\n"
          ]
        }
      ]
    },
    {
      "cell_type": "code",
      "source": [
        "maze= [['w' for _ in range(size)]for _ in range(size)]\n",
        "createMaze()\n",
        "new_maze = genMaze(size)\n",
        "new_maze[0][0][0] = 1\n",
        "print(new_maze)"
      ],
      "metadata": {
        "id": "wkBqCCf9Lg1M",
        "colab": {
          "base_uri": "https://localhost:8080/"
        },
        "outputId": "de8630bb-9cbf-4160-ec39-4bbf0c62ce7a"
      },
      "execution_count": null,
      "outputs": [
        {
          "output_type": "stream",
          "name": "stdout",
          "text": [
            "[[[ 1  0  0  0  0  0  0 -1  0 -1]\n",
            "  [ 0  0  0  0  0  0  0  0  0 -1]\n",
            "  [ 0  0  0  0  0  0  0  0  0  0]\n",
            "  [-1  0  0 -1  0  0  0  0 -1 -1]\n",
            "  [-1  0 -1  0  0 -1  0  0  0 -1]\n",
            "  [ 0 -1 -1  0 -1  0 -1 -1 -1  0]\n",
            "  [ 0  0  0  0  0  0 -1  0 -1  0]\n",
            "  [-1  0  0  0  0  0  0  0  0  0]\n",
            "  [-1  0  0 -1  0  0  0  0  0  0]\n",
            "  [ 0  0  0  0  0  0  0  0  0  2]]]\n"
          ]
        }
      ]
    },
    {
      "cell_type": "code",
      "source": [
        "print(tx[:15])\n",
        "direct = model.predict(tx[:15])"
      ],
      "metadata": {
        "colab": {
          "base_uri": "https://localhost:8080/"
        },
        "id": "6VcjDjVaSnY8",
        "outputId": "ab9c0867-ef43-4398-f5f5-99aecb608c1f"
      },
      "execution_count": null,
      "outputs": [
        {
          "output_type": "stream",
          "name": "stdout",
          "text": [
            "[[[ 0  0  0 ...  0  0  0]\n",
            "  [ 0  0  0 ...  0  0  0]\n",
            "  [ 0  0  0 ...  0  0  0]\n",
            "  ...\n",
            "  [ 0  0  0 ...  0  0  0]\n",
            "  [ 0  0  0 ...  0  0  0]\n",
            "  [ 0  0  0 ...  0  0  2]]\n",
            "\n",
            " [[ 0  1  0 ...  0  0  0]\n",
            "  [ 0  0  0 ...  0  0  0]\n",
            "  [ 0  0  0 ...  0  0  0]\n",
            "  ...\n",
            "  [ 0  0  0 ...  0  0  0]\n",
            "  [ 0  0  0 ...  0  0  0]\n",
            "  [ 0  0  0 ...  0  0  2]]\n",
            "\n",
            " [[ 0  0  0 ...  0  0  0]\n",
            "  [ 0  1  0 ...  0  0  0]\n",
            "  [ 0  0  0 ...  0  0  0]\n",
            "  ...\n",
            "  [ 0  0  0 ...  0  0  0]\n",
            "  [ 0  0  0 ...  0  0  0]\n",
            "  [ 0  0  0 ...  0  0  2]]\n",
            "\n",
            " ...\n",
            "\n",
            " [[ 0  0  0 ...  0  0  0]\n",
            "  [ 0  0  0 ...  0  0  0]\n",
            "  [ 0  0 -1 ...  0  0  0]\n",
            "  ...\n",
            "  [ 0  0  0 ...  0  0  0]\n",
            "  [ 0  0  0 ...  0  0  0]\n",
            "  [ 0  0  0 ...  0  0  2]]\n",
            "\n",
            " [[ 0  0  0 ...  0  0  0]\n",
            "  [ 0  0  0 ...  0  0  0]\n",
            "  [ 0  0 -1 ...  0  0  0]\n",
            "  ...\n",
            "  [ 0  0  0 ... -1  0  0]\n",
            "  [ 0  0  0 ...  0  0  0]\n",
            "  [ 0  0  0 ...  0  0  2]]\n",
            "\n",
            " [[ 0  0  0 ...  0  0  0]\n",
            "  [ 0  0  0 ...  0  0  0]\n",
            "  [ 0  0 -1 ...  0  0  0]\n",
            "  ...\n",
            "  [ 0  0  0 ... -1 -1  0]\n",
            "  [ 0  0  0 ...  0  0  0]\n",
            "  [ 0  0  0 ...  0  0  2]]]\n"
          ]
        }
      ]
    },
    {
      "cell_type": "code",
      "source": [
        "print(direct[:15])"
      ],
      "metadata": {
        "colab": {
          "base_uri": "https://localhost:8080/"
        },
        "id": "e57vW9cUJASd",
        "outputId": "f416fc5a-b300-4b66-aba2-22980f222191"
      },
      "execution_count": null,
      "outputs": [
        {
          "output_type": "stream",
          "name": "stdout",
          "text": [
            "[[8.5528847e-03 4.8189278e-05 7.7087522e-01 2.2052372e-01]\n",
            " [5.3488437e-13 9.3615345e-05 8.1631157e-04 9.9909008e-01]\n",
            " [3.7918011e-07 3.6593428e-04 2.4853030e-01 7.5110340e-01]\n",
            " [3.4743791e-28 5.2565726e-11 4.1866964e-29 1.0000000e+00]\n",
            " [1.2598440e-14 5.8334724e-08 1.3909444e-07 9.9999988e-01]\n",
            " [2.8214382e-04 1.8242616e-04 1.0351812e-01 8.9601737e-01]\n",
            " [1.0801328e-09 6.2273791e-08 6.4831853e-01 3.5168138e-01]\n",
            " [1.4048910e-09 6.0585211e-05 1.3777557e-02 9.8616195e-01]\n",
            " [7.2407082e-04 8.5876498e-05 1.3980719e-01 8.5938287e-01]\n",
            " [1.9398764e-12 5.6124358e-03 3.0397812e-05 9.9435717e-01]\n",
            " [6.4113208e-11 1.2884502e-10 9.9372226e-01 6.2777568e-03]\n",
            " [1.8183006e-06 9.3414092e-06 4.4354968e-02 9.5563394e-01]\n",
            " [2.3116110e-14 2.9615776e-15 4.0550575e-01 5.9449428e-01]\n",
            " [2.2757077e-04 1.4553044e-06 1.6875135e-02 9.8289585e-01]\n",
            " [1.5442468e-04 1.1517259e-09 1.6363930e-03 9.9820912e-01]]\n"
          ]
        }
      ]
    },
    {
      "cell_type": "code",
      "source": [
        "for i in range(15):\n",
        "  print(getDir(direct[i]))"
      ],
      "metadata": {
        "id": "L541gGXpVhh5",
        "colab": {
          "base_uri": "https://localhost:8080/"
        },
        "outputId": "35e0c1fc-bd6d-4058-9fd2-c19ac7d5e4e4"
      },
      "execution_count": null,
      "outputs": [
        {
          "output_type": "stream",
          "name": "stdout",
          "text": [
            "[0, 0, 0, 1]\n",
            "[0, 0, 0, 1]\n",
            "[0, 0, 0, 1]\n",
            "[0, 0, 0, 1]\n",
            "[0, 0, 0, 1]\n",
            "[0, 0, 0, 1]\n",
            "[0, 0, 0, 1]\n",
            "[0, 0, 0, 1]\n",
            "[0, 0, 0, 1]\n",
            "[0, 0, 0, 1]\n",
            "[0, 0, 0, 1]\n",
            "[0, 0, 0, 1]\n",
            "[0, 0, 0, 1]\n",
            "[0, 0, 0, 1]\n",
            "[0, 0, 0, 1]\n"
          ]
        }
      ]
    },
    {
      "cell_type": "code",
      "source": [
        "print(tx[:10])"
      ],
      "metadata": {
        "colab": {
          "base_uri": "https://localhost:8080/"
        },
        "id": "9Fq55ASbXd9z",
        "outputId": "a135d867-b100-4462-a3b8-e80370700fc6"
      },
      "execution_count": null,
      "outputs": [
        {
          "output_type": "stream",
          "name": "stdout",
          "text": [
            "[[[ 0  0  0  0  0  0  0  0  0  0]\n",
            "  [ 0  0  0  0  0  0  0  0  0  0]\n",
            "  [ 0  0  0  0  0  0  0  0  0  0]\n",
            "  [ 0  0  0  0  0  0  0  0  0  0]\n",
            "  [ 0  0  0  0  0  0  0  0  0  0]\n",
            "  [ 0  0  0  0  0  0  0  0  0  0]\n",
            "  [ 0  0  0  0  0  0  0  0  0  0]\n",
            "  [ 0  0  0  0  0  0  0  0  0  0]\n",
            "  [ 0  0  0  0  0  0  0  0  0  0]\n",
            "  [ 0  0  0  0  0  0  0  0  0  2]]\n",
            "\n",
            " [[ 0  1  0  0  0  0  0  0  0  0]\n",
            "  [ 0  0  0  0  0  0  0  0  0  0]\n",
            "  [ 0  0  0  0  0  0  0  0  0  0]\n",
            "  [ 0  0  0  0  0  0  0  0  0  0]\n",
            "  [ 0  0  0  0  0  0  0  0  0  0]\n",
            "  [ 0  0  0  0  0  0  0  0  0  0]\n",
            "  [ 0  0  0  0  0  0  0  0  0  0]\n",
            "  [ 0  0  0  0  0  0  0  0  0  0]\n",
            "  [ 0  0  0  0  0  0  0  0  0  0]\n",
            "  [ 0  0  0  0  0  0  0  0  0  2]]\n",
            "\n",
            " [[ 0  0  0  0  0  0  0  0  0  0]\n",
            "  [ 0  1  0  0  0  0  0  0  0  0]\n",
            "  [ 0  0  0  0  0  0  0  0  0  0]\n",
            "  [ 0  0  0  0  0  0  0  0  0  0]\n",
            "  [ 0  0  0  0  0  0  0  0  0  0]\n",
            "  [ 0  0  0  0  0  0  0  0  0  0]\n",
            "  [ 0  0  0  0  0  0  0  0  0  0]\n",
            "  [ 0  0  0  0  0  0  0  0  0  0]\n",
            "  [ 0  0  0  0  0  0  0  0  0  0]\n",
            "  [ 0  0  0  0  0  0  0  0  0  2]]\n",
            "\n",
            " [[ 0  0  0  0  0  0  0  0  0  0]\n",
            "  [ 0  0  1  0  0  0  0  0  0  0]\n",
            "  [ 0  0 -1  0  0  0  0  0  0  0]\n",
            "  [ 0  0  0  0  0  0  0  0  0  0]\n",
            "  [ 0  0  0  0  0  0  0  0  0  0]\n",
            "  [ 0  0  0  0  0  0  0  0  0  0]\n",
            "  [ 0  0  0  0  0  0  0  0  0  0]\n",
            "  [ 0  0  0  0  0  0  0  0  0  0]\n",
            "  [ 0  0  0  0  0  0  0  0  0  0]\n",
            "  [ 0  0  0  0  0  0  0  0  0  2]]\n",
            "\n",
            " [[ 0  0  0  0  0  0  0  0  0  0]\n",
            "  [ 0  0  0  1  0  0  0  0  0  0]\n",
            "  [ 0  0 -1  0  0  0  0  0  0  0]\n",
            "  [ 0  0  0  0  0  0  0  0  0  0]\n",
            "  [ 0  0  0  0  0  0  0  0  0  0]\n",
            "  [ 0  0  0  0  0  0  0  0  0  0]\n",
            "  [ 0  0  0  0  0  0  0  0  0  0]\n",
            "  [ 0  0  0  0  0  0  0  0  0  0]\n",
            "  [ 0  0  0  0  0  0  0  0  0  0]\n",
            "  [ 0  0  0  0  0  0  0  0  0  2]]\n",
            "\n",
            " [[ 0  0  0  0  0  0  0  0  0  0]\n",
            "  [ 0  0  0  0  0  0  0  0  0  0]\n",
            "  [ 0  0 -1  1  0  0  0  0  0  0]\n",
            "  [ 0  0  0  0  0  0  0  0  0  0]\n",
            "  [ 0  0  0  0  0  0  0  0  0  0]\n",
            "  [ 0  0  0  0  0  0  0  0  0  0]\n",
            "  [ 0  0  0  0  0  0  0  0  0  0]\n",
            "  [ 0  0  0  0  0  0  0  0  0  0]\n",
            "  [ 0  0  0  0  0  0  0  0  0  0]\n",
            "  [ 0  0  0  0  0  0  0  0  0  2]]\n",
            "\n",
            " [[ 0  0  0  0  0  0  0  0  0  0]\n",
            "  [ 0  0  0  0  0  0  0  0  0  0]\n",
            "  [ 0  0 -1  0  0  0  0  0  0  0]\n",
            "  [ 0  0  0  1  0  0  0  0  0  0]\n",
            "  [ 0  0  0  0  0  0  0  0  0  0]\n",
            "  [ 0  0  0  0  0  0  0  0  0  0]\n",
            "  [ 0  0  0  0  0  0  0  0  0  0]\n",
            "  [ 0  0  0  0  0  0  0  0  0  0]\n",
            "  [ 0  0  0  0  0  0  0  0  0  0]\n",
            "  [ 0  0  0  0  0  0  0  0  0  2]]\n",
            "\n",
            " [[ 0  0  0  0  0  0  0  0  0  0]\n",
            "  [ 0  0  0  0  0  0  0  0  0  0]\n",
            "  [ 0  0 -1  0  0  0  0  0  0  0]\n",
            "  [ 0  0  0  0  1  0  0  0  0  0]\n",
            "  [ 0  0  0  0 -1  0  0  0  0  0]\n",
            "  [ 0  0  0  0  0  0  0  0  0  0]\n",
            "  [ 0  0  0  0  0  0  0  0  0  0]\n",
            "  [ 0  0  0  0  0  0  0  0  0  0]\n",
            "  [ 0  0  0  0  0  0  0  0  0  0]\n",
            "  [ 0  0  0  0  0  0  0  0  0  2]]\n",
            "\n",
            " [[ 0  0  0  0  0  0  0  0  0  0]\n",
            "  [ 0  0  0  0  0  0  0  0  0  0]\n",
            "  [ 0  0 -1  0  0  0  0  0  0  0]\n",
            "  [ 0  0  0  0  0  1  0  0  0  0]\n",
            "  [ 0  0  0  0 -1 -1  0  0  0  0]\n",
            "  [ 0  0  0  0  0  0  0  0  0  0]\n",
            "  [ 0  0  0  0  0  0  0  0  0  0]\n",
            "  [ 0  0  0  0  0  0  0  0  0  0]\n",
            "  [ 0  0  0  0  0  0  0  0  0  0]\n",
            "  [ 0  0  0  0  0  0  0  0  0  2]]\n",
            "\n",
            " [[ 0  0  0  0  0  0  0  0  0  0]\n",
            "  [ 0  0  0  0  0  0  0  0  0  0]\n",
            "  [ 0  0 -1  0  0  0  0  0  0  0]\n",
            "  [ 0  0  0  0  0  0  1  0  0  0]\n",
            "  [ 0  0  0  0 -1 -1  0  0  0  0]\n",
            "  [ 0  0  0  0  0  0  0  0  0  0]\n",
            "  [ 0  0  0  0  0  0  0  0  0  0]\n",
            "  [ 0  0  0  0  0  0  0  0  0  0]\n",
            "  [ 0  0  0  0  0  0  0  0  0  0]\n",
            "  [ 0  0  0  0  0  0  0  0  0  2]]]\n"
          ]
        }
      ]
    },
    {
      "cell_type": "code",
      "source": [
        ""
      ],
      "metadata": {
        "id": "st3T55SyMlmo"
      },
      "execution_count": null,
      "outputs": []
    }
  ]
}