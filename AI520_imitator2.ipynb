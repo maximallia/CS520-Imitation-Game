{
  "nbformat": 4,
  "nbformat_minor": 0,
  "metadata": {
    "colab": {
      "name": "AI520_imitator2.ipynb",
      "provenance": [],
      "collapsed_sections": []
    },
    "kernelspec": {
      "name": "python3",
      "display_name": "Python 3"
    },
    "language_info": {
      "name": "python"
    },
    "accelerator": "GPU"
  },
  "cells": [
    {
      "cell_type": "code",
      "execution_count": null,
      "metadata": {
        "id": "l25QpfTRg4_5"
      },
      "outputs": [],
      "source": [
        "import numpy as np\n",
        "import tensorflow as tf\n",
        "import os"
      ]
    },
    {
      "cell_type": "code",
      "source": [
        "# Text file data converted to integer data type\n",
        "from google.colab import drive\n",
        "drive.mount('/content/gdrive')\n",
        "\n",
        "%cd /content/gdrive/My\\ Drive/Colab\\ Notebooks/AI_project\n"
      ],
      "metadata": {
        "colab": {
          "base_uri": "https://localhost:8080/"
        },
        "id": "JLP89mGOg_Fi",
        "outputId": "ee2645f0-f617-4d74-ede8-459aec88ae83"
      },
      "execution_count": null,
      "outputs": [
        {
          "output_type": "stream",
          "name": "stdout",
          "text": [
            "Drive already mounted at /content/gdrive; to attempt to forcibly remount, call drive.mount(\"/content/gdrive\", force_remount=True).\n",
            "/content/gdrive/My Drive/Colab Notebooks/AI_project\n"
          ]
        }
      ]
    },
    {
      "cell_type": "code",
      "source": [
        "!pwd"
      ],
      "metadata": {
        "colab": {
          "base_uri": "https://localhost:8080/"
        },
        "id": "NaB36lIZA0BU",
        "outputId": "1535b0f2-5b55-4486-ffac-6a9a772053af"
      },
      "execution_count": null,
      "outputs": [
        {
          "output_type": "stream",
          "name": "stdout",
          "text": [
            "/content/gdrive/My Drive/Colab Notebooks/AI_project\n"
          ]
        }
      ]
    },
    {
      "cell_type": "code",
      "source": [
        "#Load txt file\n",
        "def getRawData(string):\n",
        "  lines = []\n",
        "\n",
        "  f = open(string, \"r\")\n",
        "\n",
        "  lines = f.readlines()\n",
        "\n",
        "  return lines"
      ],
      "metadata": {
        "id": "NGIZKWmEhhlY"
      },
      "execution_count": null,
      "outputs": []
    },
    {
      "cell_type": "code",
      "source": [
        "#turns [0,0,0,1] into 4 for directions zero default \n",
        "def getDir(line):\n",
        "\tif(line[0] == '1'):\n",
        "\t\treturn 1\n",
        "\tif(line[1] == '1'):\n",
        "\t\treturn 2\n",
        "\tif(line[3] == '1'):\n",
        "\t\treturn 3\n",
        "\tif(line[4] == '1'):\n",
        "\t\treturn 4\n",
        "\treturn 0 "
      ],
      "metadata": {
        "id": "XiHHMG6hhvjD"
      },
      "execution_count": null,
      "outputs": []
    },
    {
      "cell_type": "code",
      "source": [
        "def genMatricies(lines):\n",
        "\tx_data = []\n",
        "\tx_row_list = []\n",
        "\ty_data = []\n",
        "\n",
        "\tfor x in range(0,len(lines)):\n",
        "\t\t# This is used to get rid of the \\n in the txt file\n",
        "\t\tif (x % 12 == 0):\n",
        "\t\t\tcontinue\n",
        "\t\t#/the 51th line is the direction vector\n",
        "\t\tif (x % 12 == 11):\n",
        "\t\t\ty_data.append(getDir(lines[x]))\n",
        "\t\t\t\n",
        "\t\t#everything else is the matrix\n",
        "\t\telse:\n",
        "\t\t\t#get each char we then convert it to string for tensorflow calcs\n",
        "\t\t\tfor sym in lines[x]:\n",
        "\t\t\t\ti = 0\n",
        "\t\t\t\tif(sym == 'X'):\n",
        "\t\t\t\t\ti = -1\n",
        "\t\t\t\telif(sym == '\\n'):\n",
        "\t\t\t\t\tcontinue\n",
        "\t\t\t\telif(sym == '2'):\n",
        "\t\t\t\t\ti = 2\n",
        "\t\t\t\telif(sym == '1'):\n",
        "\t\t\t\t\ti = 1\n",
        "\t\t\t\tx_row_list.append(i)\n",
        "\t\t\t#when we have 2500 chars we know we have a 50x50 make it an array and add it to list\n",
        "\t\t\tif(len(x_row_list) == 100):\n",
        "\t\t\t\tx_data.append(np.array(x_row_list).reshape(10,10))\n",
        "\t\t\t\tx_row_list = []\n",
        "\t\t\t# turn list into numpy array, turn numpy array into catagorical input\n",
        "\treturn (np.array(x_data),tf.keras.utils.to_categorical(np.array(y_data), 4))"
      ],
      "metadata": {
        "id": "XvOwsOg5hHuF"
      },
      "execution_count": null,
      "outputs": []
    },
    {
      "cell_type": "markdown",
      "source": [
        "DATA CREATION"
      ],
      "metadata": {
        "id": "wFrrHFj0nCos"
      }
    },
    {
      "cell_type": "code",
      "source": [
        "lines = getRawData(\"proto10_train_gen.txt\")\n",
        "x1 ,y1 = genMatricies(lines)"
      ],
      "metadata": {
        "id": "3rH30bjFjXCw"
      },
      "execution_count": null,
      "outputs": []
    },
    {
      "cell_type": "code",
      "source": [
        "print(np.shape(x1))"
      ],
      "metadata": {
        "colab": {
          "base_uri": "https://localhost:8080/"
        },
        "id": "iyvWt7F-qohp",
        "outputId": "25ce005d-413a-4f8f-bf43-eed8bb26e40d"
      },
      "execution_count": null,
      "outputs": [
        {
          "output_type": "stream",
          "name": "stdout",
          "text": [
            "(322592, 10, 10)\n"
          ]
        }
      ]
    },
    {
      "cell_type": "code",
      "source": [
        "#inf kb\n",
        "lines = getRawData(\"proto10_train_infer.txt\")\n",
        "inf1 ,inf2 = genMatricies(lines)"
      ],
      "metadata": {
        "id": "EKcoKZkmRKGk"
      },
      "execution_count": null,
      "outputs": []
    },
    {
      "cell_type": "code",
      "source": [
        "np.save('proto10_train_gen_x1.npy', x1)\n"
      ],
      "metadata": {
        "id": "9KeVRMc9lBSb"
      },
      "execution_count": null,
      "outputs": []
    },
    {
      "cell_type": "code",
      "source": [
        "np.save('proto10_train_gen_y1.npy', y1)"
      ],
      "metadata": {
        "id": "H1yF4xr9n2sq"
      },
      "execution_count": null,
      "outputs": []
    },
    {
      "cell_type": "code",
      "source": [
        "#x1 = np.load(\"proto10_train_x1.npy\")\n",
        "#y1 = np.load(\"proto10_train_y1.npy\")"
      ],
      "metadata": {
        "id": "xImbNIr-lBZT"
      },
      "execution_count": null,
      "outputs": []
    },
    {
      "cell_type": "code",
      "source": [
        "np.save('proto10_train_inf.npy', inf1) \n",
        "#train_y1 = np.load('proto50_train_y1.npy')"
      ],
      "metadata": {
        "id": "fg3fkeBEnU3i"
      },
      "execution_count": null,
      "outputs": []
    },
    {
      "cell_type": "code",
      "source": [
        "#train_y1 = np.load('proto50_500_train_y1.npy')\n",
        "#train_y2 = np.load('proto50_train_y2.npy')\n",
        "#total_y = np.append(train_y1, train_y2)\n",
        "#np.save('proto50_train_total_y.npy', total_y)"
      ],
      "metadata": {
        "id": "his07Suipmny"
      },
      "execution_count": null,
      "outputs": []
    },
    {
      "cell_type": "markdown",
      "source": [
        "TRAINING AGENT"
      ],
      "metadata": {
        "id": "E2OngOqknFZW"
      }
    },
    {
      "cell_type": "code",
      "source": [
        "print(tf.config.list_physical_devices('GPU'))\n",
        "#checkpoint_path = \"/content/gdrive/My Drive/Colab Notebooks/AI_project/daniel_proto50_model/proto50_train\"\n",
        "checkpoint_path = \"/content/gdrive/My Drive/Colab Notebooks/AI_project/daniel_proto10_model/proj2/\"\n",
        "checkpoint_dir = os.path.dirname(checkpoint_path)\n",
        "EPOCHS_DEFAULT = 300"
      ],
      "metadata": {
        "colab": {
          "base_uri": "https://localhost:8080/"
        },
        "id": "KMb_Q0DWh1IO",
        "outputId": "e928d916-5253-4d01-ef60-ad51791303fe"
      },
      "execution_count": null,
      "outputs": [
        {
          "output_type": "stream",
          "name": "stdout",
          "text": [
            "[PhysicalDevice(name='/physical_device:GPU:0', device_type='GPU')]\n"
          ]
        }
      ]
    },
    {
      "cell_type": "code",
      "source": [
        "\n",
        "cat_array = np.concatenate((x1[:10000], inf1[:10000]), axis = 0)\n",
        "\n",
        "y_array = y1[:10000]\n",
        "\n",
        "print(np.shape(cat_array))\n",
        "print(np.shape(y_array))"
      ],
      "metadata": {
        "id": "E7KH3AGRmOG3"
      },
      "execution_count": null,
      "outputs": []
    },
    {
      "cell_type": "code",
      "source": [
        "cat_array = np.reshape(cat_array, (-1, 2, 10, 10))\n"
      ],
      "metadata": {
        "id": "Ym6EKnuEuDGm"
      },
      "execution_count": null,
      "outputs": []
    },
    {
      "cell_type": "code",
      "source": [
        "print(cat_array[5])"
      ],
      "metadata": {
        "colab": {
          "base_uri": "https://localhost:8080/"
        },
        "id": "utaFrV-WrpR-",
        "outputId": "85c25d65-d06b-4a7a-8ef9-2ff3e8e84c07"
      },
      "execution_count": null,
      "outputs": [
        {
          "output_type": "stream",
          "name": "stdout",
          "text": [
            "[[[ 0  0 -1 -1 -1  0  0  0  0  0]\n",
            "  [-1  0  0  0 -1  0  0  0  0  0]\n",
            "  [ 0  0 -1 -1  0  0  0  0  0  0]\n",
            "  [ 0  0  0  0  0  1  0  0  0  0]\n",
            "  [-1  0  0  0 -1  0  0  0  0  0]\n",
            "  [ 0  0  0  0  0  0  0  0  0  0]\n",
            "  [ 0  0  0  0  0  0  0  0  0  0]\n",
            "  [ 0  0  0  0  0  0  0  0  0  0]\n",
            "  [ 0  0  0  0  0  0  0  0  0  0]\n",
            "  [ 0  0  0  0  0  0  0  0  0  2]]\n",
            "\n",
            " [[ 0  0 -1 -1 -1  0  0  0  0  0]\n",
            "  [-1  0  0  0 -1  0  0  0  0  0]\n",
            "  [ 0  0 -1 -1  0  0  0  0  0  0]\n",
            "  [ 0  0  0  0  0  0  0  0  0  0]\n",
            "  [-1  0  0  0 -1  1  0  0  0  0]\n",
            "  [ 0  0  0  0  0  0  0  0  0  0]\n",
            "  [ 0  0  0  0  0  0  0  0  0  0]\n",
            "  [ 0  0  0  0  0  0  0  0  0  0]\n",
            "  [ 0  0  0  0  0  0  0  0  0  0]\n",
            "  [ 0  0  0  0  0  0  0  0  0  2]]]\n"
          ]
        }
      ]
    },
    {
      "cell_type": "code",
      "source": [
        "print(x1[6])\n",
        "print(inf1[6])"
      ],
      "metadata": {
        "colab": {
          "base_uri": "https://localhost:8080/"
        },
        "id": "8e8IysMfE6Ca",
        "outputId": "54562ac8-3d51-4d1b-88db-85f660724508"
      },
      "execution_count": null,
      "outputs": [
        {
          "output_type": "stream",
          "name": "stdout",
          "text": [
            "[[ 0  0 -1 -1  0  0  0  0  0  0]\n",
            " [-1  0  0  0 -1  0  0  0  0  0]\n",
            " [ 0  0 -1 -1  0  0  0  0  0  0]\n",
            " [ 0  1  0  0  0  0  0  0  0  0]\n",
            " [ 0  0  0  0  0  0  0  0  0  0]\n",
            " [ 0  0  0  0  0  0  0  0  0  0]\n",
            " [ 0  0  0  0  0  0  0  0  0  0]\n",
            " [ 0  0  0  0  0  0  0  0  0  0]\n",
            " [ 0  0  0  0  0  0  0  0  0  0]\n",
            " [ 0  0  0  0  0  0  0  0  0  2]]\n",
            "[[ 1  2 -1 -1 -1 -1 -1 -1 -1 -1]\n",
            " [-1  0  0  0 -1 -1 -1 -1 -1 -1]\n",
            " [-1  2 -1 -1 -1 -1 -1 -1 -1 -1]\n",
            " [-1  2 -1 -1 -1 -1 -1 -1 -1 -1]\n",
            " [-1 -1 -1 -1 -1 -1 -1 -1 -1 -1]\n",
            " [-1 -1 -1 -1 -1 -1 -1 -1 -1 -1]\n",
            " [-1 -1 -1 -1 -1 -1 -1 -1 -1 -1]\n",
            " [-1 -1 -1 -1 -1 -1 -1 -1 -1 -1]\n",
            " [-1 -1 -1 -1 -1 -1 -1 -1 -1 -1]\n",
            " [-1 -1 -1 -1 -1 -1 -1 -1 -1 -1]]\n"
          ]
        }
      ]
    },
    {
      "cell_type": "code",
      "source": [
        "\n",
        "\n",
        "def buildModel():\n",
        "  global EPOCHS_DEFAULT\n",
        "  # add more layers here as needed\n",
        "\n",
        "  gridInput = tf.keras.layers.Input(shape = ( 2, 10, 10))\n",
        "\n",
        "  flatten_image = tf.keras.layers.Flatten()( gridInput)\n",
        "\n",
        "  dense_1 = tf.keras.layers.Dense( units = 100, activation = tf.nn.relu )( flatten_image )\n",
        "  dense_2 = tf.keras.layers.Dense( units = 40, activation = tf.nn.relu )( dense_1 )\n",
        "  dense_3 = tf.keras.layers.Dense( units = 20, activation = tf.nn.relu )( dense_2 )\n",
        "  dense_4 = tf.keras.layers.Dense( units = 10, activation = tf.nn.relu )( dense_3 )\n",
        "\n",
        "  infDec = tf.keras.layers.Dense( units = 4, activation = None )( dense_4 )\n",
        "\n",
        "  #dense_1 = tf.keras.layers.Dense( units = 64, activation = tf.nn.relu )( flatten_image )\n",
        "\n",
        "  #dense_2 = tf.keras.layers.Dense( units = 16, activation = tf.nn.relu )( dense_1 )\n",
        "\n",
        "  #infDec = tf.keras.layers.Dense( units = 4, activation = None )( dense_2 )\n",
        "\n",
        "  probabilities = tf.keras.layers.Softmax()( infDec )\n",
        "\n",
        "  model = tf.keras.Model( inputs = gridInput, outputs = probabilities)\n",
        "\n",
        "  model.compile( optimizer = 'adam', loss = 'categorical_crossentropy', metrics = ['accuracy'] )\n",
        "  latest = tf.train.latest_checkpoint(checkpoint_dir)\n",
        " \n",
        "  if(latest == None):\n",
        "    return model\n",
        "\n",
        "  model.load_weights(latest)\n",
        "  EPOCHS_DEFAULT = 300\n",
        "\n",
        "  return model"
      ],
      "metadata": {
        "id": "WLJkiNNzh4bd"
      },
      "execution_count": null,
      "outputs": []
    },
    {
      "cell_type": "code",
      "source": [
        "# this allows you to resume or expand upon training\n",
        "cp_callback = tf.keras.callbacks.ModelCheckpoint(filepath=checkpoint_path,\n",
        "                                                 save_weights_only=True,\n",
        "                                                 verbose=1)"
      ],
      "metadata": {
        "id": "kK3aA4R7h7I5"
      },
      "execution_count": null,
      "outputs": []
    },
    {
      "cell_type": "code",
      "source": [
        "#tf.test.is_gpu_available()"
      ],
      "metadata": {
        "id": "5TNEEJffaB-O"
      },
      "execution_count": null,
      "outputs": []
    },
    {
      "cell_type": "code",
      "source": [
        "model = buildModel()"
      ],
      "metadata": {
        "id": "VUCM6MDyJ9Df"
      },
      "execution_count": null,
      "outputs": []
    },
    {
      "cell_type": "code",
      "source": [
        "#model = buildModel()\n",
        "\n",
        "#model = tf.keras.models.load_model(checkpoint_path)\n",
        "\n",
        "#out = Concatenate()([x1, inf1])\n",
        "\n",
        "history = model.fit( cat_array, y_array, epochs = EPOCHS_DEFAULT,\n",
        "          callbacks=[cp_callback] )\n"
      ],
      "metadata": {
        "colab": {
          "base_uri": "https://localhost:8080/"
        },
        "id": "PoPsbjQAh84M",
        "outputId": "6e0ba3a8-53bb-483e-a687-67cd1fc3551f"
      },
      "execution_count": null,
      "outputs": [
        {
          "output_type": "stream",
          "name": "stdout",
          "text": [
            "Epoch 1/300\n",
            "295/313 [===========================>..] - ETA: 0s - loss: 1.0208 - accuracy: 0.4422\n",
            "Epoch 00001: saving model to /content/gdrive/My Drive/Colab Notebooks/AI_project/daniel_proto10_model/proj2/\n",
            "313/313 [==============================] - 1s 3ms/step - loss: 1.0220 - accuracy: 0.4419\n",
            "Epoch 2/300\n",
            "300/313 [===========================>..] - ETA: 0s - loss: 0.9939 - accuracy: 0.4650\n",
            "Epoch 00002: saving model to /content/gdrive/My Drive/Colab Notebooks/AI_project/daniel_proto10_model/proj2/\n",
            "313/313 [==============================] - 1s 3ms/step - loss: 0.9937 - accuracy: 0.4649\n",
            "Epoch 3/300\n",
            "296/313 [===========================>..] - ETA: 0s - loss: 0.9884 - accuracy: 0.4662\n",
            "Epoch 00003: saving model to /content/gdrive/My Drive/Colab Notebooks/AI_project/daniel_proto10_model/proj2/\n",
            "313/313 [==============================] - 1s 3ms/step - loss: 0.9896 - accuracy: 0.4660\n",
            "Epoch 4/300\n",
            "301/313 [===========================>..] - ETA: 0s - loss: 0.9847 - accuracy: 0.4690\n",
            "Epoch 00004: saving model to /content/gdrive/My Drive/Colab Notebooks/AI_project/daniel_proto10_model/proj2/\n",
            "313/313 [==============================] - 1s 3ms/step - loss: 0.9860 - accuracy: 0.4686\n",
            "Epoch 5/300\n",
            "299/313 [===========================>..] - ETA: 0s - loss: 0.9800 - accuracy: 0.4765\n",
            "Epoch 00005: saving model to /content/gdrive/My Drive/Colab Notebooks/AI_project/daniel_proto10_model/proj2/\n",
            "313/313 [==============================] - 1s 3ms/step - loss: 0.9799 - accuracy: 0.4773\n",
            "Epoch 6/300\n",
            "312/313 [============================>.] - ETA: 0s - loss: 0.9749 - accuracy: 0.4809\n",
            "Epoch 00006: saving model to /content/gdrive/My Drive/Colab Notebooks/AI_project/daniel_proto10_model/proj2/\n",
            "313/313 [==============================] - 1s 3ms/step - loss: 0.9749 - accuracy: 0.4810\n",
            "Epoch 7/300\n",
            "298/313 [===========================>..] - ETA: 0s - loss: 0.9675 - accuracy: 0.4958\n",
            "Epoch 00007: saving model to /content/gdrive/My Drive/Colab Notebooks/AI_project/daniel_proto10_model/proj2/\n",
            "313/313 [==============================] - 1s 3ms/step - loss: 0.9663 - accuracy: 0.4961\n",
            "Epoch 8/300\n",
            "297/313 [===========================>..] - ETA: 0s - loss: 0.9528 - accuracy: 0.5088\n",
            "Epoch 00008: saving model to /content/gdrive/My Drive/Colab Notebooks/AI_project/daniel_proto10_model/proj2/\n",
            "313/313 [==============================] - 1s 4ms/step - loss: 0.9536 - accuracy: 0.5072\n",
            "Epoch 9/300\n",
            "303/313 [============================>.] - ETA: 0s - loss: 0.9385 - accuracy: 0.5212\n",
            "Epoch 00009: saving model to /content/gdrive/My Drive/Colab Notebooks/AI_project/daniel_proto10_model/proj2/\n",
            "313/313 [==============================] - 1s 3ms/step - loss: 0.9401 - accuracy: 0.5201\n",
            "Epoch 10/300\n",
            "302/313 [===========================>..] - ETA: 0s - loss: 0.9259 - accuracy: 0.5267\n",
            "Epoch 00010: saving model to /content/gdrive/My Drive/Colab Notebooks/AI_project/daniel_proto10_model/proj2/\n",
            "313/313 [==============================] - 1s 3ms/step - loss: 0.9267 - accuracy: 0.5270\n",
            "Epoch 11/300\n",
            "313/313 [==============================] - ETA: 0s - loss: 0.9090 - accuracy: 0.5368\n",
            "Epoch 00011: saving model to /content/gdrive/My Drive/Colab Notebooks/AI_project/daniel_proto10_model/proj2/\n",
            "313/313 [==============================] - 1s 3ms/step - loss: 0.9090 - accuracy: 0.5368\n",
            "Epoch 12/300\n",
            "304/313 [============================>.] - ETA: 0s - loss: 0.8926 - accuracy: 0.5473\n",
            "Epoch 00012: saving model to /content/gdrive/My Drive/Colab Notebooks/AI_project/daniel_proto10_model/proj2/\n",
            "313/313 [==============================] - 1s 3ms/step - loss: 0.8913 - accuracy: 0.5470\n",
            "Epoch 13/300\n",
            "303/313 [============================>.] - ETA: 0s - loss: 0.8694 - accuracy: 0.5616\n",
            "Epoch 00013: saving model to /content/gdrive/My Drive/Colab Notebooks/AI_project/daniel_proto10_model/proj2/\n",
            "313/313 [==============================] - 1s 3ms/step - loss: 0.8714 - accuracy: 0.5614\n",
            "Epoch 14/300\n",
            "299/313 [===========================>..] - ETA: 0s - loss: 0.8495 - accuracy: 0.5782\n",
            "Epoch 00014: saving model to /content/gdrive/My Drive/Colab Notebooks/AI_project/daniel_proto10_model/proj2/\n",
            "313/313 [==============================] - 1s 3ms/step - loss: 0.8510 - accuracy: 0.5780\n",
            "Epoch 15/300\n",
            "296/313 [===========================>..] - ETA: 0s - loss: 0.8324 - accuracy: 0.5797\n",
            "Epoch 00015: saving model to /content/gdrive/My Drive/Colab Notebooks/AI_project/daniel_proto10_model/proj2/\n",
            "313/313 [==============================] - 1s 3ms/step - loss: 0.8324 - accuracy: 0.5805\n",
            "Epoch 16/300\n",
            "297/313 [===========================>..] - ETA: 0s - loss: 0.8113 - accuracy: 0.5967\n",
            "Epoch 00016: saving model to /content/gdrive/My Drive/Colab Notebooks/AI_project/daniel_proto10_model/proj2/\n",
            "313/313 [==============================] - 1s 3ms/step - loss: 0.8115 - accuracy: 0.5967\n",
            "Epoch 17/300\n",
            "313/313 [==============================] - ETA: 0s - loss: 0.7854 - accuracy: 0.6080\n",
            "Epoch 00017: saving model to /content/gdrive/My Drive/Colab Notebooks/AI_project/daniel_proto10_model/proj2/\n",
            "313/313 [==============================] - 1s 3ms/step - loss: 0.7854 - accuracy: 0.6080\n",
            "Epoch 18/300\n",
            "296/313 [===========================>..] - ETA: 0s - loss: 0.7567 - accuracy: 0.6294\n",
            "Epoch 00018: saving model to /content/gdrive/My Drive/Colab Notebooks/AI_project/daniel_proto10_model/proj2/\n",
            "313/313 [==============================] - 1s 3ms/step - loss: 0.7594 - accuracy: 0.6277\n",
            "Epoch 19/300\n",
            "302/313 [===========================>..] - ETA: 0s - loss: 0.7447 - accuracy: 0.6344\n",
            "Epoch 00019: saving model to /content/gdrive/My Drive/Colab Notebooks/AI_project/daniel_proto10_model/proj2/\n",
            "313/313 [==============================] - 1s 3ms/step - loss: 0.7455 - accuracy: 0.6335\n",
            "Epoch 20/300\n",
            "298/313 [===========================>..] - ETA: 0s - loss: 0.7230 - accuracy: 0.6405\n",
            "Epoch 00020: saving model to /content/gdrive/My Drive/Colab Notebooks/AI_project/daniel_proto10_model/proj2/\n",
            "313/313 [==============================] - 1s 3ms/step - loss: 0.7237 - accuracy: 0.6398\n",
            "Epoch 21/300\n",
            "309/313 [============================>.] - ETA: 0s - loss: 0.7048 - accuracy: 0.6534\n",
            "Epoch 00021: saving model to /content/gdrive/My Drive/Colab Notebooks/AI_project/daniel_proto10_model/proj2/\n",
            "313/313 [==============================] - 1s 3ms/step - loss: 0.7059 - accuracy: 0.6530\n",
            "Epoch 22/300\n",
            "295/313 [===========================>..] - ETA: 0s - loss: 0.6881 - accuracy: 0.6626\n",
            "Epoch 00022: saving model to /content/gdrive/My Drive/Colab Notebooks/AI_project/daniel_proto10_model/proj2/\n",
            "313/313 [==============================] - 1s 3ms/step - loss: 0.6905 - accuracy: 0.6613\n",
            "Epoch 23/300\n",
            "299/313 [===========================>..] - ETA: 0s - loss: 0.6685 - accuracy: 0.6664\n",
            "Epoch 00023: saving model to /content/gdrive/My Drive/Colab Notebooks/AI_project/daniel_proto10_model/proj2/\n",
            "313/313 [==============================] - 1s 3ms/step - loss: 0.6716 - accuracy: 0.6657\n",
            "Epoch 24/300\n",
            "313/313 [==============================] - ETA: 0s - loss: 0.6581 - accuracy: 0.6750\n",
            "Epoch 00024: saving model to /content/gdrive/My Drive/Colab Notebooks/AI_project/daniel_proto10_model/proj2/\n",
            "313/313 [==============================] - 1s 3ms/step - loss: 0.6581 - accuracy: 0.6750\n",
            "Epoch 25/300\n",
            "295/313 [===========================>..] - ETA: 0s - loss: 0.6516 - accuracy: 0.6793\n",
            "Epoch 00025: saving model to /content/gdrive/My Drive/Colab Notebooks/AI_project/daniel_proto10_model/proj2/\n",
            "313/313 [==============================] - 1s 3ms/step - loss: 0.6511 - accuracy: 0.6800\n",
            "Epoch 26/300\n",
            "299/313 [===========================>..] - ETA: 0s - loss: 0.6312 - accuracy: 0.6950\n",
            "Epoch 00026: saving model to /content/gdrive/My Drive/Colab Notebooks/AI_project/daniel_proto10_model/proj2/\n",
            "313/313 [==============================] - 1s 3ms/step - loss: 0.6306 - accuracy: 0.6952\n",
            "Epoch 27/300\n",
            "309/313 [============================>.] - ETA: 0s - loss: 0.6231 - accuracy: 0.6937\n",
            "Epoch 00027: saving model to /content/gdrive/My Drive/Colab Notebooks/AI_project/daniel_proto10_model/proj2/\n",
            "313/313 [==============================] - 1s 3ms/step - loss: 0.6231 - accuracy: 0.6933\n",
            "Epoch 28/300\n",
            "296/313 [===========================>..] - ETA: 0s - loss: 0.6144 - accuracy: 0.6931\n",
            "Epoch 00028: saving model to /content/gdrive/My Drive/Colab Notebooks/AI_project/daniel_proto10_model/proj2/\n",
            "313/313 [==============================] - 1s 3ms/step - loss: 0.6160 - accuracy: 0.6925\n",
            "Epoch 29/300\n",
            "300/313 [===========================>..] - ETA: 0s - loss: 0.5951 - accuracy: 0.7072\n",
            "Epoch 00029: saving model to /content/gdrive/My Drive/Colab Notebooks/AI_project/daniel_proto10_model/proj2/\n",
            "313/313 [==============================] - 1s 3ms/step - loss: 0.5956 - accuracy: 0.7059\n",
            "Epoch 30/300\n",
            "313/313 [==============================] - ETA: 0s - loss: 0.5935 - accuracy: 0.7093\n",
            "Epoch 00030: saving model to /content/gdrive/My Drive/Colab Notebooks/AI_project/daniel_proto10_model/proj2/\n",
            "313/313 [==============================] - 1s 3ms/step - loss: 0.5935 - accuracy: 0.7093\n",
            "Epoch 31/300\n",
            "297/313 [===========================>..] - ETA: 0s - loss: 0.5917 - accuracy: 0.7171\n",
            "Epoch 00031: saving model to /content/gdrive/My Drive/Colab Notebooks/AI_project/daniel_proto10_model/proj2/\n",
            "313/313 [==============================] - 1s 3ms/step - loss: 0.5941 - accuracy: 0.7153\n",
            "Epoch 32/300\n",
            "312/313 [============================>.] - ETA: 0s - loss: 0.5865 - accuracy: 0.7121\n",
            "Epoch 00032: saving model to /content/gdrive/My Drive/Colab Notebooks/AI_project/daniel_proto10_model/proj2/\n",
            "313/313 [==============================] - 1s 3ms/step - loss: 0.5865 - accuracy: 0.7121\n",
            "Epoch 33/300\n",
            "309/313 [============================>.] - ETA: 0s - loss: 0.5777 - accuracy: 0.7148\n",
            "Epoch 00033: saving model to /content/gdrive/My Drive/Colab Notebooks/AI_project/daniel_proto10_model/proj2/\n",
            "313/313 [==============================] - 1s 3ms/step - loss: 0.5767 - accuracy: 0.7157\n",
            "Epoch 34/300\n",
            "297/313 [===========================>..] - ETA: 0s - loss: 0.5858 - accuracy: 0.7133\n",
            "Epoch 00034: saving model to /content/gdrive/My Drive/Colab Notebooks/AI_project/daniel_proto10_model/proj2/\n",
            "313/313 [==============================] - 1s 3ms/step - loss: 0.5842 - accuracy: 0.7138\n",
            "Epoch 35/300\n",
            "300/313 [===========================>..] - ETA: 0s - loss: 0.5628 - accuracy: 0.7226\n",
            "Epoch 00035: saving model to /content/gdrive/My Drive/Colab Notebooks/AI_project/daniel_proto10_model/proj2/\n",
            "313/313 [==============================] - 1s 3ms/step - loss: 0.5633 - accuracy: 0.7240\n",
            "Epoch 36/300\n",
            "299/313 [===========================>..] - ETA: 0s - loss: 0.5550 - accuracy: 0.7249\n",
            "Epoch 00036: saving model to /content/gdrive/My Drive/Colab Notebooks/AI_project/daniel_proto10_model/proj2/\n",
            "313/313 [==============================] - 1s 3ms/step - loss: 0.5570 - accuracy: 0.7228\n",
            "Epoch 37/300\n",
            "312/313 [============================>.] - ETA: 0s - loss: 0.5547 - accuracy: 0.7216\n",
            "Epoch 00037: saving model to /content/gdrive/My Drive/Colab Notebooks/AI_project/daniel_proto10_model/proj2/\n",
            "313/313 [==============================] - 1s 3ms/step - loss: 0.5546 - accuracy: 0.7215\n",
            "Epoch 38/300\n",
            "299/313 [===========================>..] - ETA: 0s - loss: 0.5486 - accuracy: 0.7304\n",
            "Epoch 00038: saving model to /content/gdrive/My Drive/Colab Notebooks/AI_project/daniel_proto10_model/proj2/\n",
            "313/313 [==============================] - 1s 3ms/step - loss: 0.5513 - accuracy: 0.7278\n",
            "Epoch 39/300\n",
            "310/313 [============================>.] - ETA: 0s - loss: 0.5496 - accuracy: 0.7291\n",
            "Epoch 00039: saving model to /content/gdrive/My Drive/Colab Notebooks/AI_project/daniel_proto10_model/proj2/\n",
            "313/313 [==============================] - 1s 3ms/step - loss: 0.5496 - accuracy: 0.7291\n",
            "Epoch 40/300\n",
            "307/313 [============================>.] - ETA: 0s - loss: 0.5418 - accuracy: 0.7274\n",
            "Epoch 00040: saving model to /content/gdrive/My Drive/Colab Notebooks/AI_project/daniel_proto10_model/proj2/\n",
            "313/313 [==============================] - 1s 3ms/step - loss: 0.5425 - accuracy: 0.7272\n",
            "Epoch 41/300\n",
            "304/313 [============================>.] - ETA: 0s - loss: 0.5359 - accuracy: 0.7374\n",
            "Epoch 00041: saving model to /content/gdrive/My Drive/Colab Notebooks/AI_project/daniel_proto10_model/proj2/\n",
            "313/313 [==============================] - 1s 3ms/step - loss: 0.5360 - accuracy: 0.7370\n",
            "Epoch 42/300\n",
            "295/313 [===========================>..] - ETA: 0s - loss: 0.5269 - accuracy: 0.7426\n",
            "Epoch 00042: saving model to /content/gdrive/My Drive/Colab Notebooks/AI_project/daniel_proto10_model/proj2/\n",
            "313/313 [==============================] - 1s 3ms/step - loss: 0.5298 - accuracy: 0.7404\n",
            "Epoch 43/300\n",
            "298/313 [===========================>..] - ETA: 0s - loss: 0.5451 - accuracy: 0.7326\n",
            "Epoch 00043: saving model to /content/gdrive/My Drive/Colab Notebooks/AI_project/daniel_proto10_model/proj2/\n",
            "313/313 [==============================] - 1s 3ms/step - loss: 0.5453 - accuracy: 0.7325\n",
            "Epoch 44/300\n",
            "304/313 [============================>.] - ETA: 0s - loss: 0.5210 - accuracy: 0.7368\n",
            "Epoch 00044: saving model to /content/gdrive/My Drive/Colab Notebooks/AI_project/daniel_proto10_model/proj2/\n",
            "313/313 [==============================] - 1s 3ms/step - loss: 0.5235 - accuracy: 0.7364\n",
            "Epoch 45/300\n",
            "310/313 [============================>.] - ETA: 0s - loss: 0.5254 - accuracy: 0.7430\n",
            "Epoch 00045: saving model to /content/gdrive/My Drive/Colab Notebooks/AI_project/daniel_proto10_model/proj2/\n",
            "313/313 [==============================] - 1s 3ms/step - loss: 0.5258 - accuracy: 0.7426\n",
            "Epoch 46/300\n",
            "310/313 [============================>.] - ETA: 0s - loss: 0.5235 - accuracy: 0.7420\n",
            "Epoch 00046: saving model to /content/gdrive/My Drive/Colab Notebooks/AI_project/daniel_proto10_model/proj2/\n",
            "313/313 [==============================] - 1s 3ms/step - loss: 0.5242 - accuracy: 0.7420\n",
            "Epoch 47/300\n",
            "298/313 [===========================>..] - ETA: 0s - loss: 0.5280 - accuracy: 0.7440\n",
            "Epoch 00047: saving model to /content/gdrive/My Drive/Colab Notebooks/AI_project/daniel_proto10_model/proj2/\n",
            "313/313 [==============================] - 1s 3ms/step - loss: 0.5269 - accuracy: 0.7447\n",
            "Epoch 48/300\n",
            "312/313 [============================>.] - ETA: 0s - loss: 0.5172 - accuracy: 0.7495\n",
            "Epoch 00048: saving model to /content/gdrive/My Drive/Colab Notebooks/AI_project/daniel_proto10_model/proj2/\n",
            "313/313 [==============================] - 1s 3ms/step - loss: 0.5170 - accuracy: 0.7497\n",
            "Epoch 49/300\n",
            "297/313 [===========================>..] - ETA: 0s - loss: 0.5092 - accuracy: 0.7464\n",
            "Epoch 00049: saving model to /content/gdrive/My Drive/Colab Notebooks/AI_project/daniel_proto10_model/proj2/\n",
            "313/313 [==============================] - 1s 3ms/step - loss: 0.5082 - accuracy: 0.7477\n",
            "Epoch 50/300\n",
            "308/313 [============================>.] - ETA: 0s - loss: 0.5035 - accuracy: 0.7483\n",
            "Epoch 00050: saving model to /content/gdrive/My Drive/Colab Notebooks/AI_project/daniel_proto10_model/proj2/\n",
            "313/313 [==============================] - 1s 3ms/step - loss: 0.5041 - accuracy: 0.7487\n",
            "Epoch 51/300\n",
            "299/313 [===========================>..] - ETA: 0s - loss: 0.4928 - accuracy: 0.7551\n",
            "Epoch 00051: saving model to /content/gdrive/My Drive/Colab Notebooks/AI_project/daniel_proto10_model/proj2/\n",
            "313/313 [==============================] - 1s 3ms/step - loss: 0.4935 - accuracy: 0.7545\n",
            "Epoch 52/300\n",
            "313/313 [==============================] - ETA: 0s - loss: 0.4987 - accuracy: 0.7479\n",
            "Epoch 00052: saving model to /content/gdrive/My Drive/Colab Notebooks/AI_project/daniel_proto10_model/proj2/\n",
            "313/313 [==============================] - 1s 3ms/step - loss: 0.4987 - accuracy: 0.7479\n",
            "Epoch 53/300\n",
            "301/313 [===========================>..] - ETA: 0s - loss: 0.4964 - accuracy: 0.7597\n",
            "Epoch 00053: saving model to /content/gdrive/My Drive/Colab Notebooks/AI_project/daniel_proto10_model/proj2/\n",
            "313/313 [==============================] - 1s 3ms/step - loss: 0.4967 - accuracy: 0.7596\n",
            "Epoch 54/300\n",
            "304/313 [============================>.] - ETA: 0s - loss: 0.5043 - accuracy: 0.7522\n",
            "Epoch 00054: saving model to /content/gdrive/My Drive/Colab Notebooks/AI_project/daniel_proto10_model/proj2/\n",
            "313/313 [==============================] - 1s 3ms/step - loss: 0.5059 - accuracy: 0.7521\n",
            "Epoch 55/300\n",
            "309/313 [============================>.] - ETA: 0s - loss: 0.5060 - accuracy: 0.7539\n",
            "Epoch 00055: saving model to /content/gdrive/My Drive/Colab Notebooks/AI_project/daniel_proto10_model/proj2/\n",
            "313/313 [==============================] - 1s 3ms/step - loss: 0.5062 - accuracy: 0.7539\n",
            "Epoch 56/300\n",
            "311/313 [============================>.] - ETA: 0s - loss: 0.4921 - accuracy: 0.7541\n",
            "Epoch 00056: saving model to /content/gdrive/My Drive/Colab Notebooks/AI_project/daniel_proto10_model/proj2/\n",
            "313/313 [==============================] - 1s 3ms/step - loss: 0.4930 - accuracy: 0.7534\n",
            "Epoch 57/300\n",
            "311/313 [============================>.] - ETA: 0s - loss: 0.4737 - accuracy: 0.7623\n",
            "Epoch 00057: saving model to /content/gdrive/My Drive/Colab Notebooks/AI_project/daniel_proto10_model/proj2/\n",
            "313/313 [==============================] - 1s 3ms/step - loss: 0.4736 - accuracy: 0.7624\n",
            "Epoch 58/300\n",
            "313/313 [==============================] - ETA: 0s - loss: 0.4757 - accuracy: 0.7630\n",
            "Epoch 00058: saving model to /content/gdrive/My Drive/Colab Notebooks/AI_project/daniel_proto10_model/proj2/\n",
            "313/313 [==============================] - 1s 3ms/step - loss: 0.4757 - accuracy: 0.7630\n",
            "Epoch 59/300\n",
            "295/313 [===========================>..] - ETA: 0s - loss: 0.4827 - accuracy: 0.7647\n",
            "Epoch 00059: saving model to /content/gdrive/My Drive/Colab Notebooks/AI_project/daniel_proto10_model/proj2/\n",
            "313/313 [==============================] - 1s 3ms/step - loss: 0.4829 - accuracy: 0.7653\n",
            "Epoch 60/300\n",
            "306/313 [============================>.] - ETA: 0s - loss: 0.4798 - accuracy: 0.7608\n",
            "Epoch 00060: saving model to /content/gdrive/My Drive/Colab Notebooks/AI_project/daniel_proto10_model/proj2/\n",
            "313/313 [==============================] - 1s 3ms/step - loss: 0.4802 - accuracy: 0.7609\n",
            "Epoch 61/300\n",
            "296/313 [===========================>..] - ETA: 0s - loss: 0.4816 - accuracy: 0.7639\n",
            "Epoch 00061: saving model to /content/gdrive/My Drive/Colab Notebooks/AI_project/daniel_proto10_model/proj2/\n",
            "313/313 [==============================] - 1s 3ms/step - loss: 0.4811 - accuracy: 0.7647\n",
            "Epoch 62/300\n",
            "306/313 [============================>.] - ETA: 0s - loss: 0.4777 - accuracy: 0.7637\n",
            "Epoch 00062: saving model to /content/gdrive/My Drive/Colab Notebooks/AI_project/daniel_proto10_model/proj2/\n",
            "313/313 [==============================] - 1s 3ms/step - loss: 0.4777 - accuracy: 0.7634\n",
            "Epoch 63/300\n",
            "312/313 [============================>.] - ETA: 0s - loss: 0.4695 - accuracy: 0.7680\n",
            "Epoch 00063: saving model to /content/gdrive/My Drive/Colab Notebooks/AI_project/daniel_proto10_model/proj2/\n",
            "313/313 [==============================] - 1s 3ms/step - loss: 0.4693 - accuracy: 0.7681\n",
            "Epoch 64/300\n",
            "297/313 [===========================>..] - ETA: 0s - loss: 0.4794 - accuracy: 0.7617\n",
            "Epoch 00064: saving model to /content/gdrive/My Drive/Colab Notebooks/AI_project/daniel_proto10_model/proj2/\n",
            "313/313 [==============================] - 1s 3ms/step - loss: 0.4794 - accuracy: 0.7610\n",
            "Epoch 65/300\n",
            "304/313 [============================>.] - ETA: 0s - loss: 0.4696 - accuracy: 0.7637\n",
            "Epoch 00065: saving model to /content/gdrive/My Drive/Colab Notebooks/AI_project/daniel_proto10_model/proj2/\n",
            "313/313 [==============================] - 1s 3ms/step - loss: 0.4683 - accuracy: 0.7650\n",
            "Epoch 66/300\n",
            "308/313 [============================>.] - ETA: 0s - loss: 0.4734 - accuracy: 0.7737\n",
            "Epoch 00066: saving model to /content/gdrive/My Drive/Colab Notebooks/AI_project/daniel_proto10_model/proj2/\n",
            "313/313 [==============================] - 1s 3ms/step - loss: 0.4729 - accuracy: 0.7737\n",
            "Epoch 67/300\n",
            "311/313 [============================>.] - ETA: 0s - loss: 0.4514 - accuracy: 0.7721\n",
            "Epoch 00067: saving model to /content/gdrive/My Drive/Colab Notebooks/AI_project/daniel_proto10_model/proj2/\n",
            "313/313 [==============================] - 1s 3ms/step - loss: 0.4509 - accuracy: 0.7723\n",
            "Epoch 68/300\n",
            "297/313 [===========================>..] - ETA: 0s - loss: 0.4573 - accuracy: 0.7793\n",
            "Epoch 00068: saving model to /content/gdrive/My Drive/Colab Notebooks/AI_project/daniel_proto10_model/proj2/\n",
            "313/313 [==============================] - 1s 3ms/step - loss: 0.4609 - accuracy: 0.7780\n",
            "Epoch 69/300\n",
            "295/313 [===========================>..] - ETA: 0s - loss: 0.4752 - accuracy: 0.7661\n",
            "Epoch 00069: saving model to /content/gdrive/My Drive/Colab Notebooks/AI_project/daniel_proto10_model/proj2/\n",
            "313/313 [==============================] - 1s 3ms/step - loss: 0.4795 - accuracy: 0.7636\n",
            "Epoch 70/300\n",
            "296/313 [===========================>..] - ETA: 0s - loss: 0.4809 - accuracy: 0.7652\n",
            "Epoch 00070: saving model to /content/gdrive/My Drive/Colab Notebooks/AI_project/daniel_proto10_model/proj2/\n",
            "313/313 [==============================] - 1s 3ms/step - loss: 0.4801 - accuracy: 0.7660\n",
            "Epoch 71/300\n",
            "301/313 [===========================>..] - ETA: 0s - loss: 0.4480 - accuracy: 0.7775\n",
            "Epoch 00071: saving model to /content/gdrive/My Drive/Colab Notebooks/AI_project/daniel_proto10_model/proj2/\n",
            "313/313 [==============================] - 1s 3ms/step - loss: 0.4483 - accuracy: 0.7768\n",
            "Epoch 72/300\n",
            "308/313 [============================>.] - ETA: 0s - loss: 0.4478 - accuracy: 0.7778\n",
            "Epoch 00072: saving model to /content/gdrive/My Drive/Colab Notebooks/AI_project/daniel_proto10_model/proj2/\n",
            "313/313 [==============================] - 1s 3ms/step - loss: 0.4469 - accuracy: 0.7788\n",
            "Epoch 73/300\n",
            "311/313 [============================>.] - ETA: 0s - loss: 0.4356 - accuracy: 0.7858\n",
            "Epoch 00073: saving model to /content/gdrive/My Drive/Colab Notebooks/AI_project/daniel_proto10_model/proj2/\n",
            "313/313 [==============================] - 1s 3ms/step - loss: 0.4352 - accuracy: 0.7859\n",
            "Epoch 74/300\n",
            "301/313 [===========================>..] - ETA: 0s - loss: 0.4444 - accuracy: 0.7794\n",
            "Epoch 00074: saving model to /content/gdrive/My Drive/Colab Notebooks/AI_project/daniel_proto10_model/proj2/\n",
            "313/313 [==============================] - 1s 3ms/step - loss: 0.4453 - accuracy: 0.7795\n",
            "Epoch 75/300\n",
            "306/313 [============================>.] - ETA: 0s - loss: 0.4359 - accuracy: 0.7825\n",
            "Epoch 00075: saving model to /content/gdrive/My Drive/Colab Notebooks/AI_project/daniel_proto10_model/proj2/\n",
            "313/313 [==============================] - 1s 3ms/step - loss: 0.4367 - accuracy: 0.7825\n",
            "Epoch 76/300\n",
            "310/313 [============================>.] - ETA: 0s - loss: 0.4604 - accuracy: 0.7760\n",
            "Epoch 00076: saving model to /content/gdrive/My Drive/Colab Notebooks/AI_project/daniel_proto10_model/proj2/\n",
            "313/313 [==============================] - 1s 3ms/step - loss: 0.4611 - accuracy: 0.7755\n",
            "Epoch 77/300\n",
            "310/313 [============================>.] - ETA: 0s - loss: 0.4779 - accuracy: 0.7716\n",
            "Epoch 00077: saving model to /content/gdrive/My Drive/Colab Notebooks/AI_project/daniel_proto10_model/proj2/\n",
            "313/313 [==============================] - 1s 3ms/step - loss: 0.4777 - accuracy: 0.7718\n",
            "Epoch 78/300\n",
            "295/313 [===========================>..] - ETA: 0s - loss: 0.4480 - accuracy: 0.7807\n",
            "Epoch 00078: saving model to /content/gdrive/My Drive/Colab Notebooks/AI_project/daniel_proto10_model/proj2/\n",
            "313/313 [==============================] - 1s 3ms/step - loss: 0.4507 - accuracy: 0.7810\n",
            "Epoch 79/300\n",
            "309/313 [============================>.] - ETA: 0s - loss: 0.4410 - accuracy: 0.7897\n",
            "Epoch 00079: saving model to /content/gdrive/My Drive/Colab Notebooks/AI_project/daniel_proto10_model/proj2/\n",
            "313/313 [==============================] - 1s 3ms/step - loss: 0.4426 - accuracy: 0.7890\n",
            "Epoch 80/300\n",
            "307/313 [============================>.] - ETA: 0s - loss: 0.4335 - accuracy: 0.7857\n",
            "Epoch 00080: saving model to /content/gdrive/My Drive/Colab Notebooks/AI_project/daniel_proto10_model/proj2/\n",
            "313/313 [==============================] - 1s 3ms/step - loss: 0.4333 - accuracy: 0.7859\n",
            "Epoch 81/300\n",
            "301/313 [===========================>..] - ETA: 0s - loss: 0.4298 - accuracy: 0.7879\n",
            "Epoch 00081: saving model to /content/gdrive/My Drive/Colab Notebooks/AI_project/daniel_proto10_model/proj2/\n",
            "313/313 [==============================] - 1s 3ms/step - loss: 0.4288 - accuracy: 0.7875\n",
            "Epoch 82/300\n",
            "311/313 [============================>.] - ETA: 0s - loss: 0.4344 - accuracy: 0.7805\n",
            "Epoch 00082: saving model to /content/gdrive/My Drive/Colab Notebooks/AI_project/daniel_proto10_model/proj2/\n",
            "313/313 [==============================] - 1s 3ms/step - loss: 0.4350 - accuracy: 0.7801\n",
            "Epoch 83/300\n",
            "307/313 [============================>.] - ETA: 0s - loss: 0.4417 - accuracy: 0.7819\n",
            "Epoch 00083: saving model to /content/gdrive/My Drive/Colab Notebooks/AI_project/daniel_proto10_model/proj2/\n",
            "313/313 [==============================] - 1s 3ms/step - loss: 0.4437 - accuracy: 0.7821\n",
            "Epoch 84/300\n",
            "308/313 [============================>.] - ETA: 0s - loss: 0.4367 - accuracy: 0.7867\n",
            "Epoch 00084: saving model to /content/gdrive/My Drive/Colab Notebooks/AI_project/daniel_proto10_model/proj2/\n",
            "313/313 [==============================] - 1s 3ms/step - loss: 0.4385 - accuracy: 0.7862\n",
            "Epoch 85/300\n",
            "308/313 [============================>.] - ETA: 0s - loss: 0.4290 - accuracy: 0.7863\n",
            "Epoch 00085: saving model to /content/gdrive/My Drive/Colab Notebooks/AI_project/daniel_proto10_model/proj2/\n",
            "313/313 [==============================] - 1s 3ms/step - loss: 0.4292 - accuracy: 0.7863\n",
            "Epoch 86/300\n",
            "311/313 [============================>.] - ETA: 0s - loss: 0.4232 - accuracy: 0.7916\n",
            "Epoch 00086: saving model to /content/gdrive/My Drive/Colab Notebooks/AI_project/daniel_proto10_model/proj2/\n",
            "313/313 [==============================] - 1s 3ms/step - loss: 0.4232 - accuracy: 0.7915\n",
            "Epoch 87/300\n",
            "305/313 [============================>.] - ETA: 0s - loss: 0.4355 - accuracy: 0.7833\n",
            "Epoch 00087: saving model to /content/gdrive/My Drive/Colab Notebooks/AI_project/daniel_proto10_model/proj2/\n",
            "313/313 [==============================] - 1s 3ms/step - loss: 0.4371 - accuracy: 0.7824\n",
            "Epoch 88/300\n",
            "308/313 [============================>.] - ETA: 0s - loss: 0.4170 - accuracy: 0.7915\n",
            "Epoch 00088: saving model to /content/gdrive/My Drive/Colab Notebooks/AI_project/daniel_proto10_model/proj2/\n",
            "313/313 [==============================] - 1s 3ms/step - loss: 0.4170 - accuracy: 0.7916\n",
            "Epoch 89/300\n",
            "309/313 [============================>.] - ETA: 0s - loss: 0.4119 - accuracy: 0.7971\n",
            "Epoch 00089: saving model to /content/gdrive/My Drive/Colab Notebooks/AI_project/daniel_proto10_model/proj2/\n",
            "313/313 [==============================] - 1s 3ms/step - loss: 0.4120 - accuracy: 0.7975\n",
            "Epoch 90/300\n",
            "312/313 [============================>.] - ETA: 0s - loss: 0.4148 - accuracy: 0.7976\n",
            "Epoch 00090: saving model to /content/gdrive/My Drive/Colab Notebooks/AI_project/daniel_proto10_model/proj2/\n",
            "313/313 [==============================] - 1s 3ms/step - loss: 0.4148 - accuracy: 0.7976\n",
            "Epoch 91/300\n",
            "304/313 [============================>.] - ETA: 0s - loss: 0.4314 - accuracy: 0.7885\n",
            "Epoch 00091: saving model to /content/gdrive/My Drive/Colab Notebooks/AI_project/daniel_proto10_model/proj2/\n",
            "313/313 [==============================] - 1s 3ms/step - loss: 0.4329 - accuracy: 0.7880\n",
            "Epoch 92/300\n",
            "309/313 [============================>.] - ETA: 0s - loss: 0.4384 - accuracy: 0.7873\n",
            "Epoch 00092: saving model to /content/gdrive/My Drive/Colab Notebooks/AI_project/daniel_proto10_model/proj2/\n",
            "313/313 [==============================] - 1s 3ms/step - loss: 0.4400 - accuracy: 0.7867\n",
            "Epoch 93/300\n",
            "301/313 [===========================>..] - ETA: 0s - loss: 0.4305 - accuracy: 0.7919\n",
            "Epoch 00093: saving model to /content/gdrive/My Drive/Colab Notebooks/AI_project/daniel_proto10_model/proj2/\n",
            "313/313 [==============================] - 1s 3ms/step - loss: 0.4300 - accuracy: 0.7918\n",
            "Epoch 94/300\n",
            "301/313 [===========================>..] - ETA: 0s - loss: 0.4163 - accuracy: 0.7936\n",
            "Epoch 00094: saving model to /content/gdrive/My Drive/Colab Notebooks/AI_project/daniel_proto10_model/proj2/\n",
            "313/313 [==============================] - 1s 3ms/step - loss: 0.4188 - accuracy: 0.7933\n",
            "Epoch 95/300\n",
            "303/313 [============================>.] - ETA: 0s - loss: 0.4208 - accuracy: 0.7957\n",
            "Epoch 00095: saving model to /content/gdrive/My Drive/Colab Notebooks/AI_project/daniel_proto10_model/proj2/\n",
            "313/313 [==============================] - 1s 3ms/step - loss: 0.4193 - accuracy: 0.7961\n",
            "Epoch 96/300\n",
            "312/313 [============================>.] - ETA: 0s - loss: 0.4329 - accuracy: 0.7952\n",
            "Epoch 00096: saving model to /content/gdrive/My Drive/Colab Notebooks/AI_project/daniel_proto10_model/proj2/\n",
            "313/313 [==============================] - 1s 3ms/step - loss: 0.4328 - accuracy: 0.7953\n",
            "Epoch 97/300\n",
            "300/313 [===========================>..] - ETA: 0s - loss: 0.4041 - accuracy: 0.8039\n",
            "Epoch 00097: saving model to /content/gdrive/My Drive/Colab Notebooks/AI_project/daniel_proto10_model/proj2/\n",
            "313/313 [==============================] - 1s 3ms/step - loss: 0.4059 - accuracy: 0.8036\n",
            "Epoch 98/300\n",
            "310/313 [============================>.] - ETA: 0s - loss: 0.4232 - accuracy: 0.7959\n",
            "Epoch 00098: saving model to /content/gdrive/My Drive/Colab Notebooks/AI_project/daniel_proto10_model/proj2/\n",
            "313/313 [==============================] - 1s 3ms/step - loss: 0.4227 - accuracy: 0.7959\n",
            "Epoch 99/300\n",
            "299/313 [===========================>..] - ETA: 0s - loss: 0.4067 - accuracy: 0.7977\n",
            "Epoch 00099: saving model to /content/gdrive/My Drive/Colab Notebooks/AI_project/daniel_proto10_model/proj2/\n",
            "313/313 [==============================] - 1s 3ms/step - loss: 0.4076 - accuracy: 0.7966\n",
            "Epoch 100/300\n",
            "301/313 [===========================>..] - ETA: 0s - loss: 0.4174 - accuracy: 0.7958\n",
            "Epoch 00100: saving model to /content/gdrive/My Drive/Colab Notebooks/AI_project/daniel_proto10_model/proj2/\n",
            "313/313 [==============================] - 1s 3ms/step - loss: 0.4164 - accuracy: 0.7964\n",
            "Epoch 101/300\n",
            "298/313 [===========================>..] - ETA: 0s - loss: 0.3994 - accuracy: 0.8042\n",
            "Epoch 00101: saving model to /content/gdrive/My Drive/Colab Notebooks/AI_project/daniel_proto10_model/proj2/\n",
            "313/313 [==============================] - 1s 3ms/step - loss: 0.3972 - accuracy: 0.8053\n",
            "Epoch 102/300\n",
            "313/313 [==============================] - ETA: 0s - loss: 0.4031 - accuracy: 0.8051\n",
            "Epoch 00102: saving model to /content/gdrive/My Drive/Colab Notebooks/AI_project/daniel_proto10_model/proj2/\n",
            "313/313 [==============================] - 1s 3ms/step - loss: 0.4031 - accuracy: 0.8051\n",
            "Epoch 103/300\n",
            "303/313 [============================>.] - ETA: 0s - loss: 0.4056 - accuracy: 0.8022\n",
            "Epoch 00103: saving model to /content/gdrive/My Drive/Colab Notebooks/AI_project/daniel_proto10_model/proj2/\n",
            "313/313 [==============================] - 1s 3ms/step - loss: 0.4082 - accuracy: 0.8007\n",
            "Epoch 104/300\n",
            "302/313 [===========================>..] - ETA: 0s - loss: 0.4124 - accuracy: 0.8004\n",
            "Epoch 00104: saving model to /content/gdrive/My Drive/Colab Notebooks/AI_project/daniel_proto10_model/proj2/\n",
            "313/313 [==============================] - 1s 3ms/step - loss: 0.4139 - accuracy: 0.7992\n",
            "Epoch 105/300\n",
            "302/313 [===========================>..] - ETA: 0s - loss: 0.4029 - accuracy: 0.8019\n",
            "Epoch 00105: saving model to /content/gdrive/My Drive/Colab Notebooks/AI_project/daniel_proto10_model/proj2/\n",
            "313/313 [==============================] - 1s 3ms/step - loss: 0.4018 - accuracy: 0.8023\n",
            "Epoch 106/300\n",
            "297/313 [===========================>..] - ETA: 0s - loss: 0.4098 - accuracy: 0.8027\n",
            "Epoch 00106: saving model to /content/gdrive/My Drive/Colab Notebooks/AI_project/daniel_proto10_model/proj2/\n",
            "313/313 [==============================] - 1s 3ms/step - loss: 0.4107 - accuracy: 0.8017\n",
            "Epoch 107/300\n",
            "309/313 [============================>.] - ETA: 0s - loss: 0.4093 - accuracy: 0.8008\n",
            "Epoch 00107: saving model to /content/gdrive/My Drive/Colab Notebooks/AI_project/daniel_proto10_model/proj2/\n",
            "313/313 [==============================] - 1s 3ms/step - loss: 0.4083 - accuracy: 0.8016\n",
            "Epoch 108/300\n",
            "296/313 [===========================>..] - ETA: 0s - loss: 0.3966 - accuracy: 0.8048\n",
            "Epoch 00108: saving model to /content/gdrive/My Drive/Colab Notebooks/AI_project/daniel_proto10_model/proj2/\n",
            "313/313 [==============================] - 1s 3ms/step - loss: 0.3967 - accuracy: 0.8040\n",
            "Epoch 109/300\n",
            "298/313 [===========================>..] - ETA: 0s - loss: 0.4015 - accuracy: 0.8063\n",
            "Epoch 00109: saving model to /content/gdrive/My Drive/Colab Notebooks/AI_project/daniel_proto10_model/proj2/\n",
            "313/313 [==============================] - 1s 3ms/step - loss: 0.4014 - accuracy: 0.8054\n",
            "Epoch 110/300\n",
            "308/313 [============================>.] - ETA: 0s - loss: 0.4019 - accuracy: 0.8039\n",
            "Epoch 00110: saving model to /content/gdrive/My Drive/Colab Notebooks/AI_project/daniel_proto10_model/proj2/\n",
            "313/313 [==============================] - 1s 3ms/step - loss: 0.4011 - accuracy: 0.8040\n",
            "Epoch 111/300\n",
            "295/313 [===========================>..] - ETA: 0s - loss: 0.4021 - accuracy: 0.8083\n",
            "Epoch 00111: saving model to /content/gdrive/My Drive/Colab Notebooks/AI_project/daniel_proto10_model/proj2/\n",
            "313/313 [==============================] - 1s 3ms/step - loss: 0.4023 - accuracy: 0.8067\n",
            "Epoch 112/300\n",
            "304/313 [============================>.] - ETA: 0s - loss: 0.4005 - accuracy: 0.8036\n",
            "Epoch 00112: saving model to /content/gdrive/My Drive/Colab Notebooks/AI_project/daniel_proto10_model/proj2/\n",
            "313/313 [==============================] - 1s 3ms/step - loss: 0.4012 - accuracy: 0.8027\n",
            "Epoch 113/300\n",
            "306/313 [============================>.] - ETA: 0s - loss: 0.4057 - accuracy: 0.8068\n",
            "Epoch 00113: saving model to /content/gdrive/My Drive/Colab Notebooks/AI_project/daniel_proto10_model/proj2/\n",
            "313/313 [==============================] - 1s 3ms/step - loss: 0.4057 - accuracy: 0.8066\n",
            "Epoch 114/300\n",
            "303/313 [============================>.] - ETA: 0s - loss: 0.3991 - accuracy: 0.8078\n",
            "Epoch 00114: saving model to /content/gdrive/My Drive/Colab Notebooks/AI_project/daniel_proto10_model/proj2/\n",
            "313/313 [==============================] - 1s 3ms/step - loss: 0.3996 - accuracy: 0.8077\n",
            "Epoch 115/300\n",
            "300/313 [===========================>..] - ETA: 0s - loss: 0.3852 - accuracy: 0.8121\n",
            "Epoch 00115: saving model to /content/gdrive/My Drive/Colab Notebooks/AI_project/daniel_proto10_model/proj2/\n",
            "313/313 [==============================] - 1s 3ms/step - loss: 0.3882 - accuracy: 0.8110\n",
            "Epoch 116/300\n",
            "303/313 [============================>.] - ETA: 0s - loss: 0.4176 - accuracy: 0.7975\n",
            "Epoch 00116: saving model to /content/gdrive/My Drive/Colab Notebooks/AI_project/daniel_proto10_model/proj2/\n",
            "313/313 [==============================] - 1s 3ms/step - loss: 0.4178 - accuracy: 0.7979\n",
            "Epoch 117/300\n",
            "312/313 [============================>.] - ETA: 0s - loss: 0.3782 - accuracy: 0.8150\n",
            "Epoch 00117: saving model to /content/gdrive/My Drive/Colab Notebooks/AI_project/daniel_proto10_model/proj2/\n",
            "313/313 [==============================] - 1s 3ms/step - loss: 0.3783 - accuracy: 0.8148\n",
            "Epoch 118/300\n",
            "306/313 [============================>.] - ETA: 0s - loss: 0.3799 - accuracy: 0.8147\n",
            "Epoch 00118: saving model to /content/gdrive/My Drive/Colab Notebooks/AI_project/daniel_proto10_model/proj2/\n",
            "313/313 [==============================] - 1s 3ms/step - loss: 0.3793 - accuracy: 0.8148\n",
            "Epoch 119/300\n",
            "298/313 [===========================>..] - ETA: 0s - loss: 0.3910 - accuracy: 0.8105\n",
            "Epoch 00119: saving model to /content/gdrive/My Drive/Colab Notebooks/AI_project/daniel_proto10_model/proj2/\n",
            "313/313 [==============================] - 1s 3ms/step - loss: 0.3931 - accuracy: 0.8098\n",
            "Epoch 120/300\n",
            "306/313 [============================>.] - ETA: 0s - loss: 0.3970 - accuracy: 0.8086\n",
            "Epoch 00120: saving model to /content/gdrive/My Drive/Colab Notebooks/AI_project/daniel_proto10_model/proj2/\n",
            "313/313 [==============================] - 1s 3ms/step - loss: 0.3963 - accuracy: 0.8085\n",
            "Epoch 121/300\n",
            "297/313 [===========================>..] - ETA: 0s - loss: 0.3966 - accuracy: 0.8028\n",
            "Epoch 00121: saving model to /content/gdrive/My Drive/Colab Notebooks/AI_project/daniel_proto10_model/proj2/\n",
            "313/313 [==============================] - 1s 3ms/step - loss: 0.3971 - accuracy: 0.8033\n",
            "Epoch 122/300\n",
            "297/313 [===========================>..] - ETA: 0s - loss: 0.3850 - accuracy: 0.8145\n",
            "Epoch 00122: saving model to /content/gdrive/My Drive/Colab Notebooks/AI_project/daniel_proto10_model/proj2/\n",
            "313/313 [==============================] - 1s 3ms/step - loss: 0.3849 - accuracy: 0.8151\n",
            "Epoch 123/300\n",
            "309/313 [============================>.] - ETA: 0s - loss: 0.3834 - accuracy: 0.8131\n",
            "Epoch 00123: saving model to /content/gdrive/My Drive/Colab Notebooks/AI_project/daniel_proto10_model/proj2/\n",
            "313/313 [==============================] - 1s 3ms/step - loss: 0.3842 - accuracy: 0.8133\n",
            "Epoch 124/300\n",
            "301/313 [===========================>..] - ETA: 0s - loss: 0.3869 - accuracy: 0.8130\n",
            "Epoch 00124: saving model to /content/gdrive/My Drive/Colab Notebooks/AI_project/daniel_proto10_model/proj2/\n",
            "313/313 [==============================] - 1s 3ms/step - loss: 0.3891 - accuracy: 0.8110\n",
            "Epoch 125/300\n",
            "301/313 [===========================>..] - ETA: 0s - loss: 0.3979 - accuracy: 0.8038\n",
            "Epoch 00125: saving model to /content/gdrive/My Drive/Colab Notebooks/AI_project/daniel_proto10_model/proj2/\n",
            "313/313 [==============================] - 1s 3ms/step - loss: 0.3984 - accuracy: 0.8036\n",
            "Epoch 126/300\n",
            "306/313 [============================>.] - ETA: 0s - loss: 0.3919 - accuracy: 0.8109\n",
            "Epoch 00126: saving model to /content/gdrive/My Drive/Colab Notebooks/AI_project/daniel_proto10_model/proj2/\n",
            "313/313 [==============================] - 1s 4ms/step - loss: 0.3926 - accuracy: 0.8106\n",
            "Epoch 127/300\n",
            "312/313 [============================>.] - ETA: 0s - loss: 0.3726 - accuracy: 0.8158\n",
            "Epoch 00127: saving model to /content/gdrive/My Drive/Colab Notebooks/AI_project/daniel_proto10_model/proj2/\n",
            "313/313 [==============================] - 1s 3ms/step - loss: 0.3727 - accuracy: 0.8157\n",
            "Epoch 128/300\n",
            "306/313 [============================>.] - ETA: 0s - loss: 0.3725 - accuracy: 0.8200\n",
            "Epoch 00128: saving model to /content/gdrive/My Drive/Colab Notebooks/AI_project/daniel_proto10_model/proj2/\n",
            "313/313 [==============================] - 1s 4ms/step - loss: 0.3732 - accuracy: 0.8196\n",
            "Epoch 129/300\n",
            "299/313 [===========================>..] - ETA: 0s - loss: 0.3750 - accuracy: 0.8147\n",
            "Epoch 00129: saving model to /content/gdrive/My Drive/Colab Notebooks/AI_project/daniel_proto10_model/proj2/\n",
            "313/313 [==============================] - 1s 3ms/step - loss: 0.3765 - accuracy: 0.8142\n",
            "Epoch 130/300\n",
            "310/313 [============================>.] - ETA: 0s - loss: 0.4003 - accuracy: 0.8055\n",
            "Epoch 00130: saving model to /content/gdrive/My Drive/Colab Notebooks/AI_project/daniel_proto10_model/proj2/\n",
            "313/313 [==============================] - 1s 3ms/step - loss: 0.4012 - accuracy: 0.8051\n",
            "Epoch 131/300\n",
            "309/313 [============================>.] - ETA: 0s - loss: 0.3886 - accuracy: 0.8111\n",
            "Epoch 00131: saving model to /content/gdrive/My Drive/Colab Notebooks/AI_project/daniel_proto10_model/proj2/\n",
            "313/313 [==============================] - 1s 4ms/step - loss: 0.3881 - accuracy: 0.8113\n",
            "Epoch 132/300\n",
            "304/313 [============================>.] - ETA: 0s - loss: 0.3766 - accuracy: 0.8155\n",
            "Epoch 00132: saving model to /content/gdrive/My Drive/Colab Notebooks/AI_project/daniel_proto10_model/proj2/\n",
            "313/313 [==============================] - 1s 4ms/step - loss: 0.3768 - accuracy: 0.8155\n",
            "Epoch 133/300\n",
            "301/313 [===========================>..] - ETA: 0s - loss: 0.3741 - accuracy: 0.8210\n",
            "Epoch 00133: saving model to /content/gdrive/My Drive/Colab Notebooks/AI_project/daniel_proto10_model/proj2/\n",
            "313/313 [==============================] - 1s 4ms/step - loss: 0.3759 - accuracy: 0.8203\n",
            "Epoch 134/300\n",
            "301/313 [===========================>..] - ETA: 0s - loss: 0.3738 - accuracy: 0.8149\n",
            "Epoch 00134: saving model to /content/gdrive/My Drive/Colab Notebooks/AI_project/daniel_proto10_model/proj2/\n",
            "313/313 [==============================] - 1s 4ms/step - loss: 0.3755 - accuracy: 0.8132\n",
            "Epoch 135/300\n",
            "307/313 [============================>.] - ETA: 0s - loss: 0.3839 - accuracy: 0.8162\n",
            "Epoch 00135: saving model to /content/gdrive/My Drive/Colab Notebooks/AI_project/daniel_proto10_model/proj2/\n",
            "313/313 [==============================] - 1s 4ms/step - loss: 0.3850 - accuracy: 0.8155\n",
            "Epoch 136/300\n",
            "311/313 [============================>.] - ETA: 0s - loss: 0.3897 - accuracy: 0.8137\n",
            "Epoch 00136: saving model to /content/gdrive/My Drive/Colab Notebooks/AI_project/daniel_proto10_model/proj2/\n",
            "313/313 [==============================] - 1s 4ms/step - loss: 0.3891 - accuracy: 0.8138\n",
            "Epoch 137/300\n",
            "312/313 [============================>.] - ETA: 0s - loss: 0.3857 - accuracy: 0.8145\n",
            "Epoch 00137: saving model to /content/gdrive/My Drive/Colab Notebooks/AI_project/daniel_proto10_model/proj2/\n",
            "313/313 [==============================] - 1s 4ms/step - loss: 0.3861 - accuracy: 0.8142\n",
            "Epoch 138/300\n",
            "312/313 [============================>.] - ETA: 0s - loss: 0.3886 - accuracy: 0.8113\n",
            "Epoch 00138: saving model to /content/gdrive/My Drive/Colab Notebooks/AI_project/daniel_proto10_model/proj2/\n",
            "313/313 [==============================] - 1s 4ms/step - loss: 0.3884 - accuracy: 0.8114\n",
            "Epoch 139/300\n",
            "306/313 [============================>.] - ETA: 0s - loss: 0.3827 - accuracy: 0.8161\n",
            "Epoch 00139: saving model to /content/gdrive/My Drive/Colab Notebooks/AI_project/daniel_proto10_model/proj2/\n",
            "313/313 [==============================] - 1s 4ms/step - loss: 0.3813 - accuracy: 0.8164\n",
            "Epoch 140/300\n",
            "304/313 [============================>.] - ETA: 0s - loss: 0.3610 - accuracy: 0.8224\n",
            "Epoch 00140: saving model to /content/gdrive/My Drive/Colab Notebooks/AI_project/daniel_proto10_model/proj2/\n",
            "313/313 [==============================] - 1s 3ms/step - loss: 0.3611 - accuracy: 0.8226\n",
            "Epoch 141/300\n",
            "298/313 [===========================>..] - ETA: 0s - loss: 0.3546 - accuracy: 0.8212\n",
            "Epoch 00141: saving model to /content/gdrive/My Drive/Colab Notebooks/AI_project/daniel_proto10_model/proj2/\n",
            "313/313 [==============================] - 1s 4ms/step - loss: 0.3535 - accuracy: 0.8221\n",
            "Epoch 142/300\n",
            "313/313 [==============================] - ETA: 0s - loss: 0.3580 - accuracy: 0.8203\n",
            "Epoch 00142: saving model to /content/gdrive/My Drive/Colab Notebooks/AI_project/daniel_proto10_model/proj2/\n",
            "313/313 [==============================] - 1s 4ms/step - loss: 0.3580 - accuracy: 0.8203\n",
            "Epoch 143/300\n",
            "298/313 [===========================>..] - ETA: 0s - loss: 0.4048 - accuracy: 0.8060\n",
            "Epoch 00143: saving model to /content/gdrive/My Drive/Colab Notebooks/AI_project/daniel_proto10_model/proj2/\n",
            "313/313 [==============================] - 1s 4ms/step - loss: 0.4096 - accuracy: 0.8042\n",
            "Epoch 144/300\n",
            "305/313 [============================>.] - ETA: 0s - loss: 0.4129 - accuracy: 0.8032\n",
            "Epoch 00144: saving model to /content/gdrive/My Drive/Colab Notebooks/AI_project/daniel_proto10_model/proj2/\n",
            "313/313 [==============================] - 1s 4ms/step - loss: 0.4130 - accuracy: 0.8037\n",
            "Epoch 145/300\n",
            "306/313 [============================>.] - ETA: 0s - loss: 0.3720 - accuracy: 0.8199\n",
            "Epoch 00145: saving model to /content/gdrive/My Drive/Colab Notebooks/AI_project/daniel_proto10_model/proj2/\n",
            "313/313 [==============================] - 1s 4ms/step - loss: 0.3715 - accuracy: 0.8196\n",
            "Epoch 146/300\n",
            "300/313 [===========================>..] - ETA: 0s - loss: 0.3647 - accuracy: 0.8224\n",
            "Epoch 00146: saving model to /content/gdrive/My Drive/Colab Notebooks/AI_project/daniel_proto10_model/proj2/\n",
            "313/313 [==============================] - 1s 4ms/step - loss: 0.3642 - accuracy: 0.8227\n",
            "Epoch 147/300\n",
            "303/313 [============================>.] - ETA: 0s - loss: 0.3508 - accuracy: 0.8287\n",
            "Epoch 00147: saving model to /content/gdrive/My Drive/Colab Notebooks/AI_project/daniel_proto10_model/proj2/\n",
            "313/313 [==============================] - 1s 4ms/step - loss: 0.3498 - accuracy: 0.8294\n",
            "Epoch 148/300\n",
            "305/313 [============================>.] - ETA: 0s - loss: 0.3526 - accuracy: 0.8266\n",
            "Epoch 00148: saving model to /content/gdrive/My Drive/Colab Notebooks/AI_project/daniel_proto10_model/proj2/\n",
            "313/313 [==============================] - 1s 4ms/step - loss: 0.3535 - accuracy: 0.8262\n",
            "Epoch 149/300\n",
            "310/313 [============================>.] - ETA: 0s - loss: 0.3548 - accuracy: 0.8260\n",
            "Epoch 00149: saving model to /content/gdrive/My Drive/Colab Notebooks/AI_project/daniel_proto10_model/proj2/\n",
            "313/313 [==============================] - 1s 4ms/step - loss: 0.3545 - accuracy: 0.8260\n",
            "Epoch 150/300\n",
            "301/313 [===========================>..] - ETA: 0s - loss: 0.3741 - accuracy: 0.8190\n",
            "Epoch 00150: saving model to /content/gdrive/My Drive/Colab Notebooks/AI_project/daniel_proto10_model/proj2/\n",
            "313/313 [==============================] - 1s 4ms/step - loss: 0.3739 - accuracy: 0.8194\n",
            "Epoch 151/300\n",
            "304/313 [============================>.] - ETA: 0s - loss: 0.3548 - accuracy: 0.8279\n",
            "Epoch 00151: saving model to /content/gdrive/My Drive/Colab Notebooks/AI_project/daniel_proto10_model/proj2/\n",
            "313/313 [==============================] - 1s 4ms/step - loss: 0.3552 - accuracy: 0.8272\n",
            "Epoch 152/300\n",
            "302/313 [===========================>..] - ETA: 0s - loss: 0.3812 - accuracy: 0.8173\n",
            "Epoch 00152: saving model to /content/gdrive/My Drive/Colab Notebooks/AI_project/daniel_proto10_model/proj2/\n",
            "313/313 [==============================] - 1s 3ms/step - loss: 0.3800 - accuracy: 0.8180\n",
            "Epoch 153/300\n",
            "308/313 [============================>.] - ETA: 0s - loss: 0.3801 - accuracy: 0.8207\n",
            "Epoch 00153: saving model to /content/gdrive/My Drive/Colab Notebooks/AI_project/daniel_proto10_model/proj2/\n",
            "313/313 [==============================] - 1s 4ms/step - loss: 0.3794 - accuracy: 0.8211\n",
            "Epoch 154/300\n",
            "296/313 [===========================>..] - ETA: 0s - loss: 0.3804 - accuracy: 0.8179\n",
            "Epoch 00154: saving model to /content/gdrive/My Drive/Colab Notebooks/AI_project/daniel_proto10_model/proj2/\n",
            "313/313 [==============================] - 1s 4ms/step - loss: 0.3817 - accuracy: 0.8167\n",
            "Epoch 155/300\n",
            "301/313 [===========================>..] - ETA: 0s - loss: 0.3756 - accuracy: 0.8217\n",
            "Epoch 00155: saving model to /content/gdrive/My Drive/Colab Notebooks/AI_project/daniel_proto10_model/proj2/\n",
            "313/313 [==============================] - 1s 4ms/step - loss: 0.3765 - accuracy: 0.8226\n",
            "Epoch 156/300\n",
            "300/313 [===========================>..] - ETA: 0s - loss: 0.3590 - accuracy: 0.8242\n",
            "Epoch 00156: saving model to /content/gdrive/My Drive/Colab Notebooks/AI_project/daniel_proto10_model/proj2/\n",
            "313/313 [==============================] - 1s 4ms/step - loss: 0.3614 - accuracy: 0.8233\n",
            "Epoch 157/300\n",
            "311/313 [============================>.] - ETA: 0s - loss: 0.3720 - accuracy: 0.8197\n",
            "Epoch 00157: saving model to /content/gdrive/My Drive/Colab Notebooks/AI_project/daniel_proto10_model/proj2/\n",
            "313/313 [==============================] - 1s 4ms/step - loss: 0.3726 - accuracy: 0.8196\n",
            "Epoch 158/300\n",
            "300/313 [===========================>..] - ETA: 0s - loss: 0.3604 - accuracy: 0.8213\n",
            "Epoch 00158: saving model to /content/gdrive/My Drive/Colab Notebooks/AI_project/daniel_proto10_model/proj2/\n",
            "313/313 [==============================] - 1s 4ms/step - loss: 0.3597 - accuracy: 0.8214\n",
            "Epoch 159/300\n",
            "304/313 [============================>.] - ETA: 0s - loss: 0.3482 - accuracy: 0.8259\n",
            "Epoch 00159: saving model to /content/gdrive/My Drive/Colab Notebooks/AI_project/daniel_proto10_model/proj2/\n",
            "313/313 [==============================] - 1s 4ms/step - loss: 0.3474 - accuracy: 0.8265\n",
            "Epoch 160/300\n",
            "307/313 [============================>.] - ETA: 0s - loss: 0.3457 - accuracy: 0.8270\n",
            "Epoch 00160: saving model to /content/gdrive/My Drive/Colab Notebooks/AI_project/daniel_proto10_model/proj2/\n",
            "313/313 [==============================] - 1s 4ms/step - loss: 0.3463 - accuracy: 0.8262\n",
            "Epoch 161/300\n",
            "302/313 [===========================>..] - ETA: 0s - loss: 0.3547 - accuracy: 0.8264\n",
            "Epoch 00161: saving model to /content/gdrive/My Drive/Colab Notebooks/AI_project/daniel_proto10_model/proj2/\n",
            "313/313 [==============================] - 1s 4ms/step - loss: 0.3541 - accuracy: 0.8270\n",
            "Epoch 162/300\n",
            "303/313 [============================>.] - ETA: 0s - loss: 0.3588 - accuracy: 0.8259\n",
            "Epoch 00162: saving model to /content/gdrive/My Drive/Colab Notebooks/AI_project/daniel_proto10_model/proj2/\n",
            "313/313 [==============================] - 1s 4ms/step - loss: 0.3608 - accuracy: 0.8263\n",
            "Epoch 163/300\n",
            "310/313 [============================>.] - ETA: 0s - loss: 0.3622 - accuracy: 0.8278\n",
            "Epoch 00163: saving model to /content/gdrive/My Drive/Colab Notebooks/AI_project/daniel_proto10_model/proj2/\n",
            "313/313 [==============================] - 1s 4ms/step - loss: 0.3636 - accuracy: 0.8272\n",
            "Epoch 164/300\n",
            "303/313 [============================>.] - ETA: 0s - loss: 0.3520 - accuracy: 0.8286\n",
            "Epoch 00164: saving model to /content/gdrive/My Drive/Colab Notebooks/AI_project/daniel_proto10_model/proj2/\n",
            "313/313 [==============================] - 1s 4ms/step - loss: 0.3514 - accuracy: 0.8293\n",
            "Epoch 165/300\n",
            "300/313 [===========================>..] - ETA: 0s - loss: 0.3664 - accuracy: 0.8229\n",
            "Epoch 00165: saving model to /content/gdrive/My Drive/Colab Notebooks/AI_project/daniel_proto10_model/proj2/\n",
            "313/313 [==============================] - 1s 4ms/step - loss: 0.3681 - accuracy: 0.8231\n",
            "Epoch 166/300\n",
            "297/313 [===========================>..] - ETA: 0s - loss: 0.3813 - accuracy: 0.8186\n",
            "Epoch 00166: saving model to /content/gdrive/My Drive/Colab Notebooks/AI_project/daniel_proto10_model/proj2/\n",
            "313/313 [==============================] - 1s 4ms/step - loss: 0.3784 - accuracy: 0.8204\n",
            "Epoch 167/300\n",
            "302/313 [===========================>..] - ETA: 0s - loss: 0.3506 - accuracy: 0.8253\n",
            "Epoch 00167: saving model to /content/gdrive/My Drive/Colab Notebooks/AI_project/daniel_proto10_model/proj2/\n",
            "313/313 [==============================] - 1s 4ms/step - loss: 0.3501 - accuracy: 0.8260\n",
            "Epoch 168/300\n",
            "304/313 [============================>.] - ETA: 0s - loss: 0.3371 - accuracy: 0.8332\n",
            "Epoch 00168: saving model to /content/gdrive/My Drive/Colab Notebooks/AI_project/daniel_proto10_model/proj2/\n",
            "313/313 [==============================] - 1s 3ms/step - loss: 0.3364 - accuracy: 0.8345\n",
            "Epoch 169/300\n",
            "304/313 [============================>.] - ETA: 0s - loss: 0.3399 - accuracy: 0.8301\n",
            "Epoch 00169: saving model to /content/gdrive/My Drive/Colab Notebooks/AI_project/daniel_proto10_model/proj2/\n",
            "313/313 [==============================] - 1s 4ms/step - loss: 0.3399 - accuracy: 0.8296\n",
            "Epoch 170/300\n",
            "311/313 [============================>.] - ETA: 0s - loss: 0.3446 - accuracy: 0.8324\n",
            "Epoch 00170: saving model to /content/gdrive/My Drive/Colab Notebooks/AI_project/daniel_proto10_model/proj2/\n",
            "313/313 [==============================] - 1s 4ms/step - loss: 0.3445 - accuracy: 0.8324\n",
            "Epoch 171/300\n",
            "313/313 [==============================] - ETA: 0s - loss: 0.3520 - accuracy: 0.8296\n",
            "Epoch 00171: saving model to /content/gdrive/My Drive/Colab Notebooks/AI_project/daniel_proto10_model/proj2/\n",
            "313/313 [==============================] - 1s 4ms/step - loss: 0.3520 - accuracy: 0.8296\n",
            "Epoch 172/300\n",
            "298/313 [===========================>..] - ETA: 0s - loss: 0.3396 - accuracy: 0.8350\n",
            "Epoch 00172: saving model to /content/gdrive/My Drive/Colab Notebooks/AI_project/daniel_proto10_model/proj2/\n",
            "313/313 [==============================] - 1s 4ms/step - loss: 0.3385 - accuracy: 0.8347\n",
            "Epoch 173/300\n",
            "302/313 [===========================>..] - ETA: 0s - loss: 0.3715 - accuracy: 0.8304\n",
            "Epoch 00173: saving model to /content/gdrive/My Drive/Colab Notebooks/AI_project/daniel_proto10_model/proj2/\n",
            "313/313 [==============================] - 1s 4ms/step - loss: 0.3714 - accuracy: 0.8311\n",
            "Epoch 174/300\n",
            "311/313 [============================>.] - ETA: 0s - loss: 0.4125 - accuracy: 0.8091\n",
            "Epoch 00174: saving model to /content/gdrive/My Drive/Colab Notebooks/AI_project/daniel_proto10_model/proj2/\n",
            "313/313 [==============================] - 1s 4ms/step - loss: 0.4130 - accuracy: 0.8089\n",
            "Epoch 175/300\n",
            "297/313 [===========================>..] - ETA: 0s - loss: 0.3601 - accuracy: 0.8266\n",
            "Epoch 00175: saving model to /content/gdrive/My Drive/Colab Notebooks/AI_project/daniel_proto10_model/proj2/\n",
            "313/313 [==============================] - 1s 4ms/step - loss: 0.3628 - accuracy: 0.8255\n",
            "Epoch 176/300\n",
            "304/313 [============================>.] - ETA: 0s - loss: 0.3521 - accuracy: 0.8303\n",
            "Epoch 00176: saving model to /content/gdrive/My Drive/Colab Notebooks/AI_project/daniel_proto10_model/proj2/\n",
            "313/313 [==============================] - 1s 4ms/step - loss: 0.3525 - accuracy: 0.8292\n",
            "Epoch 177/300\n",
            "304/313 [============================>.] - ETA: 0s - loss: 0.3379 - accuracy: 0.8377\n",
            "Epoch 00177: saving model to /content/gdrive/My Drive/Colab Notebooks/AI_project/daniel_proto10_model/proj2/\n",
            "313/313 [==============================] - 1s 4ms/step - loss: 0.3381 - accuracy: 0.8374\n",
            "Epoch 178/300\n",
            "303/313 [============================>.] - ETA: 0s - loss: 0.3387 - accuracy: 0.8331\n",
            "Epoch 00178: saving model to /content/gdrive/My Drive/Colab Notebooks/AI_project/daniel_proto10_model/proj2/\n",
            "313/313 [==============================] - 1s 4ms/step - loss: 0.3398 - accuracy: 0.8329\n",
            "Epoch 179/300\n",
            "308/313 [============================>.] - ETA: 0s - loss: 0.3357 - accuracy: 0.8366\n",
            "Epoch 00179: saving model to /content/gdrive/My Drive/Colab Notebooks/AI_project/daniel_proto10_model/proj2/\n",
            "313/313 [==============================] - 1s 3ms/step - loss: 0.3356 - accuracy: 0.8368\n",
            "Epoch 180/300\n",
            "297/313 [===========================>..] - ETA: 0s - loss: 0.3352 - accuracy: 0.8353\n",
            "Epoch 00180: saving model to /content/gdrive/My Drive/Colab Notebooks/AI_project/daniel_proto10_model/proj2/\n",
            "313/313 [==============================] - 1s 4ms/step - loss: 0.3338 - accuracy: 0.8358\n",
            "Epoch 181/300\n",
            "306/313 [============================>.] - ETA: 0s - loss: 0.3359 - accuracy: 0.8345\n",
            "Epoch 00181: saving model to /content/gdrive/My Drive/Colab Notebooks/AI_project/daniel_proto10_model/proj2/\n",
            "313/313 [==============================] - 1s 4ms/step - loss: 0.3372 - accuracy: 0.8341\n",
            "Epoch 182/300\n",
            "303/313 [============================>.] - ETA: 0s - loss: 0.3359 - accuracy: 0.8370\n",
            "Epoch 00182: saving model to /content/gdrive/My Drive/Colab Notebooks/AI_project/daniel_proto10_model/proj2/\n",
            "313/313 [==============================] - 1s 4ms/step - loss: 0.3363 - accuracy: 0.8366\n",
            "Epoch 183/300\n",
            "310/313 [============================>.] - ETA: 0s - loss: 0.3663 - accuracy: 0.8245\n",
            "Epoch 00183: saving model to /content/gdrive/My Drive/Colab Notebooks/AI_project/daniel_proto10_model/proj2/\n",
            "313/313 [==============================] - 1s 4ms/step - loss: 0.3662 - accuracy: 0.8247\n",
            "Epoch 184/300\n",
            "307/313 [============================>.] - ETA: 0s - loss: 0.3783 - accuracy: 0.8174\n",
            "Epoch 00184: saving model to /content/gdrive/My Drive/Colab Notebooks/AI_project/daniel_proto10_model/proj2/\n",
            "313/313 [==============================] - 1s 4ms/step - loss: 0.3786 - accuracy: 0.8171\n",
            "Epoch 185/300\n",
            "313/313 [==============================] - ETA: 0s - loss: 0.3569 - accuracy: 0.8251\n",
            "Epoch 00185: saving model to /content/gdrive/My Drive/Colab Notebooks/AI_project/daniel_proto10_model/proj2/\n",
            "313/313 [==============================] - 1s 4ms/step - loss: 0.3569 - accuracy: 0.8251\n",
            "Epoch 186/300\n",
            "313/313 [==============================] - ETA: 0s - loss: 0.3397 - accuracy: 0.8340\n",
            "Epoch 00186: saving model to /content/gdrive/My Drive/Colab Notebooks/AI_project/daniel_proto10_model/proj2/\n",
            "313/313 [==============================] - 1s 4ms/step - loss: 0.3397 - accuracy: 0.8340\n",
            "Epoch 187/300\n",
            "307/313 [============================>.] - ETA: 0s - loss: 0.3526 - accuracy: 0.8302\n",
            "Epoch 00187: saving model to /content/gdrive/My Drive/Colab Notebooks/AI_project/daniel_proto10_model/proj2/\n",
            "313/313 [==============================] - 1s 3ms/step - loss: 0.3523 - accuracy: 0.8301\n",
            "Epoch 188/300\n",
            "302/313 [===========================>..] - ETA: 0s - loss: 0.3477 - accuracy: 0.8279\n",
            "Epoch 00188: saving model to /content/gdrive/My Drive/Colab Notebooks/AI_project/daniel_proto10_model/proj2/\n",
            "313/313 [==============================] - 1s 4ms/step - loss: 0.3464 - accuracy: 0.8287\n",
            "Epoch 189/300\n",
            "306/313 [============================>.] - ETA: 0s - loss: 0.3391 - accuracy: 0.8309\n",
            "Epoch 00189: saving model to /content/gdrive/My Drive/Colab Notebooks/AI_project/daniel_proto10_model/proj2/\n",
            "313/313 [==============================] - 1s 4ms/step - loss: 0.3385 - accuracy: 0.8311\n",
            "Epoch 190/300\n",
            "312/313 [============================>.] - ETA: 0s - loss: 0.3301 - accuracy: 0.8333\n",
            "Epoch 00190: saving model to /content/gdrive/My Drive/Colab Notebooks/AI_project/daniel_proto10_model/proj2/\n",
            "313/313 [==============================] - 1s 4ms/step - loss: 0.3302 - accuracy: 0.8334\n",
            "Epoch 191/300\n",
            "303/313 [============================>.] - ETA: 0s - loss: 0.3388 - accuracy: 0.8335\n",
            "Epoch 00191: saving model to /content/gdrive/My Drive/Colab Notebooks/AI_project/daniel_proto10_model/proj2/\n",
            "313/313 [==============================] - 1s 4ms/step - loss: 0.3378 - accuracy: 0.8347\n",
            "Epoch 192/300\n",
            "310/313 [============================>.] - ETA: 0s - loss: 0.3324 - accuracy: 0.8349\n",
            "Epoch 00192: saving model to /content/gdrive/My Drive/Colab Notebooks/AI_project/daniel_proto10_model/proj2/\n",
            "313/313 [==============================] - 1s 4ms/step - loss: 0.3320 - accuracy: 0.8354\n",
            "Epoch 193/300\n",
            "313/313 [==============================] - ETA: 0s - loss: 0.3359 - accuracy: 0.8342\n",
            "Epoch 00193: saving model to /content/gdrive/My Drive/Colab Notebooks/AI_project/daniel_proto10_model/proj2/\n",
            "313/313 [==============================] - 1s 4ms/step - loss: 0.3359 - accuracy: 0.8342\n",
            "Epoch 194/300\n",
            "313/313 [==============================] - ETA: 0s - loss: 0.3681 - accuracy: 0.8229\n",
            "Epoch 00194: saving model to /content/gdrive/My Drive/Colab Notebooks/AI_project/daniel_proto10_model/proj2/\n",
            "313/313 [==============================] - 1s 4ms/step - loss: 0.3681 - accuracy: 0.8229\n",
            "Epoch 195/300\n",
            "304/313 [============================>.] - ETA: 0s - loss: 0.3616 - accuracy: 0.8305\n",
            "Epoch 00195: saving model to /content/gdrive/My Drive/Colab Notebooks/AI_project/daniel_proto10_model/proj2/\n",
            "313/313 [==============================] - 1s 4ms/step - loss: 0.3611 - accuracy: 0.8299\n",
            "Epoch 196/300\n",
            "305/313 [============================>.] - ETA: 0s - loss: 0.3525 - accuracy: 0.8320\n",
            "Epoch 00196: saving model to /content/gdrive/My Drive/Colab Notebooks/AI_project/daniel_proto10_model/proj2/\n",
            "313/313 [==============================] - 1s 4ms/step - loss: 0.3525 - accuracy: 0.8323\n",
            "Epoch 197/300\n",
            "301/313 [===========================>..] - ETA: 0s - loss: 0.3372 - accuracy: 0.8358\n",
            "Epoch 00197: saving model to /content/gdrive/My Drive/Colab Notebooks/AI_project/daniel_proto10_model/proj2/\n",
            "313/313 [==============================] - 1s 4ms/step - loss: 0.3391 - accuracy: 0.8359\n",
            "Epoch 198/300\n",
            "313/313 [==============================] - ETA: 0s - loss: 0.3276 - accuracy: 0.8364\n",
            "Epoch 00198: saving model to /content/gdrive/My Drive/Colab Notebooks/AI_project/daniel_proto10_model/proj2/\n",
            "313/313 [==============================] - 1s 4ms/step - loss: 0.3276 - accuracy: 0.8364\n",
            "Epoch 199/300\n",
            "302/313 [===========================>..] - ETA: 0s - loss: 0.3340 - accuracy: 0.8352\n",
            "Epoch 00199: saving model to /content/gdrive/My Drive/Colab Notebooks/AI_project/daniel_proto10_model/proj2/\n",
            "313/313 [==============================] - 1s 4ms/step - loss: 0.3352 - accuracy: 0.8338\n",
            "Epoch 200/300\n",
            "309/313 [============================>.] - ETA: 0s - loss: 0.3303 - accuracy: 0.8357\n",
            "Epoch 00200: saving model to /content/gdrive/My Drive/Colab Notebooks/AI_project/daniel_proto10_model/proj2/\n",
            "313/313 [==============================] - 1s 4ms/step - loss: 0.3303 - accuracy: 0.8361\n",
            "Epoch 201/300\n",
            "312/313 [============================>.] - ETA: 0s - loss: 0.3293 - accuracy: 0.8394\n",
            "Epoch 00201: saving model to /content/gdrive/My Drive/Colab Notebooks/AI_project/daniel_proto10_model/proj2/\n",
            "313/313 [==============================] - 1s 4ms/step - loss: 0.3294 - accuracy: 0.8393\n",
            "Epoch 202/300\n",
            "313/313 [==============================] - ETA: 0s - loss: 0.3297 - accuracy: 0.8423\n",
            "Epoch 00202: saving model to /content/gdrive/My Drive/Colab Notebooks/AI_project/daniel_proto10_model/proj2/\n",
            "313/313 [==============================] - 1s 4ms/step - loss: 0.3297 - accuracy: 0.8423\n",
            "Epoch 203/300\n",
            "312/313 [============================>.] - ETA: 0s - loss: 0.3501 - accuracy: 0.8291\n",
            "Epoch 00203: saving model to /content/gdrive/My Drive/Colab Notebooks/AI_project/daniel_proto10_model/proj2/\n",
            "313/313 [==============================] - 1s 4ms/step - loss: 0.3503 - accuracy: 0.8292\n",
            "Epoch 204/300\n",
            "301/313 [===========================>..] - ETA: 0s - loss: 0.3292 - accuracy: 0.8407\n",
            "Epoch 00204: saving model to /content/gdrive/My Drive/Colab Notebooks/AI_project/daniel_proto10_model/proj2/\n",
            "313/313 [==============================] - 1s 4ms/step - loss: 0.3284 - accuracy: 0.8408\n",
            "Epoch 205/300\n",
            "308/313 [============================>.] - ETA: 0s - loss: 0.3412 - accuracy: 0.8380\n",
            "Epoch 00205: saving model to /content/gdrive/My Drive/Colab Notebooks/AI_project/daniel_proto10_model/proj2/\n",
            "313/313 [==============================] - 1s 4ms/step - loss: 0.3411 - accuracy: 0.8380\n",
            "Epoch 206/300\n",
            "313/313 [==============================] - ETA: 0s - loss: 0.3355 - accuracy: 0.8380\n",
            "Epoch 00206: saving model to /content/gdrive/My Drive/Colab Notebooks/AI_project/daniel_proto10_model/proj2/\n",
            "313/313 [==============================] - 1s 4ms/step - loss: 0.3355 - accuracy: 0.8380\n",
            "Epoch 207/300\n",
            "304/313 [============================>.] - ETA: 0s - loss: 0.3461 - accuracy: 0.8311\n",
            "Epoch 00207: saving model to /content/gdrive/My Drive/Colab Notebooks/AI_project/daniel_proto10_model/proj2/\n",
            "313/313 [==============================] - 1s 4ms/step - loss: 0.3450 - accuracy: 0.8316\n",
            "Epoch 208/300\n",
            "303/313 [============================>.] - ETA: 0s - loss: 0.3469 - accuracy: 0.8361\n",
            "Epoch 00208: saving model to /content/gdrive/My Drive/Colab Notebooks/AI_project/daniel_proto10_model/proj2/\n",
            "313/313 [==============================] - 1s 4ms/step - loss: 0.3496 - accuracy: 0.8359\n",
            "Epoch 209/300\n",
            "299/313 [===========================>..] - ETA: 0s - loss: 0.3360 - accuracy: 0.8360\n",
            "Epoch 00209: saving model to /content/gdrive/My Drive/Colab Notebooks/AI_project/daniel_proto10_model/proj2/\n",
            "313/313 [==============================] - 1s 4ms/step - loss: 0.3379 - accuracy: 0.8351\n",
            "Epoch 210/300\n",
            "311/313 [============================>.] - ETA: 0s - loss: 0.3381 - accuracy: 0.8389\n",
            "Epoch 00210: saving model to /content/gdrive/My Drive/Colab Notebooks/AI_project/daniel_proto10_model/proj2/\n",
            "313/313 [==============================] - 1s 4ms/step - loss: 0.3384 - accuracy: 0.8389\n",
            "Epoch 211/300\n",
            "308/313 [============================>.] - ETA: 0s - loss: 0.3313 - accuracy: 0.8363\n",
            "Epoch 00211: saving model to /content/gdrive/My Drive/Colab Notebooks/AI_project/daniel_proto10_model/proj2/\n",
            "313/313 [==============================] - 1s 4ms/step - loss: 0.3318 - accuracy: 0.8368\n",
            "Epoch 212/300\n",
            "307/313 [============================>.] - ETA: 0s - loss: 0.3136 - accuracy: 0.8460\n",
            "Epoch 00212: saving model to /content/gdrive/My Drive/Colab Notebooks/AI_project/daniel_proto10_model/proj2/\n",
            "313/313 [==============================] - 1s 4ms/step - loss: 0.3129 - accuracy: 0.8462\n",
            "Epoch 213/300\n",
            "305/313 [============================>.] - ETA: 0s - loss: 0.3377 - accuracy: 0.8350\n",
            "Epoch 00213: saving model to /content/gdrive/My Drive/Colab Notebooks/AI_project/daniel_proto10_model/proj2/\n",
            "313/313 [==============================] - 1s 4ms/step - loss: 0.3372 - accuracy: 0.8346\n",
            "Epoch 214/300\n",
            "301/313 [===========================>..] - ETA: 0s - loss: 0.3235 - accuracy: 0.8422\n",
            "Epoch 00214: saving model to /content/gdrive/My Drive/Colab Notebooks/AI_project/daniel_proto10_model/proj2/\n",
            "313/313 [==============================] - 1s 4ms/step - loss: 0.3233 - accuracy: 0.8423\n",
            "Epoch 215/300\n",
            "305/313 [============================>.] - ETA: 0s - loss: 0.3185 - accuracy: 0.8403\n",
            "Epoch 00215: saving model to /content/gdrive/My Drive/Colab Notebooks/AI_project/daniel_proto10_model/proj2/\n",
            "313/313 [==============================] - 1s 4ms/step - loss: 0.3194 - accuracy: 0.8400\n",
            "Epoch 216/300\n",
            "305/313 [============================>.] - ETA: 0s - loss: 0.3578 - accuracy: 0.8315\n",
            "Epoch 00216: saving model to /content/gdrive/My Drive/Colab Notebooks/AI_project/daniel_proto10_model/proj2/\n",
            "313/313 [==============================] - 1s 4ms/step - loss: 0.3578 - accuracy: 0.8304\n",
            "Epoch 217/300\n",
            "302/313 [===========================>..] - ETA: 0s - loss: 0.3478 - accuracy: 0.8351\n",
            "Epoch 00217: saving model to /content/gdrive/My Drive/Colab Notebooks/AI_project/daniel_proto10_model/proj2/\n",
            "313/313 [==============================] - 1s 4ms/step - loss: 0.3486 - accuracy: 0.8350\n",
            "Epoch 218/300\n",
            "308/313 [============================>.] - ETA: 0s - loss: 0.3323 - accuracy: 0.8399\n",
            "Epoch 00218: saving model to /content/gdrive/My Drive/Colab Notebooks/AI_project/daniel_proto10_model/proj2/\n",
            "313/313 [==============================] - 1s 4ms/step - loss: 0.3334 - accuracy: 0.8396\n",
            "Epoch 219/300\n",
            "302/313 [===========================>..] - ETA: 0s - loss: 0.3081 - accuracy: 0.8481\n",
            "Epoch 00219: saving model to /content/gdrive/My Drive/Colab Notebooks/AI_project/daniel_proto10_model/proj2/\n",
            "313/313 [==============================] - 1s 4ms/step - loss: 0.3091 - accuracy: 0.8473\n",
            "Epoch 220/300\n",
            "313/313 [==============================] - ETA: 0s - loss: 0.3159 - accuracy: 0.8425\n",
            "Epoch 00220: saving model to /content/gdrive/My Drive/Colab Notebooks/AI_project/daniel_proto10_model/proj2/\n",
            "313/313 [==============================] - 1s 4ms/step - loss: 0.3159 - accuracy: 0.8425\n",
            "Epoch 221/300\n",
            "307/313 [============================>.] - ETA: 0s - loss: 0.3149 - accuracy: 0.8448\n",
            "Epoch 00221: saving model to /content/gdrive/My Drive/Colab Notebooks/AI_project/daniel_proto10_model/proj2/\n",
            "313/313 [==============================] - 1s 4ms/step - loss: 0.3152 - accuracy: 0.8447\n",
            "Epoch 222/300\n",
            "304/313 [============================>.] - ETA: 0s - loss: 0.3331 - accuracy: 0.8411\n",
            "Epoch 00222: saving model to /content/gdrive/My Drive/Colab Notebooks/AI_project/daniel_proto10_model/proj2/\n",
            "313/313 [==============================] - 1s 4ms/step - loss: 0.3338 - accuracy: 0.8402\n",
            "Epoch 223/300\n",
            "306/313 [============================>.] - ETA: 0s - loss: 0.3365 - accuracy: 0.8348\n",
            "Epoch 00223: saving model to /content/gdrive/My Drive/Colab Notebooks/AI_project/daniel_proto10_model/proj2/\n",
            "313/313 [==============================] - 1s 4ms/step - loss: 0.3352 - accuracy: 0.8350\n",
            "Epoch 224/300\n",
            "305/313 [============================>.] - ETA: 0s - loss: 0.3441 - accuracy: 0.8357\n",
            "Epoch 00224: saving model to /content/gdrive/My Drive/Colab Notebooks/AI_project/daniel_proto10_model/proj2/\n",
            "313/313 [==============================] - 1s 4ms/step - loss: 0.3452 - accuracy: 0.8349\n",
            "Epoch 225/300\n",
            "300/313 [===========================>..] - ETA: 0s - loss: 0.3253 - accuracy: 0.8401\n",
            "Epoch 00225: saving model to /content/gdrive/My Drive/Colab Notebooks/AI_project/daniel_proto10_model/proj2/\n",
            "313/313 [==============================] - 1s 4ms/step - loss: 0.3245 - accuracy: 0.8412\n",
            "Epoch 226/300\n",
            "311/313 [============================>.] - ETA: 0s - loss: 0.3266 - accuracy: 0.8384\n",
            "Epoch 00226: saving model to /content/gdrive/My Drive/Colab Notebooks/AI_project/daniel_proto10_model/proj2/\n",
            "313/313 [==============================] - 1s 4ms/step - loss: 0.3267 - accuracy: 0.8385\n",
            "Epoch 227/300\n",
            "302/313 [===========================>..] - ETA: 0s - loss: 0.3232 - accuracy: 0.8441\n",
            "Epoch 00227: saving model to /content/gdrive/My Drive/Colab Notebooks/AI_project/daniel_proto10_model/proj2/\n",
            "313/313 [==============================] - 1s 4ms/step - loss: 0.3243 - accuracy: 0.8439\n",
            "Epoch 228/300\n",
            "308/313 [============================>.] - ETA: 0s - loss: 0.3128 - accuracy: 0.8410\n",
            "Epoch 00228: saving model to /content/gdrive/My Drive/Colab Notebooks/AI_project/daniel_proto10_model/proj2/\n",
            "313/313 [==============================] - 1s 4ms/step - loss: 0.3139 - accuracy: 0.8410\n",
            "Epoch 229/300\n",
            "301/313 [===========================>..] - ETA: 0s - loss: 0.3041 - accuracy: 0.8484\n",
            "Epoch 00229: saving model to /content/gdrive/My Drive/Colab Notebooks/AI_project/daniel_proto10_model/proj2/\n",
            "313/313 [==============================] - 1s 4ms/step - loss: 0.3047 - accuracy: 0.8487\n",
            "Epoch 230/300\n",
            "311/313 [============================>.] - ETA: 0s - loss: 0.3143 - accuracy: 0.8478\n",
            "Epoch 00230: saving model to /content/gdrive/My Drive/Colab Notebooks/AI_project/daniel_proto10_model/proj2/\n",
            "313/313 [==============================] - 1s 4ms/step - loss: 0.3137 - accuracy: 0.8481\n",
            "Epoch 231/300\n",
            "312/313 [============================>.] - ETA: 0s - loss: 0.3318 - accuracy: 0.8400\n",
            "Epoch 00231: saving model to /content/gdrive/My Drive/Colab Notebooks/AI_project/daniel_proto10_model/proj2/\n",
            "313/313 [==============================] - 1s 4ms/step - loss: 0.3317 - accuracy: 0.8401\n",
            "Epoch 232/300\n",
            "311/313 [============================>.] - ETA: 0s - loss: 0.3420 - accuracy: 0.8361\n",
            "Epoch 00232: saving model to /content/gdrive/My Drive/Colab Notebooks/AI_project/daniel_proto10_model/proj2/\n",
            "313/313 [==============================] - 1s 4ms/step - loss: 0.3414 - accuracy: 0.8366\n",
            "Epoch 233/300\n",
            "303/313 [============================>.] - ETA: 0s - loss: 0.3461 - accuracy: 0.8370\n",
            "Epoch 00233: saving model to /content/gdrive/My Drive/Colab Notebooks/AI_project/daniel_proto10_model/proj2/\n",
            "313/313 [==============================] - 1s 4ms/step - loss: 0.3466 - accuracy: 0.8358\n",
            "Epoch 234/300\n",
            "309/313 [============================>.] - ETA: 0s - loss: 0.3629 - accuracy: 0.8294\n",
            "Epoch 00234: saving model to /content/gdrive/My Drive/Colab Notebooks/AI_project/daniel_proto10_model/proj2/\n",
            "313/313 [==============================] - 1s 4ms/step - loss: 0.3623 - accuracy: 0.8297\n",
            "Epoch 235/300\n",
            "299/313 [===========================>..] - ETA: 0s - loss: 0.3241 - accuracy: 0.8425\n",
            "Epoch 00235: saving model to /content/gdrive/My Drive/Colab Notebooks/AI_project/daniel_proto10_model/proj2/\n",
            "313/313 [==============================] - 1s 4ms/step - loss: 0.3246 - accuracy: 0.8419\n",
            "Epoch 236/300\n",
            "303/313 [============================>.] - ETA: 0s - loss: 0.3228 - accuracy: 0.8431\n",
            "Epoch 00236: saving model to /content/gdrive/My Drive/Colab Notebooks/AI_project/daniel_proto10_model/proj2/\n",
            "313/313 [==============================] - 1s 4ms/step - loss: 0.3242 - accuracy: 0.8423\n",
            "Epoch 237/300\n",
            "304/313 [============================>.] - ETA: 0s - loss: 0.3110 - accuracy: 0.8416\n",
            "Epoch 00237: saving model to /content/gdrive/My Drive/Colab Notebooks/AI_project/daniel_proto10_model/proj2/\n",
            "313/313 [==============================] - 1s 4ms/step - loss: 0.3110 - accuracy: 0.8418\n",
            "Epoch 238/300\n",
            "308/313 [============================>.] - ETA: 0s - loss: 0.3063 - accuracy: 0.8504\n",
            "Epoch 00238: saving model to /content/gdrive/My Drive/Colab Notebooks/AI_project/daniel_proto10_model/proj2/\n",
            "313/313 [==============================] - 1s 4ms/step - loss: 0.3058 - accuracy: 0.8509\n",
            "Epoch 239/300\n",
            "300/313 [===========================>..] - ETA: 0s - loss: 0.2964 - accuracy: 0.8501\n",
            "Epoch 00239: saving model to /content/gdrive/My Drive/Colab Notebooks/AI_project/daniel_proto10_model/proj2/\n",
            "313/313 [==============================] - 1s 4ms/step - loss: 0.2998 - accuracy: 0.8492\n",
            "Epoch 240/300\n",
            "313/313 [==============================] - ETA: 0s - loss: 0.3018 - accuracy: 0.8533\n",
            "Epoch 00240: saving model to /content/gdrive/My Drive/Colab Notebooks/AI_project/daniel_proto10_model/proj2/\n",
            "313/313 [==============================] - 1s 4ms/step - loss: 0.3018 - accuracy: 0.8533\n",
            "Epoch 241/300\n",
            "311/313 [============================>.] - ETA: 0s - loss: 0.3268 - accuracy: 0.8443\n",
            "Epoch 00241: saving model to /content/gdrive/My Drive/Colab Notebooks/AI_project/daniel_proto10_model/proj2/\n",
            "313/313 [==============================] - 1s 4ms/step - loss: 0.3267 - accuracy: 0.8440\n",
            "Epoch 242/300\n",
            "300/313 [===========================>..] - ETA: 0s - loss: 0.3399 - accuracy: 0.8353\n",
            "Epoch 00242: saving model to /content/gdrive/My Drive/Colab Notebooks/AI_project/daniel_proto10_model/proj2/\n",
            "313/313 [==============================] - 1s 4ms/step - loss: 0.3388 - accuracy: 0.8354\n",
            "Epoch 243/300\n",
            "309/313 [============================>.] - ETA: 0s - loss: 0.3384 - accuracy: 0.8387\n",
            "Epoch 00243: saving model to /content/gdrive/My Drive/Colab Notebooks/AI_project/daniel_proto10_model/proj2/\n",
            "313/313 [==============================] - 1s 4ms/step - loss: 0.3380 - accuracy: 0.8384\n",
            "Epoch 244/300\n",
            "313/313 [==============================] - ETA: 0s - loss: 0.3207 - accuracy: 0.8421\n",
            "Epoch 00244: saving model to /content/gdrive/My Drive/Colab Notebooks/AI_project/daniel_proto10_model/proj2/\n",
            "313/313 [==============================] - 1s 4ms/step - loss: 0.3207 - accuracy: 0.8421\n",
            "Epoch 245/300\n",
            "303/313 [============================>.] - ETA: 0s - loss: 0.3142 - accuracy: 0.8474\n",
            "Epoch 00245: saving model to /content/gdrive/My Drive/Colab Notebooks/AI_project/daniel_proto10_model/proj2/\n",
            "313/313 [==============================] - 1s 4ms/step - loss: 0.3141 - accuracy: 0.8468\n",
            "Epoch 246/300\n",
            "301/313 [===========================>..] - ETA: 0s - loss: 0.3040 - accuracy: 0.8461\n",
            "Epoch 00246: saving model to /content/gdrive/My Drive/Colab Notebooks/AI_project/daniel_proto10_model/proj2/\n",
            "313/313 [==============================] - 1s 4ms/step - loss: 0.3038 - accuracy: 0.8459\n",
            "Epoch 247/300\n",
            "303/313 [============================>.] - ETA: 0s - loss: 0.3162 - accuracy: 0.8461\n",
            "Epoch 00247: saving model to /content/gdrive/My Drive/Colab Notebooks/AI_project/daniel_proto10_model/proj2/\n",
            "313/313 [==============================] - 1s 4ms/step - loss: 0.3160 - accuracy: 0.8464\n",
            "Epoch 248/300\n",
            "297/313 [===========================>..] - ETA: 0s - loss: 0.3392 - accuracy: 0.8350\n",
            "Epoch 00248: saving model to /content/gdrive/My Drive/Colab Notebooks/AI_project/daniel_proto10_model/proj2/\n",
            "313/313 [==============================] - 1s 4ms/step - loss: 0.3414 - accuracy: 0.8346\n",
            "Epoch 249/300\n",
            "302/313 [===========================>..] - ETA: 0s - loss: 0.3245 - accuracy: 0.8425\n",
            "Epoch 00249: saving model to /content/gdrive/My Drive/Colab Notebooks/AI_project/daniel_proto10_model/proj2/\n",
            "313/313 [==============================] - 1s 4ms/step - loss: 0.3239 - accuracy: 0.8420\n",
            "Epoch 250/300\n",
            "305/313 [============================>.] - ETA: 0s - loss: 0.3293 - accuracy: 0.8388\n",
            "Epoch 00250: saving model to /content/gdrive/My Drive/Colab Notebooks/AI_project/daniel_proto10_model/proj2/\n",
            "313/313 [==============================] - 1s 4ms/step - loss: 0.3287 - accuracy: 0.8392\n",
            "Epoch 251/300\n",
            "307/313 [============================>.] - ETA: 0s - loss: 0.3236 - accuracy: 0.8440\n",
            "Epoch 00251: saving model to /content/gdrive/My Drive/Colab Notebooks/AI_project/daniel_proto10_model/proj2/\n",
            "313/313 [==============================] - 1s 4ms/step - loss: 0.3247 - accuracy: 0.8439\n",
            "Epoch 252/300\n",
            "311/313 [============================>.] - ETA: 0s - loss: 0.3166 - accuracy: 0.8433\n",
            "Epoch 00252: saving model to /content/gdrive/My Drive/Colab Notebooks/AI_project/daniel_proto10_model/proj2/\n",
            "313/313 [==============================] - 1s 4ms/step - loss: 0.3179 - accuracy: 0.8428\n",
            "Epoch 253/300\n",
            "305/313 [============================>.] - ETA: 0s - loss: 0.3073 - accuracy: 0.8509\n",
            "Epoch 00253: saving model to /content/gdrive/My Drive/Colab Notebooks/AI_project/daniel_proto10_model/proj2/\n",
            "313/313 [==============================] - 1s 4ms/step - loss: 0.3063 - accuracy: 0.8520\n",
            "Epoch 254/300\n",
            "307/313 [============================>.] - ETA: 0s - loss: 0.3078 - accuracy: 0.8497\n",
            "Epoch 00254: saving model to /content/gdrive/My Drive/Colab Notebooks/AI_project/daniel_proto10_model/proj2/\n",
            "313/313 [==============================] - 1s 4ms/step - loss: 0.3086 - accuracy: 0.8493\n",
            "Epoch 255/300\n",
            "304/313 [============================>.] - ETA: 0s - loss: 0.3188 - accuracy: 0.8461\n",
            "Epoch 00255: saving model to /content/gdrive/My Drive/Colab Notebooks/AI_project/daniel_proto10_model/proj2/\n",
            "313/313 [==============================] - 1s 4ms/step - loss: 0.3206 - accuracy: 0.8455\n",
            "Epoch 256/300\n",
            "309/313 [============================>.] - ETA: 0s - loss: 0.3239 - accuracy: 0.8444\n",
            "Epoch 00256: saving model to /content/gdrive/My Drive/Colab Notebooks/AI_project/daniel_proto10_model/proj2/\n",
            "313/313 [==============================] - 1s 4ms/step - loss: 0.3239 - accuracy: 0.8443\n",
            "Epoch 257/300\n",
            "313/313 [==============================] - ETA: 0s - loss: 0.3151 - accuracy: 0.8486\n",
            "Epoch 00257: saving model to /content/gdrive/My Drive/Colab Notebooks/AI_project/daniel_proto10_model/proj2/\n",
            "313/313 [==============================] - 1s 4ms/step - loss: 0.3151 - accuracy: 0.8486\n",
            "Epoch 258/300\n",
            "304/313 [============================>.] - ETA: 0s - loss: 0.3329 - accuracy: 0.8430\n",
            "Epoch 00258: saving model to /content/gdrive/My Drive/Colab Notebooks/AI_project/daniel_proto10_model/proj2/\n",
            "313/313 [==============================] - 1s 4ms/step - loss: 0.3325 - accuracy: 0.8436\n",
            "Epoch 259/300\n",
            "303/313 [============================>.] - ETA: 0s - loss: 0.3176 - accuracy: 0.8476\n",
            "Epoch 00259: saving model to /content/gdrive/My Drive/Colab Notebooks/AI_project/daniel_proto10_model/proj2/\n",
            "313/313 [==============================] - 1s 4ms/step - loss: 0.3155 - accuracy: 0.8485\n",
            "Epoch 260/300\n",
            "310/313 [============================>.] - ETA: 0s - loss: 0.3009 - accuracy: 0.8541\n",
            "Epoch 00260: saving model to /content/gdrive/My Drive/Colab Notebooks/AI_project/daniel_proto10_model/proj2/\n",
            "313/313 [==============================] - 1s 4ms/step - loss: 0.3006 - accuracy: 0.8542\n",
            "Epoch 261/300\n",
            "301/313 [===========================>..] - ETA: 0s - loss: 0.2938 - accuracy: 0.8580\n",
            "Epoch 00261: saving model to /content/gdrive/My Drive/Colab Notebooks/AI_project/daniel_proto10_model/proj2/\n",
            "313/313 [==============================] - 1s 4ms/step - loss: 0.2944 - accuracy: 0.8576\n",
            "Epoch 262/300\n",
            "299/313 [===========================>..] - ETA: 0s - loss: 0.3003 - accuracy: 0.8513\n",
            "Epoch 00262: saving model to /content/gdrive/My Drive/Colab Notebooks/AI_project/daniel_proto10_model/proj2/\n",
            "313/313 [==============================] - 1s 4ms/step - loss: 0.2999 - accuracy: 0.8508\n",
            "Epoch 263/300\n",
            "309/313 [============================>.] - ETA: 0s - loss: 0.3010 - accuracy: 0.8513\n",
            "Epoch 00263: saving model to /content/gdrive/My Drive/Colab Notebooks/AI_project/daniel_proto10_model/proj2/\n",
            "313/313 [==============================] - 1s 4ms/step - loss: 0.3009 - accuracy: 0.8515\n",
            "Epoch 264/300\n",
            "311/313 [============================>.] - ETA: 0s - loss: 0.3323 - accuracy: 0.8404\n",
            "Epoch 00264: saving model to /content/gdrive/My Drive/Colab Notebooks/AI_project/daniel_proto10_model/proj2/\n",
            "313/313 [==============================] - 1s 4ms/step - loss: 0.3320 - accuracy: 0.8406\n",
            "Epoch 265/300\n",
            "297/313 [===========================>..] - ETA: 0s - loss: 0.3595 - accuracy: 0.8313\n",
            "Epoch 00265: saving model to /content/gdrive/My Drive/Colab Notebooks/AI_project/daniel_proto10_model/proj2/\n",
            "313/313 [==============================] - 1s 4ms/step - loss: 0.3575 - accuracy: 0.8311\n",
            "Epoch 266/300\n",
            "300/313 [===========================>..] - ETA: 0s - loss: 0.3373 - accuracy: 0.8414\n",
            "Epoch 00266: saving model to /content/gdrive/My Drive/Colab Notebooks/AI_project/daniel_proto10_model/proj2/\n",
            "313/313 [==============================] - 1s 4ms/step - loss: 0.3391 - accuracy: 0.8409\n",
            "Epoch 267/300\n",
            "311/313 [============================>.] - ETA: 0s - loss: 0.3041 - accuracy: 0.8521\n",
            "Epoch 00267: saving model to /content/gdrive/My Drive/Colab Notebooks/AI_project/daniel_proto10_model/proj2/\n",
            "313/313 [==============================] - 1s 4ms/step - loss: 0.3040 - accuracy: 0.8523\n",
            "Epoch 268/300\n",
            "306/313 [============================>.] - ETA: 0s - loss: 0.2905 - accuracy: 0.8569\n",
            "Epoch 00268: saving model to /content/gdrive/My Drive/Colab Notebooks/AI_project/daniel_proto10_model/proj2/\n",
            "313/313 [==============================] - 1s 4ms/step - loss: 0.2907 - accuracy: 0.8567\n",
            "Epoch 269/300\n",
            "312/313 [============================>.] - ETA: 0s - loss: 0.2976 - accuracy: 0.8516\n",
            "Epoch 00269: saving model to /content/gdrive/My Drive/Colab Notebooks/AI_project/daniel_proto10_model/proj2/\n",
            "313/313 [==============================] - 1s 4ms/step - loss: 0.2978 - accuracy: 0.8515\n",
            "Epoch 270/300\n",
            "309/313 [============================>.] - ETA: 0s - loss: 0.3066 - accuracy: 0.8481\n",
            "Epoch 00270: saving model to /content/gdrive/My Drive/Colab Notebooks/AI_project/daniel_proto10_model/proj2/\n",
            "313/313 [==============================] - 1s 4ms/step - loss: 0.3068 - accuracy: 0.8481\n",
            "Epoch 271/300\n",
            "309/313 [============================>.] - ETA: 0s - loss: 0.3336 - accuracy: 0.8445\n",
            "Epoch 00271: saving model to /content/gdrive/My Drive/Colab Notebooks/AI_project/daniel_proto10_model/proj2/\n",
            "313/313 [==============================] - 1s 4ms/step - loss: 0.3335 - accuracy: 0.8442\n",
            "Epoch 272/300\n",
            "307/313 [============================>.] - ETA: 0s - loss: 0.3196 - accuracy: 0.8469\n",
            "Epoch 00272: saving model to /content/gdrive/My Drive/Colab Notebooks/AI_project/daniel_proto10_model/proj2/\n",
            "313/313 [==============================] - 1s 4ms/step - loss: 0.3195 - accuracy: 0.8470\n",
            "Epoch 273/300\n",
            "296/313 [===========================>..] - ETA: 0s - loss: 0.2972 - accuracy: 0.8544\n",
            "Epoch 00273: saving model to /content/gdrive/My Drive/Colab Notebooks/AI_project/daniel_proto10_model/proj2/\n",
            "313/313 [==============================] - 1s 4ms/step - loss: 0.2966 - accuracy: 0.8535\n",
            "Epoch 274/300\n",
            "310/313 [============================>.] - ETA: 0s - loss: 0.3100 - accuracy: 0.8507\n",
            "Epoch 00274: saving model to /content/gdrive/My Drive/Colab Notebooks/AI_project/daniel_proto10_model/proj2/\n",
            "313/313 [==============================] - 1s 4ms/step - loss: 0.3115 - accuracy: 0.8504\n",
            "Epoch 275/300\n",
            "297/313 [===========================>..] - ETA: 0s - loss: 0.3205 - accuracy: 0.8428\n",
            "Epoch 00275: saving model to /content/gdrive/My Drive/Colab Notebooks/AI_project/daniel_proto10_model/proj2/\n",
            "313/313 [==============================] - 1s 4ms/step - loss: 0.3214 - accuracy: 0.8417\n",
            "Epoch 276/300\n",
            "313/313 [==============================] - ETA: 0s - loss: 0.3129 - accuracy: 0.8487\n",
            "Epoch 00276: saving model to /content/gdrive/My Drive/Colab Notebooks/AI_project/daniel_proto10_model/proj2/\n",
            "313/313 [==============================] - 1s 4ms/step - loss: 0.3129 - accuracy: 0.8487\n",
            "Epoch 277/300\n",
            "303/313 [============================>.] - ETA: 0s - loss: 0.3091 - accuracy: 0.8513\n",
            "Epoch 00277: saving model to /content/gdrive/My Drive/Colab Notebooks/AI_project/daniel_proto10_model/proj2/\n",
            "313/313 [==============================] - 1s 4ms/step - loss: 0.3105 - accuracy: 0.8503\n",
            "Epoch 278/300\n",
            "302/313 [===========================>..] - ETA: 0s - loss: 0.3227 - accuracy: 0.8473\n",
            "Epoch 00278: saving model to /content/gdrive/My Drive/Colab Notebooks/AI_project/daniel_proto10_model/proj2/\n",
            "313/313 [==============================] - 1s 4ms/step - loss: 0.3211 - accuracy: 0.8478\n",
            "Epoch 279/300\n",
            "313/313 [==============================] - ETA: 0s - loss: 0.2984 - accuracy: 0.8528\n",
            "Epoch 00279: saving model to /content/gdrive/My Drive/Colab Notebooks/AI_project/daniel_proto10_model/proj2/\n",
            "313/313 [==============================] - 1s 4ms/step - loss: 0.2984 - accuracy: 0.8528\n",
            "Epoch 280/300\n",
            "299/313 [===========================>..] - ETA: 0s - loss: 0.2995 - accuracy: 0.8513\n",
            "Epoch 00280: saving model to /content/gdrive/My Drive/Colab Notebooks/AI_project/daniel_proto10_model/proj2/\n",
            "313/313 [==============================] - 1s 4ms/step - loss: 0.2998 - accuracy: 0.8516\n",
            "Epoch 281/300\n",
            "303/313 [============================>.] - ETA: 0s - loss: 0.2937 - accuracy: 0.8570\n",
            "Epoch 00281: saving model to /content/gdrive/My Drive/Colab Notebooks/AI_project/daniel_proto10_model/proj2/\n",
            "313/313 [==============================] - 1s 4ms/step - loss: 0.2940 - accuracy: 0.8568\n",
            "Epoch 282/300\n",
            "306/313 [============================>.] - ETA: 0s - loss: 0.3073 - accuracy: 0.8540\n",
            "Epoch 00282: saving model to /content/gdrive/My Drive/Colab Notebooks/AI_project/daniel_proto10_model/proj2/\n",
            "313/313 [==============================] - 1s 4ms/step - loss: 0.3077 - accuracy: 0.8534\n",
            "Epoch 283/300\n",
            "308/313 [============================>.] - ETA: 0s - loss: 0.3159 - accuracy: 0.8468\n",
            "Epoch 00283: saving model to /content/gdrive/My Drive/Colab Notebooks/AI_project/daniel_proto10_model/proj2/\n",
            "313/313 [==============================] - 1s 4ms/step - loss: 0.3160 - accuracy: 0.8471\n",
            "Epoch 284/300\n",
            "308/313 [============================>.] - ETA: 0s - loss: 0.3272 - accuracy: 0.8432\n",
            "Epoch 00284: saving model to /content/gdrive/My Drive/Colab Notebooks/AI_project/daniel_proto10_model/proj2/\n",
            "313/313 [==============================] - 1s 4ms/step - loss: 0.3291 - accuracy: 0.8429\n",
            "Epoch 285/300\n",
            "303/313 [============================>.] - ETA: 0s - loss: 0.3521 - accuracy: 0.8350\n",
            "Epoch 00285: saving model to /content/gdrive/My Drive/Colab Notebooks/AI_project/daniel_proto10_model/proj2/\n",
            "313/313 [==============================] - 1s 4ms/step - loss: 0.3509 - accuracy: 0.8356\n",
            "Epoch 286/300\n",
            "304/313 [============================>.] - ETA: 0s - loss: 0.3077 - accuracy: 0.8527\n",
            "Epoch 00286: saving model to /content/gdrive/My Drive/Colab Notebooks/AI_project/daniel_proto10_model/proj2/\n",
            "313/313 [==============================] - 1s 4ms/step - loss: 0.3086 - accuracy: 0.8532\n",
            "Epoch 287/300\n",
            "308/313 [============================>.] - ETA: 0s - loss: 0.2930 - accuracy: 0.8532\n",
            "Epoch 00287: saving model to /content/gdrive/My Drive/Colab Notebooks/AI_project/daniel_proto10_model/proj2/\n",
            "313/313 [==============================] - 1s 4ms/step - loss: 0.2917 - accuracy: 0.8538\n",
            "Epoch 288/300\n",
            "299/313 [===========================>..] - ETA: 0s - loss: 0.2939 - accuracy: 0.8567\n",
            "Epoch 00288: saving model to /content/gdrive/My Drive/Colab Notebooks/AI_project/daniel_proto10_model/proj2/\n",
            "313/313 [==============================] - 1s 4ms/step - loss: 0.2943 - accuracy: 0.8571\n",
            "Epoch 289/300\n",
            "310/313 [============================>.] - ETA: 0s - loss: 0.2917 - accuracy: 0.8595\n",
            "Epoch 00289: saving model to /content/gdrive/My Drive/Colab Notebooks/AI_project/daniel_proto10_model/proj2/\n",
            "313/313 [==============================] - 1s 4ms/step - loss: 0.2916 - accuracy: 0.8596\n",
            "Epoch 290/300\n",
            "303/313 [============================>.] - ETA: 0s - loss: 0.3147 - accuracy: 0.8480\n",
            "Epoch 00290: saving model to /content/gdrive/My Drive/Colab Notebooks/AI_project/daniel_proto10_model/proj2/\n",
            "313/313 [==============================] - 1s 4ms/step - loss: 0.3148 - accuracy: 0.8481\n",
            "Epoch 291/300\n",
            "304/313 [============================>.] - ETA: 0s - loss: 0.3196 - accuracy: 0.8493\n",
            "Epoch 00291: saving model to /content/gdrive/My Drive/Colab Notebooks/AI_project/daniel_proto10_model/proj2/\n",
            "313/313 [==============================] - 1s 4ms/step - loss: 0.3192 - accuracy: 0.8489\n",
            "Epoch 292/300\n",
            "302/313 [===========================>..] - ETA: 0s - loss: 0.3193 - accuracy: 0.8455\n",
            "Epoch 00292: saving model to /content/gdrive/My Drive/Colab Notebooks/AI_project/daniel_proto10_model/proj2/\n",
            "313/313 [==============================] - 1s 4ms/step - loss: 0.3197 - accuracy: 0.8449\n",
            "Epoch 293/300\n",
            "306/313 [============================>.] - ETA: 0s - loss: 0.3028 - accuracy: 0.8482\n",
            "Epoch 00293: saving model to /content/gdrive/My Drive/Colab Notebooks/AI_project/daniel_proto10_model/proj2/\n",
            "313/313 [==============================] - 1s 4ms/step - loss: 0.3043 - accuracy: 0.8476\n",
            "Epoch 294/300\n",
            "300/313 [===========================>..] - ETA: 0s - loss: 0.2976 - accuracy: 0.8522\n",
            "Epoch 00294: saving model to /content/gdrive/My Drive/Colab Notebooks/AI_project/daniel_proto10_model/proj2/\n",
            "313/313 [==============================] - 1s 4ms/step - loss: 0.2966 - accuracy: 0.8526\n",
            "Epoch 295/300\n",
            "304/313 [============================>.] - ETA: 0s - loss: 0.2859 - accuracy: 0.8568\n",
            "Epoch 00295: saving model to /content/gdrive/My Drive/Colab Notebooks/AI_project/daniel_proto10_model/proj2/\n",
            "313/313 [==============================] - 1s 4ms/step - loss: 0.2856 - accuracy: 0.8567\n",
            "Epoch 296/300\n",
            "310/313 [============================>.] - ETA: 0s - loss: 0.2912 - accuracy: 0.8547\n",
            "Epoch 00296: saving model to /content/gdrive/My Drive/Colab Notebooks/AI_project/daniel_proto10_model/proj2/\n",
            "313/313 [==============================] - 1s 4ms/step - loss: 0.2911 - accuracy: 0.8549\n",
            "Epoch 297/300\n",
            "297/313 [===========================>..] - ETA: 0s - loss: 0.2847 - accuracy: 0.8559\n",
            "Epoch 00297: saving model to /content/gdrive/My Drive/Colab Notebooks/AI_project/daniel_proto10_model/proj2/\n",
            "313/313 [==============================] - 1s 4ms/step - loss: 0.2884 - accuracy: 0.8535\n",
            "Epoch 298/300\n",
            "313/313 [==============================] - ETA: 0s - loss: 0.3086 - accuracy: 0.8490\n",
            "Epoch 00298: saving model to /content/gdrive/My Drive/Colab Notebooks/AI_project/daniel_proto10_model/proj2/\n",
            "313/313 [==============================] - 1s 4ms/step - loss: 0.3086 - accuracy: 0.8490\n",
            "Epoch 299/300\n",
            "304/313 [============================>.] - ETA: 0s - loss: 0.3334 - accuracy: 0.8415\n",
            "Epoch 00299: saving model to /content/gdrive/My Drive/Colab Notebooks/AI_project/daniel_proto10_model/proj2/\n",
            "313/313 [==============================] - 1s 4ms/step - loss: 0.3323 - accuracy: 0.8416\n",
            "Epoch 300/300\n",
            "308/313 [============================>.] - ETA: 0s - loss: 0.3071 - accuracy: 0.8490\n",
            "Epoch 00300: saving model to /content/gdrive/My Drive/Colab Notebooks/AI_project/daniel_proto10_model/proj2/\n",
            "313/313 [==============================] - 1s 4ms/step - loss: 0.3068 - accuracy: 0.8487\n"
          ]
        }
      ]
    },
    {
      "cell_type": "markdown",
      "source": [
        "TESTING"
      ],
      "metadata": {
        "id": "fKHEhpABrIyn"
      }
    },
    {
      "cell_type": "code",
      "source": [
        "def getTestData(string):\n",
        "  lines = []\n",
        "\n",
        "  f = open(string, \"r\")\n",
        "\n",
        "  lines = f.readlines()\n",
        "\n",
        "  return lines"
      ],
      "metadata": {
        "id": "EVpXhJ7jFev1"
      },
      "execution_count": null,
      "outputs": []
    },
    {
      "cell_type": "code",
      "source": [
        "test_lines = getTestData(\"proto10_test_gen.txt\")\n",
        "\n",
        "tx,ty = genMatricies(test_lines)"
      ],
      "metadata": {
        "id": "zNvWUtbfFobs"
      },
      "execution_count": null,
      "outputs": []
    },
    {
      "cell_type": "code",
      "source": [
        "print(tx[4])"
      ],
      "metadata": {
        "colab": {
          "base_uri": "https://localhost:8080/"
        },
        "id": "jzh9ZxJW-VmR",
        "outputId": "b877049d-6360-47a1-bd7f-20a549797492"
      },
      "execution_count": null,
      "outputs": [
        {
          "output_type": "stream",
          "name": "stdout",
          "text": [
            "[[ 0  0 -1  0  0  0  0  0  0  0]\n",
            " [ 0  0  0  0  0  0  0  0  0  0]\n",
            " [ 0  0  1 -1  0  0  0  0  0  0]\n",
            " [ 0  0  0  0  0  0  0  0  0  0]\n",
            " [ 0  0  0  0  0  0  0  0  0  0]\n",
            " [ 0  0  0  0  0  0  0  0  0  0]\n",
            " [ 0  0  0  0  0  0  0  0  0  0]\n",
            " [ 0  0  0  0  0  0  0  0  0  0]\n",
            " [ 0  0  0  0  0  0  0  0  0  0]\n",
            " [ 0  0  0  0  0  0  0  0  0  2]]\n"
          ]
        }
      ]
    },
    {
      "cell_type": "code",
      "source": [
        "test_lines = getTestData(\"proto10_test_infer.txt\")\n",
        "\n",
        "tinf1, tinf2 = genMatricies(test_lines)"
      ],
      "metadata": {
        "id": "WMbB7PnI0S8l"
      },
      "execution_count": null,
      "outputs": []
    },
    {
      "cell_type": "code",
      "source": [
        "np.save('proto10_test_gen_x1.npy', tx)\n",
        "np.save('proto10_test_gen_y1.npy', ty)"
      ],
      "metadata": {
        "id": "nUPt3x6XFwwr"
      },
      "execution_count": null,
      "outputs": []
    },
    {
      "cell_type": "code",
      "source": [
        "np.save('proto10_test_inf_x1.npy', tx)\n",
        "np.save('proto10_test_inf_y1.npy', ty)"
      ],
      "metadata": {
        "id": "8-PGZzJG0btb"
      },
      "execution_count": null,
      "outputs": []
    },
    {
      "cell_type": "code",
      "source": [
        "#tx = np.load('proto50_test_500_x1.npy')\n",
        "#ty = np.load('proto50_test_500_y1.npy')"
      ],
      "metadata": {
        "id": "zA0idStunRfu"
      },
      "execution_count": null,
      "outputs": []
    },
    {
      "cell_type": "code",
      "source": [
        "#compile model using accuracy to measure model performance\n",
        "model.compile(optimizer='adam', loss='categorical_crossentropy', metrics=['accuracy'])"
      ],
      "metadata": {
        "id": "Ww2MBvpzh-Mz"
      },
      "execution_count": null,
      "outputs": []
    },
    {
      "cell_type": "code",
      "source": [
        "\n",
        "test_array = np.concatenate((tx[:10000], tinf1[:10000]), axis = 0)\n",
        "\n",
        "ty_array = ty[:10000]"
      ],
      "metadata": {
        "id": "smZMrQKi0g58"
      },
      "execution_count": null,
      "outputs": []
    },
    {
      "cell_type": "code",
      "source": [
        "test_array = np.reshape(test_array, (-1, 2, 10, 10))"
      ],
      "metadata": {
        "id": "U63cojOd4Qf9"
      },
      "execution_count": null,
      "outputs": []
    },
    {
      "cell_type": "code",
      "source": [
        "print(np.shape(test_array))"
      ],
      "metadata": {
        "colab": {
          "base_uri": "https://localhost:8080/"
        },
        "id": "wK5iM_P84YJP",
        "outputId": "5e90159a-5907-4a4a-fe15-6f6d9f802ab3"
      },
      "execution_count": null,
      "outputs": [
        {
          "output_type": "stream",
          "name": "stdout",
          "text": [
            "(10000, 2, 10, 10)\n"
          ]
        }
      ]
    },
    {
      "cell_type": "code",
      "source": [
        "\n",
        "model.fit(cat_array, y_array, validation_data=(test_array, ty_array), epochs=10)"
      ],
      "metadata": {
        "colab": {
          "base_uri": "https://localhost:8080/"
        },
        "id": "i_0CsJechD5o",
        "outputId": "8696c9b9-dff7-4a22-dab9-abdce1379a57"
      },
      "execution_count": null,
      "outputs": [
        {
          "output_type": "stream",
          "name": "stdout",
          "text": [
            "Epoch 1/10\n",
            "313/313 [==============================] - 2s 5ms/step - loss: 0.3007 - accuracy: 0.8565 - val_loss: 6.8039 - val_accuracy: 0.4252\n",
            "Epoch 2/10\n",
            "313/313 [==============================] - 2s 6ms/step - loss: 0.2905 - accuracy: 0.8561 - val_loss: 6.8780 - val_accuracy: 0.4212\n",
            "Epoch 3/10\n",
            "313/313 [==============================] - 2s 5ms/step - loss: 0.3009 - accuracy: 0.8545 - val_loss: 6.7852 - val_accuracy: 0.4226\n",
            "Epoch 4/10\n",
            "313/313 [==============================] - 1s 5ms/step - loss: 0.3458 - accuracy: 0.8370 - val_loss: 6.3415 - val_accuracy: 0.4253\n",
            "Epoch 5/10\n",
            "313/313 [==============================] - 2s 5ms/step - loss: 0.2933 - accuracy: 0.8557 - val_loss: 6.5099 - val_accuracy: 0.4301\n",
            "Epoch 6/10\n",
            "313/313 [==============================] - 2s 5ms/step - loss: 0.2778 - accuracy: 0.8584 - val_loss: 6.8972 - val_accuracy: 0.4208\n",
            "Epoch 7/10\n",
            "313/313 [==============================] - 1s 4ms/step - loss: 0.2834 - accuracy: 0.8578 - val_loss: 7.0093 - val_accuracy: 0.4252\n",
            "Epoch 8/10\n",
            "313/313 [==============================] - 1s 5ms/step - loss: 0.3155 - accuracy: 0.8488 - val_loss: 6.9669 - val_accuracy: 0.4245\n",
            "Epoch 9/10\n",
            "313/313 [==============================] - 2s 5ms/step - loss: 0.3056 - accuracy: 0.8534 - val_loss: 6.8301 - val_accuracy: 0.4293\n",
            "Epoch 10/10\n",
            "313/313 [==============================] - 1s 4ms/step - loss: 0.3207 - accuracy: 0.8502 - val_loss: 6.8984 - val_accuracy: 0.4272\n"
          ]
        },
        {
          "output_type": "execute_result",
          "data": {
            "text/plain": [
              "<keras.callbacks.History at 0x7ff53e26c290>"
            ]
          },
          "metadata": {},
          "execution_count": 382
        }
      ]
    },
    {
      "cell_type": "code",
      "source": [
        ""
      ],
      "metadata": {
        "id": "dsqR0S4FnA6l"
      },
      "execution_count": null,
      "outputs": []
    },
    {
      "cell_type": "markdown",
      "source": [
        "GEN MAZE"
      ],
      "metadata": {
        "id": "neIpYX5GztS6"
      }
    },
    {
      "cell_type": "code",
      "source": [
        "#map constructor\n",
        "from random import randint\n",
        "from matplotlib import pyplot as plot\n"
      ],
      "metadata": {
        "id": "l-fx458rzuJn"
      },
      "execution_count": null,
      "outputs": []
    },
    {
      "cell_type": "code",
      "source": [
        "#size of each grid\n",
        "grid_size = 10\n",
        "#dim x dim for maze\n",
        "size = int(10)\n",
        "#prob of wall appearance (0~1)\n",
        "p_wall = 30"
      ],
      "metadata": {
        "id": "sEIULhqAz1i5"
      },
      "execution_count": null,
      "outputs": []
    },
    {
      "cell_type": "code",
      "source": [
        "maze= [['w' for _ in range(size)]for _ in range(size)]"
      ],
      "metadata": {
        "id": "jR2Ff3taz1lR"
      },
      "execution_count": null,
      "outputs": []
    },
    {
      "cell_type": "code",
      "source": [
        "def createMaze():\n",
        "\n",
        "  x_data = []\n",
        "  x_row_list = []\n",
        "\n",
        "  for row in range(size):\n",
        "      for col in range(size):\n",
        "          s = randint(1,100)\n",
        "          p = p_wall\n",
        "          if s<=p:\n",
        "            maze[row][col] = 'X'\n",
        "          else:\n",
        "            maze[row][col] = '0'\n",
        "            \n",
        "  maze[0][0]= '0'\n",
        "  maze[size-1][size-1] = '2'"
      ],
      "metadata": {
        "id": "pOlFIRTSz1no"
      },
      "execution_count": null,
      "outputs": []
    },
    {
      "cell_type": "code",
      "source": [
        "createMaze()"
      ],
      "metadata": {
        "id": "Gda3XniD0Kr6"
      },
      "execution_count": null,
      "outputs": []
    },
    {
      "cell_type": "code",
      "source": [
        "print(maze)"
      ],
      "metadata": {
        "colab": {
          "base_uri": "https://localhost:8080/"
        },
        "id": "xFlFEMP4SG4Z",
        "outputId": "8b0c35b3-7a33-4244-8a49-c6af6b050693"
      },
      "execution_count": null,
      "outputs": [
        {
          "output_type": "stream",
          "name": "stdout",
          "text": [
            "[['0', '0', '0', '0', '0', 'X', 'X', '0', 'X', 'X'], ['X', 'X', 'X', '0', 'X', '0', '0', 'X', 'X', 'X'], ['0', '0', 'X', '0', '0', '0', 'X', '0', '0', '0'], ['0', '0', '0', '0', '0', '0', '0', '0', '0', 'X'], ['X', 'X', '0', 'X', '0', 'X', '0', '0', 'X', '0'], ['0', '0', 'X', 'X', 'X', 'X', 'X', '0', 'X', '0'], ['X', '0', '0', '0', '0', '0', '0', 'X', '0', 'X'], ['X', '0', 'X', '0', '0', '0', 'X', '0', '0', '0'], ['0', '0', '0', '0', 'X', '0', '0', '0', '0', '0'], ['0', 'X', '0', 'X', '0', '0', 'X', 'X', 'X', '2']]\n"
          ]
        }
      ]
    },
    {
      "cell_type": "code",
      "source": [
        "def genMaze(size):\n",
        "  x_data = []\n",
        "  x_row_list = []\n",
        "\n",
        "  for row in range(size):\n",
        "  #get each char we then convert it to string for tensorflow calcs\n",
        "    for col in maze[row]:\n",
        "      i = 0\n",
        "      if(col == 'X'):\n",
        "        i = -1\n",
        "      elif(col == '\\n'):\n",
        "        continue\n",
        "      elif(col == '2'):\n",
        "        i = 2\n",
        "      elif(col == '1'):\n",
        "        i = 1\n",
        "      x_row_list.append(i)\n",
        "    #when we have 2500 chars we know we have a 50x50 make it an array and add it to list\n",
        "  if(len(x_row_list) == 100):\n",
        "    x_data.append(np.array(x_row_list).reshape(10,10))\n",
        "    x_row_list = []\n",
        "  # turn list into numpy array, turn numpy array into catagorical input\n",
        "  return np.array(x_data)"
      ],
      "metadata": {
        "id": "1GlvGuwB0Kun"
      },
      "execution_count": null,
      "outputs": []
    },
    {
      "cell_type": "code",
      "source": [
        "def getDir(y_arr):\n",
        "  max = 0\n",
        "  idx = 0\n",
        "  curr = 0\n",
        "  for val in y_arr:\n",
        "    if val > max:\n",
        "      idx = curr\n",
        "    curr += 1\n",
        "  \n",
        "  dir = []\n",
        "  for i in range(4):\n",
        "    if idx != i:\n",
        "      dir.append(0)\n",
        "    else:\n",
        "      dir.append(1)\n",
        "  \n",
        "  return dir"
      ],
      "metadata": {
        "id": "sGj-6oSFWzh4"
      },
      "execution_count": null,
      "outputs": []
    },
    {
      "cell_type": "code",
      "source": [
        "new_maze = genMaze(size)"
      ],
      "metadata": {
        "id": "DG3rtwWk0KxE"
      },
      "execution_count": null,
      "outputs": []
    },
    {
      "cell_type": "code",
      "source": [
        "print(new_maze)"
      ],
      "metadata": {
        "id": "wqEfTkWoR9qK"
      },
      "execution_count": null,
      "outputs": []
    },
    {
      "cell_type": "code",
      "source": [
        "maze= [['w' for _ in range(size)]for _ in range(size)]\n",
        "createMaze()\n",
        "new_maze = genMaze(size)\n",
        "new_maze[0][0][0] = 1\n",
        "print(new_maze)"
      ],
      "metadata": {
        "id": "wkBqCCf9Lg1M"
      },
      "execution_count": null,
      "outputs": []
    },
    {
      "cell_type": "code",
      "source": [
        "print(test_array[3])"
      ],
      "metadata": {
        "id": "GXjevyce-Gii"
      },
      "execution_count": null,
      "outputs": []
    },
    {
      "cell_type": "code",
      "source": [
        "y = model.predict(test_array[1])"
      ],
      "metadata": {
        "id": "6VcjDjVaSnY8"
      },
      "execution_count": null,
      "outputs": []
    },
    {
      "cell_type": "code",
      "source": [
        "print(test_array[1][0])"
      ],
      "metadata": {
        "colab": {
          "base_uri": "https://localhost:8080/"
        },
        "id": "-PT5Ydbt8U0F",
        "outputId": "352f1e28-d46f-4fcc-fec4-e1f314384a5b"
      },
      "execution_count": null,
      "outputs": [
        {
          "output_type": "stream",
          "name": "stdout",
          "text": [
            "[[ 0  0  0  0  0  0  0  0  0  0]\n",
            " [-1  0  0  0  0  0  0  0  0  0]\n",
            " [ 0  0  0  0  0  0  0  0  0  0]\n",
            " [ 0  0  0  0  0  0  0  0  0  0]\n",
            " [ 0  0  0  0  0  0  0  0  0  0]\n",
            " [ 0  0  0  0  0  0  0  0  0  0]\n",
            " [ 0  0  0  0  0  0  0  0  0  0]\n",
            " [ 0  0  0  0  0  0  0  0  0  0]\n",
            " [ 0  0  0  0  0  0  0  0  0  0]\n",
            " [ 0  0  0  0  0  0  0  0  0  0]]\n"
          ]
        }
      ]
    },
    {
      "cell_type": "code",
      "source": [
        "output = getDir(y[0])\n",
        "print(output)"
      ],
      "metadata": {
        "id": "L541gGXpVhh5",
        "colab": {
          "base_uri": "https://localhost:8080/"
        },
        "outputId": "08ce0a6b-e2bf-4071-cb71-d384b02db0a2"
      },
      "execution_count": null,
      "outputs": [
        {
          "output_type": "stream",
          "name": "stdout",
          "text": [
            "[0, 0, 0, 1]\n"
          ]
        }
      ]
    },
    {
      "cell_type": "markdown",
      "source": [
        "GEN MAZE"
      ],
      "metadata": {
        "id": "mE0IsqU35N-Y"
      }
    },
    {
      "cell_type": "code",
      "source": [
        "\n",
        "from random import randint\n",
        "from matplotlib import pyplot as plot"
      ],
      "metadata": {
        "id": "9Fq55ASbXd9z"
      },
      "execution_count": null,
      "outputs": []
    },
    {
      "cell_type": "code",
      "source": [
        "#size of each grid\n",
        "grid_size = 10\n",
        "#dim x dim for maze\n",
        "size = int(10)\n",
        "#prob of wall appearance (0~1)\n",
        "p_wall = 30"
      ],
      "metadata": {
        "id": "39Pmnqh75QMk"
      },
      "execution_count": null,
      "outputs": []
    },
    {
      "cell_type": "code",
      "source": [
        "maze= [['w' for _ in range(size)]for _ in range(size)]"
      ],
      "metadata": {
        "id": "OPFAlpKY5Ty2"
      },
      "execution_count": null,
      "outputs": []
    },
    {
      "cell_type": "code",
      "source": [
        "def createMaze():\n",
        "\n",
        "  x_data = []\n",
        "  x_row_list = []\n",
        "\n",
        "  for row in range(size):\n",
        "      for col in range(size):\n",
        "          s = randint(1,100)\n",
        "          p = p_wall\n",
        "          if s<=p:\n",
        "            maze[row][col] = 'X'\n",
        "          else:\n",
        "            maze[row][col] = '0'\n",
        "            \n",
        "  maze[0][0]= '0'\n",
        "  maze[size-1][size-1] = '2'"
      ],
      "metadata": {
        "id": "MehsLf135Uxo"
      },
      "execution_count": null,
      "outputs": []
    },
    {
      "cell_type": "code",
      "source": [
        "createMaze()"
      ],
      "metadata": {
        "id": "5eiZKUkQ5WPp"
      },
      "execution_count": null,
      "outputs": []
    },
    {
      "cell_type": "code",
      "source": [
        "print(maze)"
      ],
      "metadata": {
        "colab": {
          "base_uri": "https://localhost:8080/"
        },
        "id": "0CULtPZw5XjM",
        "outputId": "da5db7a5-e809-4383-ad97-2e302aa93dc6"
      },
      "execution_count": null,
      "outputs": [
        {
          "output_type": "stream",
          "name": "stdout",
          "text": [
            "[['0', 'X', '0', '0', 'X', 'X', 'X', 'X', '0', '0'], ['X', '0', 'X', '0', '0', '0', 'X', '0', '0', '0'], ['X', 'X', '0', '0', '0', '0', 'X', '0', '0', '0'], ['X', '0', '0', 'X', '0', 'X', '0', '0', '0', 'X'], ['0', 'X', '0', '0', 'X', '0', 'X', '0', '0', 'X'], ['0', '0', '0', 'X', '0', '0', 'X', 'X', '0', 'X'], ['X', '0', '0', 'X', '0', 'X', '0', '0', '0', '0'], ['0', 'X', 'X', '0', '0', '0', 'X', '0', 'X', '0'], ['0', '0', '0', 'X', '0', 'X', '0', 'X', 'X', '0'], ['0', '0', 'X', '0', 'X', '0', '0', 'X', '0', '2']]\n"
          ]
        }
      ]
    },
    {
      "cell_type": "code",
      "source": [
        "def genMaze(size):\n",
        "  x_data = []\n",
        "  x_row_list = []\n",
        "\n",
        "  for row in range(size):\n",
        "  #get each char we then convert it to string for tensorflow calcs\n",
        "    for col in maze[row]:\n",
        "      i = 0\n",
        "      if(col == 'X'):\n",
        "        i = -1\n",
        "      elif(col == '\\n'):\n",
        "        continue\n",
        "      elif(col == '2'):\n",
        "        i = 2\n",
        "      elif(col == '1'):\n",
        "        i = 1\n",
        "      x_row_list.append(i)\n",
        "    #when we have 2500 chars we know we have a 50x50 make it an array and add it to list\n",
        "  if(len(x_row_list) == 100):\n",
        "    x_data.append(np.array(x_row_list).reshape(10,10))\n",
        "    x_row_list = []\n",
        "  # turn list into numpy array, turn numpy array into catagorical input\n",
        "  return np.array(x_data)"
      ],
      "metadata": {
        "id": "nzlPYWq25Yyy"
      },
      "execution_count": null,
      "outputs": []
    },
    {
      "cell_type": "code",
      "source": [
        "def getDir(y_arr):\n",
        "  max = 0\n",
        "  idx = 0\n",
        "  curr = 0\n",
        "  for val in y_arr:\n",
        "    if val > max:\n",
        "      idx = curr\n",
        "    curr += 1\n",
        "  \n",
        "  dir = []\n",
        "  for i in range(4):\n",
        "    if idx != i:\n",
        "      dir.append(0)\n",
        "    else:\n",
        "      dir.append(1)\n",
        "  \n",
        "  return dir"
      ],
      "metadata": {
        "id": "KmPjCBzf5aTb"
      },
      "execution_count": null,
      "outputs": []
    },
    {
      "cell_type": "code",
      "source": [
        "new_maze = genMaze(size)\n",
        "print(new_maze)"
      ],
      "metadata": {
        "colab": {
          "base_uri": "https://localhost:8080/"
        },
        "id": "4kJwHpPb5cDA",
        "outputId": "7325c0cb-f99c-421c-812e-62955ab406f0"
      },
      "execution_count": null,
      "outputs": [
        {
          "output_type": "stream",
          "name": "stdout",
          "text": [
            "[[[ 0 -1  0  0 -1 -1 -1 -1  0  0]\n",
            "  [-1  0 -1  0  0  0 -1  0  0  0]\n",
            "  [-1 -1  0  0  0  0 -1  0  0  0]\n",
            "  [-1  0  0 -1  0 -1  0  0  0 -1]\n",
            "  [ 0 -1  0  0 -1  0 -1  0  0 -1]\n",
            "  [ 0  0  0 -1  0  0 -1 -1  0 -1]\n",
            "  [-1  0  0 -1  0 -1  0  0  0  0]\n",
            "  [ 0 -1 -1  0  0  0 -1  0 -1  0]\n",
            "  [ 0  0  0 -1  0 -1  0 -1 -1  0]\n",
            "  [ 0  0 -1  0 -1  0  0 -1  0  2]]]\n"
          ]
        }
      ]
    },
    {
      "cell_type": "code",
      "source": [
        "maze= [['w' for _ in range(size)]for _ in range(size)]\n",
        "createMaze()\n",
        "new_maze = genMaze(size)\n",
        "new_maze[0][0][0] = 1\n",
        "print(new_maze)"
      ],
      "metadata": {
        "colab": {
          "base_uri": "https://localhost:8080/"
        },
        "id": "3BkdCanM5e42",
        "outputId": "033b401c-45bb-46ac-b6c8-cb40d4e42d9f"
      },
      "execution_count": null,
      "outputs": [
        {
          "output_type": "stream",
          "name": "stdout",
          "text": [
            "[[[ 1 -1  0  0  0  0 -1  0  0 -1]\n",
            "  [ 0  0  0 -1  0 -1  0  0  0  0]\n",
            "  [ 0  0  0  0 -1 -1 -1  0  0  0]\n",
            "  [ 0  0  0 -1  0 -1  0  0  0  0]\n",
            "  [ 0 -1  0  0 -1  0  0  0  0  0]\n",
            "  [-1 -1  0  0 -1  0  0  0  0  0]\n",
            "  [ 0  0  0  0  0 -1  0  0 -1  0]\n",
            "  [ 0  0  0  0 -1 -1  0  0  0  0]\n",
            "  [-1 -1  0  0  0 -1  0  0  0  0]\n",
            "  [ 0 -1  0  0  0  0  0  0 -1  2]]]\n"
          ]
        }
      ]
    },
    {
      "cell_type": "code",
      "source": [
        ""
      ],
      "metadata": {
        "id": "vZ_XZAP85nzU"
      },
      "execution_count": null,
      "outputs": []
    }
  ]
}