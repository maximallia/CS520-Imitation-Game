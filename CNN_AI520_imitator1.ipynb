{
  "nbformat": 4,
  "nbformat_minor": 0,
  "metadata": {
    "colab": {
      "name": "CNN_AI520_imitator1.ipynb",
      "provenance": [],
      "collapsed_sections": []
    },
    "kernelspec": {
      "name": "python3",
      "display_name": "Python 3"
    },
    "language_info": {
      "name": "python"
    },
    "accelerator": "GPU"
  },
  "cells": [
    {
      "cell_type": "code",
      "execution_count": null,
      "metadata": {
        "id": "l25QpfTRg4_5"
      },
      "outputs": [],
      "source": [
        "import numpy as np\n",
        "import tensorflow as tf\n",
        "import os"
      ]
    },
    {
      "cell_type": "code",
      "source": [
        "# Text file data converted to integer data type\n",
        "from google.colab import drive\n",
        "drive.mount('/content/gdrive')\n",
        "\n",
        "%cd /content/gdrive/My\\ Drive/Colab\\ Notebooks/AI_project\n"
      ],
      "metadata": {
        "colab": {
          "base_uri": "https://localhost:8080/"
        },
        "id": "JLP89mGOg_Fi",
        "outputId": "628a6dc9-c118-4a74-c7d5-995819904758"
      },
      "execution_count": null,
      "outputs": [
        {
          "output_type": "stream",
          "name": "stdout",
          "text": [
            "Mounted at /content/gdrive\n",
            "/content/gdrive/My Drive/Colab Notebooks/AI_project\n"
          ]
        }
      ]
    },
    {
      "cell_type": "code",
      "source": [
        "!pwd"
      ],
      "metadata": {
        "colab": {
          "base_uri": "https://localhost:8080/"
        },
        "id": "NaB36lIZA0BU",
        "outputId": "b0775f07-d0ff-42e1-ed58-76a4048c331f"
      },
      "execution_count": null,
      "outputs": [
        {
          "output_type": "stream",
          "name": "stdout",
          "text": [
            "/content/gdrive/My Drive/Colab Notebooks/AI_project\n"
          ]
        }
      ]
    },
    {
      "cell_type": "code",
      "source": [
        "#Load txt file\n",
        "def getRawData(string):\n",
        "  lines = []\n",
        "\n",
        "  f = open(string, \"r\")\n",
        "\n",
        "  lines = f.readlines()\n",
        "\n",
        "  return lines"
      ],
      "metadata": {
        "id": "NGIZKWmEhhlY"
      },
      "execution_count": null,
      "outputs": []
    },
    {
      "cell_type": "code",
      "source": [
        "#turns [0,0,0,1] into 4 for directions zero default \n",
        "def getDir(line):\n",
        "\tif(line[0] == '1'):\n",
        "\t\treturn 1\n",
        "\tif(line[1] == '1'):\n",
        "\t\treturn 2\n",
        "\tif(line[3] == '1'):\n",
        "\t\treturn 3\n",
        "\tif(line[4] == '1'):\n",
        "\t\treturn 4\n",
        "\treturn 0 "
      ],
      "metadata": {
        "id": "XiHHMG6hhvjD"
      },
      "execution_count": null,
      "outputs": []
    },
    {
      "cell_type": "code",
      "source": [
        "def genMatricies(lines):\n",
        "\tx_data = []\n",
        "\tx_row_list = []\n",
        "\ty_data = []\n",
        "\n",
        "\tfor x in range(0,len(lines)):\n",
        "\t\t# This is used to get rid of the \\n in the txt file\n",
        "\t\tif (x % 12 == 0):\n",
        "\t\t\tcontinue\n",
        "\t\t#/the 51th line is the direction vector\n",
        "\t\tif (x % 12 == 11):\n",
        "\t\t\ty_data.append(getDir(lines[x]))\n",
        "\t\t\t\n",
        "\t\t#everything else is the matrix\n",
        "\t\telse:\n",
        "\t\t\t#get each char we then convert it to string for tensorflow calcs\n",
        "\t\t\tfor sym in lines[x]:\n",
        "\t\t\t\ti = 0\n",
        "\t\t\t\tif(sym == 'X'):\n",
        "\t\t\t\t\ti = -1\n",
        "\t\t\t\telif(sym == '\\n'):\n",
        "\t\t\t\t\tcontinue\n",
        "\t\t\t\telif(sym == '2'):\n",
        "\t\t\t\t\ti = 2\n",
        "\t\t\t\telif(sym == '1'):\n",
        "\t\t\t\t\ti = 1\n",
        "\t\t\t\tx_row_list.append(i)\n",
        "\t\t\t#when we have 2500 chars we know we have a 50x50 make it an array and add it to list\n",
        "\t\t\tif(len(x_row_list) == 100):\n",
        "\t\t\t\tx_data.append(np.array(x_row_list).reshape(10,10))\n",
        "\t\t\t\tx_row_list = []\n",
        "\t\t\t# turn list into numpy array, turn numpy array into catagorical input\n",
        "\treturn (np.array(x_data),tf.keras.utils.to_categorical(np.array(y_data), 4))"
      ],
      "metadata": {
        "id": "XvOwsOg5hHuF"
      },
      "execution_count": null,
      "outputs": []
    },
    {
      "cell_type": "markdown",
      "source": [
        "DATA CREATION"
      ],
      "metadata": {
        "id": "wFrrHFj0nCos"
      }
    },
    {
      "cell_type": "code",
      "source": [
        "lines = getRawData(\"proto10_train.txt\")\n",
        "x1 ,y1 = genMatricies(lines)"
      ],
      "metadata": {
        "id": "3rH30bjFjXCw"
      },
      "execution_count": null,
      "outputs": []
    },
    {
      "cell_type": "code",
      "source": [
        "np.save('proto10_train_x1.npy', x1)\n"
      ],
      "metadata": {
        "id": "9KeVRMc9lBSb"
      },
      "execution_count": null,
      "outputs": []
    },
    {
      "cell_type": "code",
      "source": [
        "np.save('proto10_train_y1.npy', y1)"
      ],
      "metadata": {
        "id": "H1yF4xr9n2sq"
      },
      "execution_count": null,
      "outputs": []
    },
    {
      "cell_type": "code",
      "source": [
        "x1 = np.load(\"proto10_train_x1.npy\")\n",
        "y1 = np.load(\"proto10_train_y1.npy\")"
      ],
      "metadata": {
        "id": "xImbNIr-lBZT"
      },
      "execution_count": null,
      "outputs": []
    },
    {
      "cell_type": "code",
      "source": [
        "#train_x1 = np.load('proto50_500_train_x1.npy') \n",
        "#train_y1 = np.load('proto50_train_y1.npy')"
      ],
      "metadata": {
        "id": "fg3fkeBEnU3i"
      },
      "execution_count": null,
      "outputs": []
    },
    {
      "cell_type": "code",
      "source": [
        "#train_y1 = np.load('proto50_500_train_y1.npy')\n",
        "#train_y2 = np.load('proto50_train_y2.npy')\n",
        "#total_y = np.append(train_y1, train_y2)\n",
        "#np.save('proto50_train_total_y.npy', total_y)"
      ],
      "metadata": {
        "id": "his07Suipmny"
      },
      "execution_count": null,
      "outputs": []
    },
    {
      "cell_type": "markdown",
      "source": [
        "TRAINING AGENT"
      ],
      "metadata": {
        "id": "E2OngOqknFZW"
      }
    },
    {
      "cell_type": "code",
      "source": [
        "print(tf.config.list_physical_devices('GPU'))\n",
        "#checkpoint_path = \"/content/gdrive/My Drive/Colab Notebooks/AI_project/daniel_proto50_model/proto50_train\"\n",
        "checkpoint_path = \"/content/gdrive/My Drive/Colab Notebooks/AI_project/daniel_proto10_model/CNN/\"\n",
        "checkpoint_dir = os.path.dirname(checkpoint_path)\n",
        "EPOCHS_DEFAULT = 1"
      ],
      "metadata": {
        "colab": {
          "base_uri": "https://localhost:8080/"
        },
        "id": "KMb_Q0DWh1IO",
        "outputId": "133ca5b8-7a30-4df5-a1b9-800ac849a79e"
      },
      "execution_count": null,
      "outputs": [
        {
          "output_type": "stream",
          "name": "stdout",
          "text": [
            "[PhysicalDevice(name='/physical_device:GPU:0', device_type='GPU')]\n"
          ]
        }
      ]
    },
    {
      "cell_type": "code",
      "source": [
        ""
      ],
      "metadata": {
        "id": "WLJkiNNzh4bd"
      },
      "execution_count": null,
      "outputs": []
    },
    {
      "cell_type": "code",
      "source": [
        "from keras.models import Sequential\n",
        "from keras.layers import Dense, Conv2D, Flatten\n",
        "\n",
        "def buildModel():\n",
        "  global EPOCHS_DEFAULT\n",
        "\n",
        "  model = Sequential()\n",
        "  \n",
        "  #add model layers\n",
        "  model.add(Conv2D(16, kernel_size=3, activation= tf.nn.relu, input_shape=(10,10,1)))\n",
        "  #model.add(Conv2D(4, kernel_size=3, activation= tf.nn.relu))\n",
        "  model.add(Flatten())\n",
        "  model.add(Dense(4, activation= tf.nn.softmax))\n",
        "\n",
        "  model.compile(optimizer='adam', loss='categorical_crossentropy', metrics=['accuracy'])\n",
        "\n",
        "  return model\n"
      ],
      "metadata": {
        "id": "d7W2LnaDXYb6"
      },
      "execution_count": null,
      "outputs": []
    },
    {
      "cell_type": "code",
      "source": [
        "#train the model\n",
        "model = buildModel()\n",
        "\n",
        "\n",
        "#model.fit(x1, y1, validation_data=(X_test, y_test), epochs=3)"
      ],
      "metadata": {
        "id": "7XewuEbXkI54"
      },
      "execution_count": null,
      "outputs": []
    },
    {
      "cell_type": "code",
      "source": [
        "# this allows you to resume or expand upon training\n",
        "cp_callback = tf.keras.callbacks.ModelCheckpoint(filepath=checkpoint_path,\n",
        "                                                 save_weights_only=True,\n",
        "                                                 verbose=1)"
      ],
      "metadata": {
        "id": "kK3aA4R7h7I5"
      },
      "execution_count": null,
      "outputs": []
    },
    {
      "cell_type": "code",
      "source": [
        "#tf.test.is_gpu_available()"
      ],
      "metadata": {
        "id": "5TNEEJffaB-O"
      },
      "execution_count": null,
      "outputs": []
    },
    {
      "cell_type": "code",
      "source": [
        "model = buildModel()"
      ],
      "metadata": {
        "id": "VUCM6MDyJ9Df"
      },
      "execution_count": null,
      "outputs": []
    },
    {
      "cell_type": "code",
      "source": [
        "#model = buildModel()\n",
        "\n",
        "#model = tf.keras.models.load_model(checkpoint_path)\n",
        "\n",
        "history = model.fit(x1 , y1, epochs = EPOCHS_DEFAULT,\n",
        "          callbacks=[cp_callback] )\n"
      ],
      "metadata": {
        "colab": {
          "base_uri": "https://localhost:8080/"
        },
        "id": "PoPsbjQAh84M",
        "outputId": "8f8122ab-7f06-4bc2-9038-eabef9cbeb3b"
      },
      "execution_count": null,
      "outputs": [
        {
          "output_type": "stream",
          "name": "stdout",
          "text": [
            "26979/26983 [============================>.] - ETA: 0s - loss: 0.2683 - accuracy: 0.9065\n",
            "Epoch 00001: saving model to /content/gdrive/My Drive/Colab Notebooks/AI_project/daniel_proto10_model/CNN/\n",
            "26983/26983 [==============================] - 75s 3ms/step - loss: 0.2683 - accuracy: 0.9065\n"
          ]
        }
      ]
    },
    {
      "cell_type": "markdown",
      "source": [
        "TESTING"
      ],
      "metadata": {
        "id": "fKHEhpABrIyn"
      }
    },
    {
      "cell_type": "code",
      "source": [
        "def getTestData(string):\n",
        "  lines = []\n",
        "\n",
        "  f = open(string, \"r\")\n",
        "\n",
        "  lines = f.readlines()\n",
        "\n",
        "  return lines"
      ],
      "metadata": {
        "id": "EVpXhJ7jFev1"
      },
      "execution_count": null,
      "outputs": []
    },
    {
      "cell_type": "code",
      "source": [
        "test_lines = getTestData(\"proto10_test.txt\")\n",
        "\n",
        "tx,ty = genMatricies(test_lines)"
      ],
      "metadata": {
        "id": "zNvWUtbfFobs"
      },
      "execution_count": null,
      "outputs": []
    },
    {
      "cell_type": "code",
      "source": [
        "np.save('proto10_test_x1.npy', tx)\n",
        "np.save('proto10_test_y1.npy', ty)"
      ],
      "metadata": {
        "id": "nUPt3x6XFwwr"
      },
      "execution_count": null,
      "outputs": []
    },
    {
      "cell_type": "code",
      "source": [
        "tx = np.load('proto10_test_x1.npy')\n",
        "ty = np.load('proto10_test_y1.npy')"
      ],
      "metadata": {
        "id": "zA0idStunRfu"
      },
      "execution_count": null,
      "outputs": []
    },
    {
      "cell_type": "code",
      "source": [
        "#compile model using accuracy to measure model performance\n",
        "model.compile(optimizer='adam', loss='categorical_crossentropy', metrics=['accuracy'])"
      ],
      "metadata": {
        "id": "Ww2MBvpzh-Mz"
      },
      "execution_count": null,
      "outputs": []
    },
    {
      "cell_type": "code",
      "source": [
        "\n",
        "model.fit(x1, y1, validation_data=(tx, ty), epochs=2)"
      ],
      "metadata": {
        "colab": {
          "base_uri": "https://localhost:8080/"
        },
        "id": "i_0CsJechD5o",
        "outputId": "d9baef91-23ad-4c89-bfb7-a13ed6597437"
      },
      "execution_count": null,
      "outputs": [
        {
          "output_type": "stream",
          "name": "stdout",
          "text": [
            "Epoch 1/2\n",
            "26983/26983 [==============================] - 87s 3ms/step - loss: 0.1537 - accuracy: 0.9520 - val_loss: 0.1812 - val_accuracy: 0.9462\n",
            "Epoch 2/2\n",
            "26983/26983 [==============================] - 86s 3ms/step - loss: 0.1397 - accuracy: 0.9560 - val_loss: 0.1699 - val_accuracy: 0.9505\n"
          ]
        },
        {
          "output_type": "execute_result",
          "data": {
            "text/plain": [
              "<keras.callbacks.History at 0x7fbc3421bf50>"
            ]
          },
          "metadata": {},
          "execution_count": 67
        }
      ]
    },
    {
      "cell_type": "code",
      "source": [
        ""
      ],
      "metadata": {
        "id": "dsqR0S4FnA6l"
      },
      "execution_count": null,
      "outputs": []
    },
    {
      "cell_type": "markdown",
      "source": [
        "GEN MAZE"
      ],
      "metadata": {
        "id": "neIpYX5GztS6"
      }
    },
    {
      "cell_type": "code",
      "source": [
        "#map constructor\n",
        "from random import randint\n",
        "from matplotlib import pyplot as plot\n"
      ],
      "metadata": {
        "id": "l-fx458rzuJn"
      },
      "execution_count": null,
      "outputs": []
    },
    {
      "cell_type": "code",
      "source": [
        "#size of each grid\n",
        "grid_size = 10\n",
        "#dim x dim for maze\n",
        "size = int(10)\n",
        "#prob of wall appearance (0~1)\n",
        "p_wall = 30"
      ],
      "metadata": {
        "id": "sEIULhqAz1i5"
      },
      "execution_count": null,
      "outputs": []
    },
    {
      "cell_type": "code",
      "source": [
        "maze= [['w' for _ in range(size)]for _ in range(size)]"
      ],
      "metadata": {
        "id": "jR2Ff3taz1lR"
      },
      "execution_count": null,
      "outputs": []
    },
    {
      "cell_type": "code",
      "source": [
        "def createMaze():\n",
        "\n",
        "  x_data = []\n",
        "  x_row_list = []\n",
        "\n",
        "  for row in range(size):\n",
        "      for col in range(size):\n",
        "          s = randint(1,100)\n",
        "          p = p_wall\n",
        "          if s<=p:\n",
        "            maze[row][col] = 'X'\n",
        "          else:\n",
        "            maze[row][col] = '0'\n",
        "            \n",
        "  maze[0][0]= '0'\n",
        "  maze[size-1][size-1] = '2'"
      ],
      "metadata": {
        "id": "pOlFIRTSz1no"
      },
      "execution_count": null,
      "outputs": []
    },
    {
      "cell_type": "code",
      "source": [
        "createMaze()"
      ],
      "metadata": {
        "id": "Gda3XniD0Kr6"
      },
      "execution_count": null,
      "outputs": []
    },
    {
      "cell_type": "code",
      "source": [
        "print(maze)"
      ],
      "metadata": {
        "colab": {
          "base_uri": "https://localhost:8080/"
        },
        "id": "xFlFEMP4SG4Z",
        "outputId": "f0e8eb13-efe1-46b2-c8ab-94bd87c7e176"
      },
      "execution_count": null,
      "outputs": [
        {
          "output_type": "stream",
          "name": "stdout",
          "text": [
            "[['0', 'X', '0', 'X', 'X', '0', 'X', '0', '0', 'X'], ['0', 'X', '0', '0', 'X', '0', '0', '0', '0', '0'], ['X', '0', '0', '0', 'X', '0', '0', 'X', 'X', 'X'], ['X', '0', '0', '0', '0', '0', 'X', 'X', '0', 'X'], ['0', '0', 'X', '0', '0', '0', 'X', '0', '0', 'X'], ['0', '0', '0', '0', '0', 'X', '0', '0', 'X', 'X'], ['0', '0', 'X', 'X', '0', '0', 'X', '0', '0', 'X'], ['X', 'X', '0', '0', '0', '0', '0', 'X', '0', '0'], ['0', '0', '0', 'X', '0', '0', '0', '0', '0', '0'], ['0', '0', '0', 'X', '0', '0', 'X', '0', '0', '2']]\n"
          ]
        }
      ]
    },
    {
      "cell_type": "code",
      "source": [
        "def genMaze(size):\n",
        "  x_data = []\n",
        "  x_row_list = []\n",
        "\n",
        "  for row in range(size):\n",
        "  #get each char we then convert it to string for tensorflow calcs\n",
        "    for col in maze[row]:\n",
        "      i = 0\n",
        "      if(col == 'X'):\n",
        "        i = -1\n",
        "      elif(col == '\\n'):\n",
        "        continue\n",
        "      elif(col == '2'):\n",
        "        i = 2\n",
        "      elif(col == '1'):\n",
        "        i = 1\n",
        "      x_row_list.append(i)\n",
        "    #when we have 2500 chars we know we have a 50x50 make it an array and add it to list\n",
        "  if(len(x_row_list) == 100):\n",
        "    x_data.append(np.array(x_row_list).reshape(10,10))\n",
        "    x_row_list = []\n",
        "  # turn list into numpy array, turn numpy array into catagorical input\n",
        "  return np.array(x_data)"
      ],
      "metadata": {
        "id": "1GlvGuwB0Kun"
      },
      "execution_count": null,
      "outputs": []
    },
    {
      "cell_type": "code",
      "source": [
        "def getDir(y_arr):\n",
        "  max = -9\n",
        "  idx = 0\n",
        "  curr = 0\n",
        "  for i in range(len(y_arr)):\n",
        "    if y_arr[i] > max:\n",
        "      idx = i\n",
        "  \n",
        "  dir = [0,0,0,0]\n",
        "  dir[idx] = 1\n",
        "  \n",
        "  \n",
        "  return dir"
      ],
      "metadata": {
        "id": "sGj-6oSFWzh4"
      },
      "execution_count": null,
      "outputs": []
    },
    {
      "cell_type": "code",
      "source": [
        "new_maze = genMaze(size)"
      ],
      "metadata": {
        "id": "DG3rtwWk0KxE"
      },
      "execution_count": null,
      "outputs": []
    },
    {
      "cell_type": "code",
      "source": [
        "print(new_maze)"
      ],
      "metadata": {
        "colab": {
          "base_uri": "https://localhost:8080/"
        },
        "id": "wqEfTkWoR9qK",
        "outputId": "e7c5d175-c152-45e6-8308-940c2c5cdbff"
      },
      "execution_count": null,
      "outputs": [
        {
          "output_type": "stream",
          "name": "stdout",
          "text": [
            "[[[ 0  0  0  0  0  0  0 -1  0 -1]\n",
            "  [ 0  0  0  0  0  0  0  0  0 -1]\n",
            "  [ 0  0  0  0  0  0  0  0  0  0]\n",
            "  [-1  0  0 -1  0  0  0  0 -1 -1]\n",
            "  [-1  0 -1  0  0 -1  0  0  0 -1]\n",
            "  [ 0 -1 -1  0 -1  0 -1 -1 -1  0]\n",
            "  [ 0  0  0  0  0  0 -1  0 -1  0]\n",
            "  [-1  0  0  0  0  0  0  0  0  0]\n",
            "  [-1  0  0 -1  0  0  0  0  0  0]\n",
            "  [ 0  0  0  0  0  0  0  0  0  2]]]\n"
          ]
        }
      ]
    },
    {
      "cell_type": "code",
      "source": [
        "maze= [['w' for _ in range(size)]for _ in range(size)]\n",
        "createMaze()\n",
        "new_maze = genMaze(size)\n",
        "new_maze[0][0][0] = 1\n",
        "print(new_maze)"
      ],
      "metadata": {
        "id": "wkBqCCf9Lg1M",
        "colab": {
          "base_uri": "https://localhost:8080/"
        },
        "outputId": "de8630bb-9cbf-4160-ec39-4bbf0c62ce7a"
      },
      "execution_count": null,
      "outputs": [
        {
          "output_type": "stream",
          "name": "stdout",
          "text": [
            "[[[ 1  0  0  0  0  0  0 -1  0 -1]\n",
            "  [ 0  0  0  0  0  0  0  0  0 -1]\n",
            "  [ 0  0  0  0  0  0  0  0  0  0]\n",
            "  [-1  0  0 -1  0  0  0  0 -1 -1]\n",
            "  [-1  0 -1  0  0 -1  0  0  0 -1]\n",
            "  [ 0 -1 -1  0 -1  0 -1 -1 -1  0]\n",
            "  [ 0  0  0  0  0  0 -1  0 -1  0]\n",
            "  [-1  0  0  0  0  0  0  0  0  0]\n",
            "  [-1  0  0 -1  0  0  0  0  0  0]\n",
            "  [ 0  0  0  0  0  0  0  0  0  2]]]\n"
          ]
        }
      ]
    },
    {
      "cell_type": "code",
      "source": [
        "print(tx[:15])\n",
        "direct = model.predict(tx[:15])"
      ],
      "metadata": {
        "colab": {
          "base_uri": "https://localhost:8080/"
        },
        "id": "6VcjDjVaSnY8",
        "outputId": "387d471a-2d3c-4277-c5e4-3f4a1c681489"
      },
      "execution_count": null,
      "outputs": [
        {
          "output_type": "stream",
          "name": "stdout",
          "text": [
            "[[[ 0  0  0 ...  0  0  0]\n",
            "  [ 0  0  0 ...  0  0  0]\n",
            "  [ 0  0  0 ...  0  0  0]\n",
            "  ...\n",
            "  [ 0  0  0 ...  0  0  0]\n",
            "  [ 0  0  0 ...  0  0  0]\n",
            "  [ 0  0  0 ...  0  0  2]]\n",
            "\n",
            " [[ 0  1  0 ...  0  0  0]\n",
            "  [ 0  0  0 ...  0  0  0]\n",
            "  [ 0  0  0 ...  0  0  0]\n",
            "  ...\n",
            "  [ 0  0  0 ...  0  0  0]\n",
            "  [ 0  0  0 ...  0  0  0]\n",
            "  [ 0  0  0 ...  0  0  2]]\n",
            "\n",
            " [[ 0  0  0 ...  0  0  0]\n",
            "  [ 0  1  0 ...  0  0  0]\n",
            "  [ 0  0  0 ...  0  0  0]\n",
            "  ...\n",
            "  [ 0  0  0 ...  0  0  0]\n",
            "  [ 0  0  0 ...  0  0  0]\n",
            "  [ 0  0  0 ...  0  0  2]]\n",
            "\n",
            " ...\n",
            "\n",
            " [[ 0  0  0 ...  0  0  0]\n",
            "  [ 0  0  0 ...  0  0  0]\n",
            "  [ 0  0 -1 ...  0  0  0]\n",
            "  ...\n",
            "  [ 0  0  0 ...  0  0  0]\n",
            "  [ 0  0  0 ...  0  0  0]\n",
            "  [ 0  0  0 ...  0  0  2]]\n",
            "\n",
            " [[ 0  0  0 ...  0  0  0]\n",
            "  [ 0  0  0 ...  0  0  0]\n",
            "  [ 0  0 -1 ...  0  0  0]\n",
            "  ...\n",
            "  [ 0  0  0 ... -1  0  0]\n",
            "  [ 0  0  0 ...  0  0  0]\n",
            "  [ 0  0  0 ...  0  0  2]]\n",
            "\n",
            " [[ 0  0  0 ...  0  0  0]\n",
            "  [ 0  0  0 ...  0  0  0]\n",
            "  [ 0  0 -1 ...  0  0  0]\n",
            "  ...\n",
            "  [ 0  0  0 ... -1 -1  0]\n",
            "  [ 0  0  0 ...  0  0  0]\n",
            "  [ 0  0  0 ...  0  0  2]]]\n"
          ]
        }
      ]
    },
    {
      "cell_type": "code",
      "source": [
        "print(direct[:15])"
      ],
      "metadata": {
        "colab": {
          "base_uri": "https://localhost:8080/"
        },
        "id": "e57vW9cUJASd",
        "outputId": "89217299-9e65-4243-8207-31c25908b7cc"
      },
      "execution_count": null,
      "outputs": [
        {
          "output_type": "stream",
          "name": "stdout",
          "text": [
            "[[9.99617100e-01 1.94648155e-08 1.22299156e-04 2.60579371e-04]\n",
            " [2.48855300e-04 1.98699240e-07 4.84474526e-07 9.99750435e-01]\n",
            " [8.42925947e-05 1.11523896e-05 9.99904156e-01 3.27446685e-07]\n",
            " [1.51996464e-05 2.33682940e-07 3.88710859e-08 9.99984622e-01]\n",
            " [8.08173352e-16 1.45111380e-11 1.26183644e-04 9.99873757e-01]\n",
            " [2.27650574e-14 1.07435771e-09 9.99999762e-01 2.27224731e-07]\n",
            " [6.87057300e-09 8.95987541e-05 9.99693274e-01 2.17074077e-04]\n",
            " [5.18214269e-13 4.34077644e-12 2.72932346e-04 9.99727070e-01]\n",
            " [1.64320070e-18 8.92790819e-09 1.86273886e-04 9.99813735e-01]\n",
            " [1.65555849e-31 5.87883582e-22 3.97095638e-12 1.00000000e+00]\n",
            " [5.12953883e-21 9.02542624e-12 9.99986172e-01 1.38547884e-05]\n",
            " [3.40053593e-12 1.49209100e-05 9.96995926e-01 2.98905442e-03]\n",
            " [1.29466172e-26 7.40924674e-20 1.00000000e+00 1.71133081e-08]\n",
            " [1.15664745e-36 9.84062071e-25 1.92507196e-06 9.99998093e-01]\n",
            " [0.00000000e+00 5.23802014e-25 1.62970679e-10 1.00000000e+00]]\n"
          ]
        }
      ]
    },
    {
      "cell_type": "code",
      "source": [
        "for i in range(15):\n",
        "  print(getDir(direct[i]))"
      ],
      "metadata": {
        "id": "L541gGXpVhh5",
        "colab": {
          "base_uri": "https://localhost:8080/"
        },
        "outputId": "35e0c1fc-bd6d-4058-9fd2-c19ac7d5e4e4"
      },
      "execution_count": null,
      "outputs": [
        {
          "output_type": "stream",
          "name": "stdout",
          "text": [
            "[0, 0, 0, 1]\n",
            "[0, 0, 0, 1]\n",
            "[0, 0, 0, 1]\n",
            "[0, 0, 0, 1]\n",
            "[0, 0, 0, 1]\n",
            "[0, 0, 0, 1]\n",
            "[0, 0, 0, 1]\n",
            "[0, 0, 0, 1]\n",
            "[0, 0, 0, 1]\n",
            "[0, 0, 0, 1]\n",
            "[0, 0, 0, 1]\n",
            "[0, 0, 0, 1]\n",
            "[0, 0, 0, 1]\n",
            "[0, 0, 0, 1]\n",
            "[0, 0, 0, 1]\n"
          ]
        }
      ]
    },
    {
      "cell_type": "code",
      "source": [
        "print(tx[:10])"
      ],
      "metadata": {
        "colab": {
          "base_uri": "https://localhost:8080/"
        },
        "id": "9Fq55ASbXd9z",
        "outputId": "a135d867-b100-4462-a3b8-e80370700fc6"
      },
      "execution_count": null,
      "outputs": [
        {
          "output_type": "stream",
          "name": "stdout",
          "text": [
            "[[[ 0  0  0  0  0  0  0  0  0  0]\n",
            "  [ 0  0  0  0  0  0  0  0  0  0]\n",
            "  [ 0  0  0  0  0  0  0  0  0  0]\n",
            "  [ 0  0  0  0  0  0  0  0  0  0]\n",
            "  [ 0  0  0  0  0  0  0  0  0  0]\n",
            "  [ 0  0  0  0  0  0  0  0  0  0]\n",
            "  [ 0  0  0  0  0  0  0  0  0  0]\n",
            "  [ 0  0  0  0  0  0  0  0  0  0]\n",
            "  [ 0  0  0  0  0  0  0  0  0  0]\n",
            "  [ 0  0  0  0  0  0  0  0  0  2]]\n",
            "\n",
            " [[ 0  1  0  0  0  0  0  0  0  0]\n",
            "  [ 0  0  0  0  0  0  0  0  0  0]\n",
            "  [ 0  0  0  0  0  0  0  0  0  0]\n",
            "  [ 0  0  0  0  0  0  0  0  0  0]\n",
            "  [ 0  0  0  0  0  0  0  0  0  0]\n",
            "  [ 0  0  0  0  0  0  0  0  0  0]\n",
            "  [ 0  0  0  0  0  0  0  0  0  0]\n",
            "  [ 0  0  0  0  0  0  0  0  0  0]\n",
            "  [ 0  0  0  0  0  0  0  0  0  0]\n",
            "  [ 0  0  0  0  0  0  0  0  0  2]]\n",
            "\n",
            " [[ 0  0  0  0  0  0  0  0  0  0]\n",
            "  [ 0  1  0  0  0  0  0  0  0  0]\n",
            "  [ 0  0  0  0  0  0  0  0  0  0]\n",
            "  [ 0  0  0  0  0  0  0  0  0  0]\n",
            "  [ 0  0  0  0  0  0  0  0  0  0]\n",
            "  [ 0  0  0  0  0  0  0  0  0  0]\n",
            "  [ 0  0  0  0  0  0  0  0  0  0]\n",
            "  [ 0  0  0  0  0  0  0  0  0  0]\n",
            "  [ 0  0  0  0  0  0  0  0  0  0]\n",
            "  [ 0  0  0  0  0  0  0  0  0  2]]\n",
            "\n",
            " [[ 0  0  0  0  0  0  0  0  0  0]\n",
            "  [ 0  0  1  0  0  0  0  0  0  0]\n",
            "  [ 0  0 -1  0  0  0  0  0  0  0]\n",
            "  [ 0  0  0  0  0  0  0  0  0  0]\n",
            "  [ 0  0  0  0  0  0  0  0  0  0]\n",
            "  [ 0  0  0  0  0  0  0  0  0  0]\n",
            "  [ 0  0  0  0  0  0  0  0  0  0]\n",
            "  [ 0  0  0  0  0  0  0  0  0  0]\n",
            "  [ 0  0  0  0  0  0  0  0  0  0]\n",
            "  [ 0  0  0  0  0  0  0  0  0  2]]\n",
            "\n",
            " [[ 0  0  0  0  0  0  0  0  0  0]\n",
            "  [ 0  0  0  1  0  0  0  0  0  0]\n",
            "  [ 0  0 -1  0  0  0  0  0  0  0]\n",
            "  [ 0  0  0  0  0  0  0  0  0  0]\n",
            "  [ 0  0  0  0  0  0  0  0  0  0]\n",
            "  [ 0  0  0  0  0  0  0  0  0  0]\n",
            "  [ 0  0  0  0  0  0  0  0  0  0]\n",
            "  [ 0  0  0  0  0  0  0  0  0  0]\n",
            "  [ 0  0  0  0  0  0  0  0  0  0]\n",
            "  [ 0  0  0  0  0  0  0  0  0  2]]\n",
            "\n",
            " [[ 0  0  0  0  0  0  0  0  0  0]\n",
            "  [ 0  0  0  0  0  0  0  0  0  0]\n",
            "  [ 0  0 -1  1  0  0  0  0  0  0]\n",
            "  [ 0  0  0  0  0  0  0  0  0  0]\n",
            "  [ 0  0  0  0  0  0  0  0  0  0]\n",
            "  [ 0  0  0  0  0  0  0  0  0  0]\n",
            "  [ 0  0  0  0  0  0  0  0  0  0]\n",
            "  [ 0  0  0  0  0  0  0  0  0  0]\n",
            "  [ 0  0  0  0  0  0  0  0  0  0]\n",
            "  [ 0  0  0  0  0  0  0  0  0  2]]\n",
            "\n",
            " [[ 0  0  0  0  0  0  0  0  0  0]\n",
            "  [ 0  0  0  0  0  0  0  0  0  0]\n",
            "  [ 0  0 -1  0  0  0  0  0  0  0]\n",
            "  [ 0  0  0  1  0  0  0  0  0  0]\n",
            "  [ 0  0  0  0  0  0  0  0  0  0]\n",
            "  [ 0  0  0  0  0  0  0  0  0  0]\n",
            "  [ 0  0  0  0  0  0  0  0  0  0]\n",
            "  [ 0  0  0  0  0  0  0  0  0  0]\n",
            "  [ 0  0  0  0  0  0  0  0  0  0]\n",
            "  [ 0  0  0  0  0  0  0  0  0  2]]\n",
            "\n",
            " [[ 0  0  0  0  0  0  0  0  0  0]\n",
            "  [ 0  0  0  0  0  0  0  0  0  0]\n",
            "  [ 0  0 -1  0  0  0  0  0  0  0]\n",
            "  [ 0  0  0  0  1  0  0  0  0  0]\n",
            "  [ 0  0  0  0 -1  0  0  0  0  0]\n",
            "  [ 0  0  0  0  0  0  0  0  0  0]\n",
            "  [ 0  0  0  0  0  0  0  0  0  0]\n",
            "  [ 0  0  0  0  0  0  0  0  0  0]\n",
            "  [ 0  0  0  0  0  0  0  0  0  0]\n",
            "  [ 0  0  0  0  0  0  0  0  0  2]]\n",
            "\n",
            " [[ 0  0  0  0  0  0  0  0  0  0]\n",
            "  [ 0  0  0  0  0  0  0  0  0  0]\n",
            "  [ 0  0 -1  0  0  0  0  0  0  0]\n",
            "  [ 0  0  0  0  0  1  0  0  0  0]\n",
            "  [ 0  0  0  0 -1 -1  0  0  0  0]\n",
            "  [ 0  0  0  0  0  0  0  0  0  0]\n",
            "  [ 0  0  0  0  0  0  0  0  0  0]\n",
            "  [ 0  0  0  0  0  0  0  0  0  0]\n",
            "  [ 0  0  0  0  0  0  0  0  0  0]\n",
            "  [ 0  0  0  0  0  0  0  0  0  2]]\n",
            "\n",
            " [[ 0  0  0  0  0  0  0  0  0  0]\n",
            "  [ 0  0  0  0  0  0  0  0  0  0]\n",
            "  [ 0  0 -1  0  0  0  0  0  0  0]\n",
            "  [ 0  0  0  0  0  0  1  0  0  0]\n",
            "  [ 0  0  0  0 -1 -1  0  0  0  0]\n",
            "  [ 0  0  0  0  0  0  0  0  0  0]\n",
            "  [ 0  0  0  0  0  0  0  0  0  0]\n",
            "  [ 0  0  0  0  0  0  0  0  0  0]\n",
            "  [ 0  0  0  0  0  0  0  0  0  0]\n",
            "  [ 0  0  0  0  0  0  0  0  0  2]]]\n"
          ]
        }
      ]
    },
    {
      "cell_type": "code",
      "source": [
        ""
      ],
      "metadata": {
        "id": "st3T55SyMlmo"
      },
      "execution_count": null,
      "outputs": []
    }
  ]
}